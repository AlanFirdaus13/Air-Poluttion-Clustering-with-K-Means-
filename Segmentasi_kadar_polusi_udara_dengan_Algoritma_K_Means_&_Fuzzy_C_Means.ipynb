{
  "cells": [
    {
      "cell_type": "markdown",
      "metadata": {
        "id": "0CGxrtjRK4h-"
      },
      "source": [
        "# **Clustering Kadar Polusi Udara dengan Algortima K-Means**\n",
        "# Clustering with Python \n",
        "\n",
        "* Clustering merupakan sebuah teknik yang digunakan untuk menemukan sub-kelompok atau kluster. Prinsip dari clustering adalah data-data yang termasuk dalam kluster yang sama “diharapkan” memiliki kesamaan satu dengan yang lainnya, sedangkan data-data yang ada dalam kluster yang berbeda cukup berbeda dari satu kluster dengan cluster yang lainnya.\n",
        "\n",
        "* Meskipun tanpa label, clustering memanfaatkan “karakter/pola” pada data bahwa data yang “mirip” akan berdekatan, seperti pada gambar di samping.\n",
        "\n",
        "<div align=\"center\">\n",
        "<img src=\"https://miro.medium.com/max/1280/1*WkU1q0Cuha2QKU5JnkcZBw.gif\" width=50%/>\n",
        "</div>"
      ]
    },
    {
      "cell_type": "markdown",
      "source": [
        "# **1. Data Preparation**\n",
        "\n",
        "* Namun, tujuan kita tidak akan membuat sebuah sistem rekomendasi, melainkan segmentasi kadar polusi udara. Segmentasi kadar polusi udara adalah proses membagi kadar polusi di udara berdasarkan karakteristik umum, seperti kadar polusi dari setiap zat kimia diudara, sehingga dapat dilakukan secara lebih efektif.\n",
        "\n",
        "> Beberapa keuntungan dari segmentasi kadar polusi udara seperti:\n",
        "* membuat sosialisasi yang terkustomisasi\n",
        "* menentukan fitur apa yang bisa dirilis untuk informasi tertentu\n",
        "* membuat prioritas wilayah dalam monitoring polusi udara\n",
        "* menentukan kadar polusi udara sesuai dengan segmen wilayah\n",
        "dan lainnya"
      ],
      "metadata": {
        "id": "eSQ8Me72waBt"
      }
    },
    {
      "cell_type": "markdown",
      "source": [
        "## **1.1 Import library dan datasheet yang digunakan**\n"
      ],
      "metadata": {
        "id": "HRv34-4zxfrF"
      }
    },
    {
      "cell_type": "code",
      "execution_count": null,
      "metadata": {
        "id": "DhMRUKduKuJO"
      },
      "outputs": [],
      "source": [
        "import numpy as np  # Library untuk komputasi matriks dan aljabar\n",
        "import matplotlib.pyplot as plt # Library untuk visualisasi data \n",
        "import pandas as pd   # Library untuk dataframe \n",
        "import seaborn as sns # Library untuk visualisasi data\n",
        "\n",
        "from sklearn.metrics import silhouette_score\n",
        "from yellowbrick.cluster import SilhouetteVisualizer\n",
        "\n",
        "%matplotlib inline     \n",
        "sns.set(color_codes=True)\n",
        "sns.set_theme(style=\"whitegrid\")\n",
        "plt.style.use('bmh')"
      ]
    },
    {
      "cell_type": "markdown",
      "source": [
        "## Datasheet Polusi Udara \n",
        "\n",
        "\n",
        "> **Insights**\n",
        "\n",
        "* Data yang digunakan merupakan data yang diperoleh dari hasil observasi polusi udara yang dilakukan dijalan lingkar selatan kota cilegon "
      ],
      "metadata": {
        "id": "nwkQzDV-Tv5E"
      }
    },
    {
      "cell_type": "code",
      "source": [
        "# download datasheet yang digunakan \n",
        "!wget \"https://raw.githubusercontent.com/myprojectalan/Datasheet/master/20220820T040431Z.alfirizkinau.Hasil_penelitian.xK3k3NWm.csv\""
      ],
      "metadata": {
        "colab": {
          "base_uri": "https://localhost:8080/"
        },
        "id": "O54KHULz24Np",
        "outputId": "21a46b75-4ae9-401b-99e0-4442d7807415"
      },
      "execution_count": null,
      "outputs": [
        {
          "output_type": "stream",
          "name": "stdout",
          "text": [
            "--2022-09-13 23:05:14--  https://raw.githubusercontent.com/myprojectalan/Datasheet/master/20220820T040431Z.alfirizkinau.Hasil_penelitian.xK3k3NWm.csv\n",
            "Resolving raw.githubusercontent.com (raw.githubusercontent.com)... 185.199.108.133, 185.199.109.133, 185.199.110.133, ...\n",
            "Connecting to raw.githubusercontent.com (raw.githubusercontent.com)|185.199.108.133|:443... connected.\n",
            "HTTP request sent, awaiting response... 200 OK\n",
            "Length: 26283 (26K) [text/plain]\n",
            "Saving to: ‘20220820T040431Z.alfirizkinau.Hasil_penelitian.xK3k3NWm.csv.2’\n",
            "\n",
            "\r          20220820T   0%[                    ]       0  --.-KB/s               \r20220820T040431Z.al 100%[===================>]  25.67K  --.-KB/s    in 0s      \n",
            "\n",
            "2022-09-13 23:05:14 (82.8 MB/s) - ‘20220820T040431Z.alfirizkinau.Hasil_penelitian.xK3k3NWm.csv.2’ saved [26283/26283]\n",
            "\n"
          ]
        }
      ]
    },
    {
      "cell_type": "code",
      "execution_count": null,
      "metadata": {
        "colab": {
          "base_uri": "https://localhost:8080/",
          "height": 363
        },
        "id": "2G9-zZDVLZj2",
        "outputId": "f8718e66-1350-49f8-d644-5f6eea0094b1"
      },
      "outputs": [
        {
          "output_type": "execute_result",
          "data": {
            "text/plain": [
              "     Co   Co2  Humi   NH4  Temp\n",
              "0  3.74  2.74  70.9  4.18  30.8\n",
              "1  3.65  2.69  70.9  4.13  30.8\n",
              "2  3.61  2.67  70.9  4.10  30.8\n",
              "3  3.82  2.78  70.9  4.24  30.8\n",
              "4  3.73  2.73  70.9  4.18  30.9\n",
              "5  4.29  3.03  71.7  4.56  30.9\n",
              "6  4.29  3.03  71.7  4.56  30.9\n",
              "7  3.13  2.41  70.7  3.74  30.9\n",
              "8  3.13  2.41  70.7  3.74  30.9\n",
              "9  2.91  2.28  70.5  3.57  30.9"
            ],
            "text/html": [
              "\n",
              "  <div id=\"df-478dbc01-4627-427a-8319-e91001b2440f\">\n",
              "    <div class=\"colab-df-container\">\n",
              "      <div>\n",
              "<style scoped>\n",
              "    .dataframe tbody tr th:only-of-type {\n",
              "        vertical-align: middle;\n",
              "    }\n",
              "\n",
              "    .dataframe tbody tr th {\n",
              "        vertical-align: top;\n",
              "    }\n",
              "\n",
              "    .dataframe thead th {\n",
              "        text-align: right;\n",
              "    }\n",
              "</style>\n",
              "<table border=\"1\" class=\"dataframe\">\n",
              "  <thead>\n",
              "    <tr style=\"text-align: right;\">\n",
              "      <th></th>\n",
              "      <th>Co</th>\n",
              "      <th>Co2</th>\n",
              "      <th>Humi</th>\n",
              "      <th>NH4</th>\n",
              "      <th>Temp</th>\n",
              "    </tr>\n",
              "  </thead>\n",
              "  <tbody>\n",
              "    <tr>\n",
              "      <th>0</th>\n",
              "      <td>3.74</td>\n",
              "      <td>2.74</td>\n",
              "      <td>70.9</td>\n",
              "      <td>4.18</td>\n",
              "      <td>30.8</td>\n",
              "    </tr>\n",
              "    <tr>\n",
              "      <th>1</th>\n",
              "      <td>3.65</td>\n",
              "      <td>2.69</td>\n",
              "      <td>70.9</td>\n",
              "      <td>4.13</td>\n",
              "      <td>30.8</td>\n",
              "    </tr>\n",
              "    <tr>\n",
              "      <th>2</th>\n",
              "      <td>3.61</td>\n",
              "      <td>2.67</td>\n",
              "      <td>70.9</td>\n",
              "      <td>4.10</td>\n",
              "      <td>30.8</td>\n",
              "    </tr>\n",
              "    <tr>\n",
              "      <th>3</th>\n",
              "      <td>3.82</td>\n",
              "      <td>2.78</td>\n",
              "      <td>70.9</td>\n",
              "      <td>4.24</td>\n",
              "      <td>30.8</td>\n",
              "    </tr>\n",
              "    <tr>\n",
              "      <th>4</th>\n",
              "      <td>3.73</td>\n",
              "      <td>2.73</td>\n",
              "      <td>70.9</td>\n",
              "      <td>4.18</td>\n",
              "      <td>30.9</td>\n",
              "    </tr>\n",
              "    <tr>\n",
              "      <th>5</th>\n",
              "      <td>4.29</td>\n",
              "      <td>3.03</td>\n",
              "      <td>71.7</td>\n",
              "      <td>4.56</td>\n",
              "      <td>30.9</td>\n",
              "    </tr>\n",
              "    <tr>\n",
              "      <th>6</th>\n",
              "      <td>4.29</td>\n",
              "      <td>3.03</td>\n",
              "      <td>71.7</td>\n",
              "      <td>4.56</td>\n",
              "      <td>30.9</td>\n",
              "    </tr>\n",
              "    <tr>\n",
              "      <th>7</th>\n",
              "      <td>3.13</td>\n",
              "      <td>2.41</td>\n",
              "      <td>70.7</td>\n",
              "      <td>3.74</td>\n",
              "      <td>30.9</td>\n",
              "    </tr>\n",
              "    <tr>\n",
              "      <th>8</th>\n",
              "      <td>3.13</td>\n",
              "      <td>2.41</td>\n",
              "      <td>70.7</td>\n",
              "      <td>3.74</td>\n",
              "      <td>30.9</td>\n",
              "    </tr>\n",
              "    <tr>\n",
              "      <th>9</th>\n",
              "      <td>2.91</td>\n",
              "      <td>2.28</td>\n",
              "      <td>70.5</td>\n",
              "      <td>3.57</td>\n",
              "      <td>30.9</td>\n",
              "    </tr>\n",
              "  </tbody>\n",
              "</table>\n",
              "</div>\n",
              "      <button class=\"colab-df-convert\" onclick=\"convertToInteractive('df-478dbc01-4627-427a-8319-e91001b2440f')\"\n",
              "              title=\"Convert this dataframe to an interactive table.\"\n",
              "              style=\"display:none;\">\n",
              "        \n",
              "  <svg xmlns=\"http://www.w3.org/2000/svg\" height=\"24px\"viewBox=\"0 0 24 24\"\n",
              "       width=\"24px\">\n",
              "    <path d=\"M0 0h24v24H0V0z\" fill=\"none\"/>\n",
              "    <path d=\"M18.56 5.44l.94 2.06.94-2.06 2.06-.94-2.06-.94-.94-2.06-.94 2.06-2.06.94zm-11 1L8.5 8.5l.94-2.06 2.06-.94-2.06-.94L8.5 2.5l-.94 2.06-2.06.94zm10 10l.94 2.06.94-2.06 2.06-.94-2.06-.94-.94-2.06-.94 2.06-2.06.94z\"/><path d=\"M17.41 7.96l-1.37-1.37c-.4-.4-.92-.59-1.43-.59-.52 0-1.04.2-1.43.59L10.3 9.45l-7.72 7.72c-.78.78-.78 2.05 0 2.83L4 21.41c.39.39.9.59 1.41.59.51 0 1.02-.2 1.41-.59l7.78-7.78 2.81-2.81c.8-.78.8-2.07 0-2.86zM5.41 20L4 18.59l7.72-7.72 1.47 1.35L5.41 20z\"/>\n",
              "  </svg>\n",
              "      </button>\n",
              "      \n",
              "  <style>\n",
              "    .colab-df-container {\n",
              "      display:flex;\n",
              "      flex-wrap:wrap;\n",
              "      gap: 12px;\n",
              "    }\n",
              "\n",
              "    .colab-df-convert {\n",
              "      background-color: #E8F0FE;\n",
              "      border: none;\n",
              "      border-radius: 50%;\n",
              "      cursor: pointer;\n",
              "      display: none;\n",
              "      fill: #1967D2;\n",
              "      height: 32px;\n",
              "      padding: 0 0 0 0;\n",
              "      width: 32px;\n",
              "    }\n",
              "\n",
              "    .colab-df-convert:hover {\n",
              "      background-color: #E2EBFA;\n",
              "      box-shadow: 0px 1px 2px rgba(60, 64, 67, 0.3), 0px 1px 3px 1px rgba(60, 64, 67, 0.15);\n",
              "      fill: #174EA6;\n",
              "    }\n",
              "\n",
              "    [theme=dark] .colab-df-convert {\n",
              "      background-color: #3B4455;\n",
              "      fill: #D2E3FC;\n",
              "    }\n",
              "\n",
              "    [theme=dark] .colab-df-convert:hover {\n",
              "      background-color: #434B5C;\n",
              "      box-shadow: 0px 1px 3px 1px rgba(0, 0, 0, 0.15);\n",
              "      filter: drop-shadow(0px 1px 2px rgba(0, 0, 0, 0.3));\n",
              "      fill: #FFFFFF;\n",
              "    }\n",
              "  </style>\n",
              "\n",
              "      <script>\n",
              "        const buttonEl =\n",
              "          document.querySelector('#df-478dbc01-4627-427a-8319-e91001b2440f button.colab-df-convert');\n",
              "        buttonEl.style.display =\n",
              "          google.colab.kernel.accessAllowed ? 'block' : 'none';\n",
              "\n",
              "        async function convertToInteractive(key) {\n",
              "          const element = document.querySelector('#df-478dbc01-4627-427a-8319-e91001b2440f');\n",
              "          const dataTable =\n",
              "            await google.colab.kernel.invokeFunction('convertToInteractive',\n",
              "                                                     [key], {});\n",
              "          if (!dataTable) return;\n",
              "\n",
              "          const docLinkHtml = 'Like what you see? Visit the ' +\n",
              "            '<a target=\"_blank\" href=https://colab.research.google.com/notebooks/data_table.ipynb>data table notebook</a>'\n",
              "            + ' to learn more about interactive tables.';\n",
              "          element.innerHTML = '';\n",
              "          dataTable['output_type'] = 'display_data';\n",
              "          await google.colab.output.renderOutput(dataTable, element);\n",
              "          const docLink = document.createElement('div');\n",
              "          docLink.innerHTML = docLinkHtml;\n",
              "          element.appendChild(docLink);\n",
              "        }\n",
              "      </script>\n",
              "    </div>\n",
              "  </div>\n",
              "  "
            ]
          },
          "metadata": {},
          "execution_count": 37
        }
      ],
      "source": [
        "# load datasheet \n",
        "data = pd.read_csv(\"/content/20220820T040431Z.alfirizkinau.Hasil_penelitian.xK3k3NWm.csv\")\n",
        "\n",
        "#tampilkan 10 data teratas dan terakhir\n",
        "data.head(10)"
      ]
    },
    {
      "cell_type": "markdown",
      "source": [
        "> **Insights:**\n",
        "\n",
        "* Pada data polusi udara, terdapat 5 fitur yang merepresentasikan informasi tentang Polusi Udara, seperti Co, Co2, dan lainnya.\n",
        "\n",
        "* Dari informasi di atas, terlihat bahwa hampir semua fitur yang ada pada `data` memiliki proporsi nilai yang jauh antara fitur lain nya sehingga harus dilakukan preprocesing agar nilai setiap fitur nya berimbang. \n"
      ],
      "metadata": {
        "id": "xZOMHB5PHusK"
      }
    },
    {
      "cell_type": "markdown",
      "source": [
        "## **1.2 Melihat Informasi pada datasheet**\n",
        "sebelum dilakukan tahap eksplorasi data kita perlu mengetahui informasi data yang digunakan sudah dalam keadaan baik atau belum "
      ],
      "metadata": {
        "id": "3Twq5IALy1mt"
      }
    },
    {
      "cell_type": "code",
      "execution_count": null,
      "metadata": {
        "colab": {
          "base_uri": "https://localhost:8080/"
        },
        "id": "uVxHSwGvOAv4",
        "outputId": "fa7de2ef-50d0-4609-8160-f0c49bf1db01"
      },
      "outputs": [
        {
          "output_type": "stream",
          "name": "stdout",
          "text": [
            "<class 'pandas.core.frame.DataFrame'>\n",
            "RangeIndex: 938 entries, 0 to 937\n",
            "Data columns (total 5 columns):\n",
            " #   Column  Non-Null Count  Dtype  \n",
            "---  ------  --------------  -----  \n",
            " 0   Co      938 non-null    float64\n",
            " 1   Co2     938 non-null    float64\n",
            " 2   Humi    938 non-null    float64\n",
            " 3   NH4     938 non-null    float64\n",
            " 4   Temp    938 non-null    float64\n",
            "dtypes: float64(5)\n",
            "memory usage: 36.8 KB\n"
          ]
        }
      ],
      "source": [
        "# menampilkan informasi pada datasheet\n",
        "data.info()"
      ]
    },
    {
      "cell_type": "markdown",
      "source": [
        "> **Insights:**\n",
        "\n",
        "* Pada data polusi udara, terdapat 5 fitur yang merepresentasikan informasi tentang Polusi Udara, seperti Co, Co2, dan lainnya.\n",
        "\n",
        "* Dari informasi di atas, terlihat bahwa hampir semua fitur yang ada pada `data` tidak memiliki _missing values_. \n",
        "\n",
        "* Sayangnya, tidak ada data dictionary yang tersedia, sehingga kita sedikit kesulitan mengartikan masing-masing fitur.\n",
        "\n",
        "* Untuk mengetahui representasi masing-masing fitur, kita perlu melihat nilai-nilai yang ada di masing-masing fitur tersebut"
      ],
      "metadata": {
        "id": "DBrY14NlDCWu"
      }
    },
    {
      "cell_type": "code",
      "execution_count": null,
      "metadata": {
        "colab": {
          "base_uri": "https://localhost:8080/"
        },
        "id": "8F0O6haOPL_M",
        "outputId": "ac7fc580-cef5-4aa6-816a-a0cb0abe78b4"
      },
      "outputs": [
        {
          "output_type": "stream",
          "name": "stdout",
          "text": [
            "Jumlah baris pada dataframe tersebut adalah :  938 Baris\n",
            "Jumlah kolom pada dataframe tersebut adalah :  5 Kolom\n",
            " \n"
          ]
        },
        {
          "output_type": "execute_result",
          "data": {
            "text/plain": [
              "Co      float64\n",
              "Co2     float64\n",
              "Humi    float64\n",
              "NH4     float64\n",
              "Temp    float64\n",
              "dtype: object"
            ]
          },
          "metadata": {},
          "execution_count": 39
        }
      ],
      "source": [
        "# melihat jumlah kolom dan baris pada dataframe '\n",
        "print(\"Jumlah baris pada dataframe tersebut adalah : \", data.shape[0], \"Baris\")\n",
        "print(\"Jumlah kolom pada dataframe tersebut adalah : \", data.shape[1], \"Kolom\")\n",
        "print(\" \")\n",
        "\n",
        "#melihat tipe data pada datasheet\n",
        "data.dtypes"
      ]
    },
    {
      "cell_type": "markdown",
      "source": [
        "# **2. Exploratory Data Analysis (EDA)**\n",
        "Karena terdapat 5  yang saling melengkapi satu sama lain, kita akan melakukan eksplorasi untuk kelima data tersebut.\n",
        "\n",
        "* Khusus untuk eksplorasi pada **data Polusi Udara**, kita akan visualisasi  terlebih dahulu, sehingga setiap baris pada data polusi udara akan terdiri dari visualisasi fitur-fitur dari Kadar gas Co, Kadat gas Co2, dan Kadar gas NH4 dan lain-lainnya.\n",
        "\n",
        "> Langkah-langkah yang akan kita lakukan untuk EDA adalah sebagai berikut:\n",
        "* Eksplor data untuk fitur Co, seperti jumlah (unik) kadar Co yang tersedia, pola yang tersedia dan lainnya\n",
        "* Eksplor data untuk fitur Co2, seperti rentang kadar Co2 di udara, korelasi dengan kadar polusi udara dan lainnya\n",
        "\n",
        "Pertama-tama, kita akan coba eksplor data artikel terlebih dahulu."
      ],
      "metadata": {
        "id": "8ZkzlwGO7iwd"
      }
    },
    {
      "cell_type": "markdown",
      "source": [
        "## **2.1 Deteksi missing value**\n",
        "pada bagian ini dilakukan pembersihan nilai missing value pada setiap fitur kolom pada datasheet"
      ],
      "metadata": {
        "id": "UJxtI0re8nvF"
      }
    },
    {
      "cell_type": "code",
      "source": [
        "data[data.isna().all(axis=1)]"
      ],
      "metadata": {
        "colab": {
          "base_uri": "https://localhost:8080/",
          "height": 49
        },
        "id": "zvAhtLppV02j",
        "outputId": "99859e56-e977-413c-d5aa-4b9f9936ff02"
      },
      "execution_count": null,
      "outputs": [
        {
          "output_type": "execute_result",
          "data": {
            "text/plain": [
              "Empty DataFrame\n",
              "Columns: [Co, Co2, Humi, NH4, Temp]\n",
              "Index: []"
            ],
            "text/html": [
              "\n",
              "  <div id=\"df-30aed78c-43e1-4e65-973c-1ebfbe7d50eb\">\n",
              "    <div class=\"colab-df-container\">\n",
              "      <div>\n",
              "<style scoped>\n",
              "    .dataframe tbody tr th:only-of-type {\n",
              "        vertical-align: middle;\n",
              "    }\n",
              "\n",
              "    .dataframe tbody tr th {\n",
              "        vertical-align: top;\n",
              "    }\n",
              "\n",
              "    .dataframe thead th {\n",
              "        text-align: right;\n",
              "    }\n",
              "</style>\n",
              "<table border=\"1\" class=\"dataframe\">\n",
              "  <thead>\n",
              "    <tr style=\"text-align: right;\">\n",
              "      <th></th>\n",
              "      <th>Co</th>\n",
              "      <th>Co2</th>\n",
              "      <th>Humi</th>\n",
              "      <th>NH4</th>\n",
              "      <th>Temp</th>\n",
              "    </tr>\n",
              "  </thead>\n",
              "  <tbody>\n",
              "  </tbody>\n",
              "</table>\n",
              "</div>\n",
              "      <button class=\"colab-df-convert\" onclick=\"convertToInteractive('df-30aed78c-43e1-4e65-973c-1ebfbe7d50eb')\"\n",
              "              title=\"Convert this dataframe to an interactive table.\"\n",
              "              style=\"display:none;\">\n",
              "        \n",
              "  <svg xmlns=\"http://www.w3.org/2000/svg\" height=\"24px\"viewBox=\"0 0 24 24\"\n",
              "       width=\"24px\">\n",
              "    <path d=\"M0 0h24v24H0V0z\" fill=\"none\"/>\n",
              "    <path d=\"M18.56 5.44l.94 2.06.94-2.06 2.06-.94-2.06-.94-.94-2.06-.94 2.06-2.06.94zm-11 1L8.5 8.5l.94-2.06 2.06-.94-2.06-.94L8.5 2.5l-.94 2.06-2.06.94zm10 10l.94 2.06.94-2.06 2.06-.94-2.06-.94-.94-2.06-.94 2.06-2.06.94z\"/><path d=\"M17.41 7.96l-1.37-1.37c-.4-.4-.92-.59-1.43-.59-.52 0-1.04.2-1.43.59L10.3 9.45l-7.72 7.72c-.78.78-.78 2.05 0 2.83L4 21.41c.39.39.9.59 1.41.59.51 0 1.02-.2 1.41-.59l7.78-7.78 2.81-2.81c.8-.78.8-2.07 0-2.86zM5.41 20L4 18.59l7.72-7.72 1.47 1.35L5.41 20z\"/>\n",
              "  </svg>\n",
              "      </button>\n",
              "      \n",
              "  <style>\n",
              "    .colab-df-container {\n",
              "      display:flex;\n",
              "      flex-wrap:wrap;\n",
              "      gap: 12px;\n",
              "    }\n",
              "\n",
              "    .colab-df-convert {\n",
              "      background-color: #E8F0FE;\n",
              "      border: none;\n",
              "      border-radius: 50%;\n",
              "      cursor: pointer;\n",
              "      display: none;\n",
              "      fill: #1967D2;\n",
              "      height: 32px;\n",
              "      padding: 0 0 0 0;\n",
              "      width: 32px;\n",
              "    }\n",
              "\n",
              "    .colab-df-convert:hover {\n",
              "      background-color: #E2EBFA;\n",
              "      box-shadow: 0px 1px 2px rgba(60, 64, 67, 0.3), 0px 1px 3px 1px rgba(60, 64, 67, 0.15);\n",
              "      fill: #174EA6;\n",
              "    }\n",
              "\n",
              "    [theme=dark] .colab-df-convert {\n",
              "      background-color: #3B4455;\n",
              "      fill: #D2E3FC;\n",
              "    }\n",
              "\n",
              "    [theme=dark] .colab-df-convert:hover {\n",
              "      background-color: #434B5C;\n",
              "      box-shadow: 0px 1px 3px 1px rgba(0, 0, 0, 0.15);\n",
              "      filter: drop-shadow(0px 1px 2px rgba(0, 0, 0, 0.3));\n",
              "      fill: #FFFFFF;\n",
              "    }\n",
              "  </style>\n",
              "\n",
              "      <script>\n",
              "        const buttonEl =\n",
              "          document.querySelector('#df-30aed78c-43e1-4e65-973c-1ebfbe7d50eb button.colab-df-convert');\n",
              "        buttonEl.style.display =\n",
              "          google.colab.kernel.accessAllowed ? 'block' : 'none';\n",
              "\n",
              "        async function convertToInteractive(key) {\n",
              "          const element = document.querySelector('#df-30aed78c-43e1-4e65-973c-1ebfbe7d50eb');\n",
              "          const dataTable =\n",
              "            await google.colab.kernel.invokeFunction('convertToInteractive',\n",
              "                                                     [key], {});\n",
              "          if (!dataTable) return;\n",
              "\n",
              "          const docLinkHtml = 'Like what you see? Visit the ' +\n",
              "            '<a target=\"_blank\" href=https://colab.research.google.com/notebooks/data_table.ipynb>data table notebook</a>'\n",
              "            + ' to learn more about interactive tables.';\n",
              "          element.innerHTML = '';\n",
              "          dataTable['output_type'] = 'display_data';\n",
              "          await google.colab.output.renderOutput(dataTable, element);\n",
              "          const docLink = document.createElement('div');\n",
              "          docLink.innerHTML = docLinkHtml;\n",
              "          element.appendChild(docLink);\n",
              "        }\n",
              "      </script>\n",
              "    </div>\n",
              "  </div>\n",
              "  "
            ]
          },
          "metadata": {},
          "execution_count": 40
        }
      ]
    },
    {
      "cell_type": "markdown",
      "source": [
        "\n",
        "\n",
        "> **Insights:**\n",
        "dari data diatas, terlihat bahwa tidak ada baris yang semua fitur nya kosong\n",
        "\n"
      ],
      "metadata": {
        "id": "UOf8frGdV-nr"
      }
    },
    {
      "cell_type": "markdown",
      "source": [
        "## **2.2 Hapus data untuk kolom Humi dan Temp**"
      ],
      "metadata": {
        "id": "zcqWhznxZMHE"
      }
    },
    {
      "cell_type": "code",
      "source": [
        "data.drop(columns=[\"Humi\", \"Temp\"], inplace=True)\n",
        "data.head()"
      ],
      "metadata": {
        "colab": {
          "base_uri": "https://localhost:8080/",
          "height": 206
        },
        "id": "wNtCbPmnW49y",
        "outputId": "77b7bf78-e66f-4eaa-9968-689eeac91946"
      },
      "execution_count": null,
      "outputs": [
        {
          "output_type": "execute_result",
          "data": {
            "text/plain": [
              "     Co   Co2   NH4\n",
              "0  3.74  2.74  4.18\n",
              "1  3.65  2.69  4.13\n",
              "2  3.61  2.67  4.10\n",
              "3  3.82  2.78  4.24\n",
              "4  3.73  2.73  4.18"
            ],
            "text/html": [
              "\n",
              "  <div id=\"df-a14f8264-483f-475e-bc3d-349010f44e4a\">\n",
              "    <div class=\"colab-df-container\">\n",
              "      <div>\n",
              "<style scoped>\n",
              "    .dataframe tbody tr th:only-of-type {\n",
              "        vertical-align: middle;\n",
              "    }\n",
              "\n",
              "    .dataframe tbody tr th {\n",
              "        vertical-align: top;\n",
              "    }\n",
              "\n",
              "    .dataframe thead th {\n",
              "        text-align: right;\n",
              "    }\n",
              "</style>\n",
              "<table border=\"1\" class=\"dataframe\">\n",
              "  <thead>\n",
              "    <tr style=\"text-align: right;\">\n",
              "      <th></th>\n",
              "      <th>Co</th>\n",
              "      <th>Co2</th>\n",
              "      <th>NH4</th>\n",
              "    </tr>\n",
              "  </thead>\n",
              "  <tbody>\n",
              "    <tr>\n",
              "      <th>0</th>\n",
              "      <td>3.74</td>\n",
              "      <td>2.74</td>\n",
              "      <td>4.18</td>\n",
              "    </tr>\n",
              "    <tr>\n",
              "      <th>1</th>\n",
              "      <td>3.65</td>\n",
              "      <td>2.69</td>\n",
              "      <td>4.13</td>\n",
              "    </tr>\n",
              "    <tr>\n",
              "      <th>2</th>\n",
              "      <td>3.61</td>\n",
              "      <td>2.67</td>\n",
              "      <td>4.10</td>\n",
              "    </tr>\n",
              "    <tr>\n",
              "      <th>3</th>\n",
              "      <td>3.82</td>\n",
              "      <td>2.78</td>\n",
              "      <td>4.24</td>\n",
              "    </tr>\n",
              "    <tr>\n",
              "      <th>4</th>\n",
              "      <td>3.73</td>\n",
              "      <td>2.73</td>\n",
              "      <td>4.18</td>\n",
              "    </tr>\n",
              "  </tbody>\n",
              "</table>\n",
              "</div>\n",
              "      <button class=\"colab-df-convert\" onclick=\"convertToInteractive('df-a14f8264-483f-475e-bc3d-349010f44e4a')\"\n",
              "              title=\"Convert this dataframe to an interactive table.\"\n",
              "              style=\"display:none;\">\n",
              "        \n",
              "  <svg xmlns=\"http://www.w3.org/2000/svg\" height=\"24px\"viewBox=\"0 0 24 24\"\n",
              "       width=\"24px\">\n",
              "    <path d=\"M0 0h24v24H0V0z\" fill=\"none\"/>\n",
              "    <path d=\"M18.56 5.44l.94 2.06.94-2.06 2.06-.94-2.06-.94-.94-2.06-.94 2.06-2.06.94zm-11 1L8.5 8.5l.94-2.06 2.06-.94-2.06-.94L8.5 2.5l-.94 2.06-2.06.94zm10 10l.94 2.06.94-2.06 2.06-.94-2.06-.94-.94-2.06-.94 2.06-2.06.94z\"/><path d=\"M17.41 7.96l-1.37-1.37c-.4-.4-.92-.59-1.43-.59-.52 0-1.04.2-1.43.59L10.3 9.45l-7.72 7.72c-.78.78-.78 2.05 0 2.83L4 21.41c.39.39.9.59 1.41.59.51 0 1.02-.2 1.41-.59l7.78-7.78 2.81-2.81c.8-.78.8-2.07 0-2.86zM5.41 20L4 18.59l7.72-7.72 1.47 1.35L5.41 20z\"/>\n",
              "  </svg>\n",
              "      </button>\n",
              "      \n",
              "  <style>\n",
              "    .colab-df-container {\n",
              "      display:flex;\n",
              "      flex-wrap:wrap;\n",
              "      gap: 12px;\n",
              "    }\n",
              "\n",
              "    .colab-df-convert {\n",
              "      background-color: #E8F0FE;\n",
              "      border: none;\n",
              "      border-radius: 50%;\n",
              "      cursor: pointer;\n",
              "      display: none;\n",
              "      fill: #1967D2;\n",
              "      height: 32px;\n",
              "      padding: 0 0 0 0;\n",
              "      width: 32px;\n",
              "    }\n",
              "\n",
              "    .colab-df-convert:hover {\n",
              "      background-color: #E2EBFA;\n",
              "      box-shadow: 0px 1px 2px rgba(60, 64, 67, 0.3), 0px 1px 3px 1px rgba(60, 64, 67, 0.15);\n",
              "      fill: #174EA6;\n",
              "    }\n",
              "\n",
              "    [theme=dark] .colab-df-convert {\n",
              "      background-color: #3B4455;\n",
              "      fill: #D2E3FC;\n",
              "    }\n",
              "\n",
              "    [theme=dark] .colab-df-convert:hover {\n",
              "      background-color: #434B5C;\n",
              "      box-shadow: 0px 1px 3px 1px rgba(0, 0, 0, 0.15);\n",
              "      filter: drop-shadow(0px 1px 2px rgba(0, 0, 0, 0.3));\n",
              "      fill: #FFFFFF;\n",
              "    }\n",
              "  </style>\n",
              "\n",
              "      <script>\n",
              "        const buttonEl =\n",
              "          document.querySelector('#df-a14f8264-483f-475e-bc3d-349010f44e4a button.colab-df-convert');\n",
              "        buttonEl.style.display =\n",
              "          google.colab.kernel.accessAllowed ? 'block' : 'none';\n",
              "\n",
              "        async function convertToInteractive(key) {\n",
              "          const element = document.querySelector('#df-a14f8264-483f-475e-bc3d-349010f44e4a');\n",
              "          const dataTable =\n",
              "            await google.colab.kernel.invokeFunction('convertToInteractive',\n",
              "                                                     [key], {});\n",
              "          if (!dataTable) return;\n",
              "\n",
              "          const docLinkHtml = 'Like what you see? Visit the ' +\n",
              "            '<a target=\"_blank\" href=https://colab.research.google.com/notebooks/data_table.ipynb>data table notebook</a>'\n",
              "            + ' to learn more about interactive tables.';\n",
              "          element.innerHTML = '';\n",
              "          dataTable['output_type'] = 'display_data';\n",
              "          await google.colab.output.renderOutput(dataTable, element);\n",
              "          const docLink = document.createElement('div');\n",
              "          docLink.innerHTML = docLinkHtml;\n",
              "          element.appendChild(docLink);\n",
              "        }\n",
              "      </script>\n",
              "    </div>\n",
              "  </div>\n",
              "  "
            ]
          },
          "metadata": {},
          "execution_count": 34
        }
      ]
    },
    {
      "cell_type": "markdown",
      "source": [
        "> **Insights:**\n",
        "* pada kolom fitur Humidity dan Temperature dilakukan konversi tipe data agar rentang nilai pada antar fitur tidak terlalu jauh \n",
        "* dan agar dapat sedikit menghilangkan data yang mengalami nilai outlier \n",
        "\n"
      ],
      "metadata": {
        "id": "qDNNrD98Ye3A"
      }
    },
    {
      "cell_type": "markdown",
      "source": [
        "## **2.3 Deteksi Nilai Outlier**"
      ],
      "metadata": {
        "id": "cU3DBmB4a-_B"
      }
    },
    {
      "cell_type": "code",
      "source": [
        "def detect_outliers(data, x):\n",
        "    Q1 = data[x].describe()['25%']\n",
        "    Q3 = data[x].describe()['75%']\n",
        "    IQR = Q3-Q1\n",
        "    return data[(data[x] < Q1-1.5*IQR) | (data[x] > Q3+1.5*IQR)]"
      ],
      "metadata": {
        "id": "xLPF__Yq87bm"
      },
      "execution_count": null,
      "outputs": []
    },
    {
      "cell_type": "markdown",
      "source": [
        "### **2.1.1 Deteksi nilai outlier Kolom Gas Co (Carbon Monoksida)**"
      ],
      "metadata": {
        "id": "zrUwz6f7ARWA"
      }
    },
    {
      "cell_type": "code",
      "source": [
        "plt.figure(figsize = (10, 5))\n",
        "sns.boxplot(data['Co'])\n",
        "plt.axvline(data['Co'].describe()['25%'], color = 'red', label = 'Q1')\n",
        "plt.axvline(data['Co'].describe()['50%'], color = 'yellow', label = 'Q2')\n",
        "plt.axvline(data['Co'].describe()['75%'], color = 'blue', label = 'Q3')\n",
        "plt.annotate('Outlier', (data['Co'].describe()['max'],0.1), xytext = (data['Co'].describe()['max'],0.3),\n",
        "             arrowprops = dict(facecolor = 'blue'), fontsize = 13 )\n",
        "\n",
        "IQR = data['Co'].describe()['75%'] - data['Co'].describe()['25%']\n",
        "plt.annotate('Batas Atas', (data['Co'].describe()['75%'] + 1.5*IQR, 0.2), \n",
        "             xytext = (data['Co'].describe()['75%'] + 1.5*IQR, 0.4),\n",
        "             arrowprops = dict(facecolor = 'blue'), fontsize = 13 )\n",
        "\n",
        "plt.annotate('Batas Bawah', (data['Co'].describe()['min'], 0.2), \n",
        "             xytext = (data['Co'].describe()['min'], 0.4),\n",
        "             arrowprops = dict(facecolor = 'blue'), fontsize = 13 )\n",
        "plt.legend()"
      ],
      "metadata": {
        "colab": {
          "base_uri": "https://localhost:8080/",
          "height": 410
        },
        "id": "1mhFTRnP9RvP",
        "outputId": "7a7531d5-94bb-4de7-9e0d-2e7ac018479c"
      },
      "execution_count": null,
      "outputs": [
        {
          "output_type": "stream",
          "name": "stderr",
          "text": [
            "/usr/local/lib/python3.7/dist-packages/seaborn/_decorators.py:43: FutureWarning: Pass the following variable as a keyword arg: x. From version 0.12, the only valid positional argument will be `data`, and passing other arguments without an explicit keyword will result in an error or misinterpretation.\n",
            "  FutureWarning\n"
          ]
        },
        {
          "output_type": "execute_result",
          "data": {
            "text/plain": [
              "<matplotlib.legend.Legend at 0x7fe975d3f910>"
            ]
          },
          "metadata": {},
          "execution_count": 43
        },
        {
          "output_type": "display_data",
          "data": {
            "text/plain": [
              "<Figure size 720x360 with 1 Axes>"
            ],
            "image/png": "[encoded data removed]"
          },
          "metadata": {}
        }
      ]
    },
    {
      "cell_type": "markdown",
      "source": [
        "\n",
        "\n",
        "> **Insights:**\n",
        "* pada kolom fitur kadar Co mengalami nilai outlier sehingga perlu dilakukan perhitungan nilai IQR untuk menghilangkan nilai outlier"
      ],
      "metadata": {
        "id": "mpVRvLEuAsKx"
      }
    },
    {
      "cell_type": "markdown",
      "source": [
        "#### **A.) Menghapus nilai Outlier Kolom Co**"
      ],
      "metadata": {
        "id": "2w3TxPQLBq-g"
      }
    },
    {
      "cell_type": "code",
      "source": [
        "detect_outliers(data,'Co')"
      ],
      "metadata": {
        "colab": {
          "base_uri": "https://localhost:8080/",
          "height": 175
        },
        "id": "sqkMVfyF9U84",
        "outputId": "5d02d509-292f-42ff-b78f-13cdf80c8093"
      },
      "execution_count": null,
      "outputs": [
        {
          "output_type": "execute_result",
          "data": {
            "text/plain": [
              "       Co   Co2  Humi   NH4  Temp\n",
              "88   6.44  4.07  70.4  5.89  31.1\n",
              "352  6.24  3.97  74.5  5.77  30.5\n",
              "721  7.27  4.44  56.0  6.36  33.9\n",
              "819  7.87  4.70  69.2  6.68  31.3"
            ],
            "text/html": [
              "\n",
              "  <div id=\"df-2ae1c3cf-335c-47d5-a752-bcd14d5f67df\">\n",
              "    <div class=\"colab-df-container\">\n",
              "      <div>\n",
              "<style scoped>\n",
              "    .dataframe tbody tr th:only-of-type {\n",
              "        vertical-align: middle;\n",
              "    }\n",
              "\n",
              "    .dataframe tbody tr th {\n",
              "        vertical-align: top;\n",
              "    }\n",
              "\n",
              "    .dataframe thead th {\n",
              "        text-align: right;\n",
              "    }\n",
              "</style>\n",
              "<table border=\"1\" class=\"dataframe\">\n",
              "  <thead>\n",
              "    <tr style=\"text-align: right;\">\n",
              "      <th></th>\n",
              "      <th>Co</th>\n",
              "      <th>Co2</th>\n",
              "      <th>Humi</th>\n",
              "      <th>NH4</th>\n",
              "      <th>Temp</th>\n",
              "    </tr>\n",
              "  </thead>\n",
              "  <tbody>\n",
              "    <tr>\n",
              "      <th>88</th>\n",
              "      <td>6.44</td>\n",
              "      <td>4.07</td>\n",
              "      <td>70.4</td>\n",
              "      <td>5.89</td>\n",
              "      <td>31.1</td>\n",
              "    </tr>\n",
              "    <tr>\n",
              "      <th>352</th>\n",
              "      <td>6.24</td>\n",
              "      <td>3.97</td>\n",
              "      <td>74.5</td>\n",
              "      <td>5.77</td>\n",
              "      <td>30.5</td>\n",
              "    </tr>\n",
              "    <tr>\n",
              "      <th>721</th>\n",
              "      <td>7.27</td>\n",
              "      <td>4.44</td>\n",
              "      <td>56.0</td>\n",
              "      <td>6.36</td>\n",
              "      <td>33.9</td>\n",
              "    </tr>\n",
              "    <tr>\n",
              "      <th>819</th>\n",
              "      <td>7.87</td>\n",
              "      <td>4.70</td>\n",
              "      <td>69.2</td>\n",
              "      <td>6.68</td>\n",
              "      <td>31.3</td>\n",
              "    </tr>\n",
              "  </tbody>\n",
              "</table>\n",
              "</div>\n",
              "      <button class=\"colab-df-convert\" onclick=\"convertToInteractive('df-2ae1c3cf-335c-47d5-a752-bcd14d5f67df')\"\n",
              "              title=\"Convert this dataframe to an interactive table.\"\n",
              "              style=\"display:none;\">\n",
              "        \n",
              "  <svg xmlns=\"http://www.w3.org/2000/svg\" height=\"24px\"viewBox=\"0 0 24 24\"\n",
              "       width=\"24px\">\n",
              "    <path d=\"M0 0h24v24H0V0z\" fill=\"none\"/>\n",
              "    <path d=\"M18.56 5.44l.94 2.06.94-2.06 2.06-.94-2.06-.94-.94-2.06-.94 2.06-2.06.94zm-11 1L8.5 8.5l.94-2.06 2.06-.94-2.06-.94L8.5 2.5l-.94 2.06-2.06.94zm10 10l.94 2.06.94-2.06 2.06-.94-2.06-.94-.94-2.06-.94 2.06-2.06.94z\"/><path d=\"M17.41 7.96l-1.37-1.37c-.4-.4-.92-.59-1.43-.59-.52 0-1.04.2-1.43.59L10.3 9.45l-7.72 7.72c-.78.78-.78 2.05 0 2.83L4 21.41c.39.39.9.59 1.41.59.51 0 1.02-.2 1.41-.59l7.78-7.78 2.81-2.81c.8-.78.8-2.07 0-2.86zM5.41 20L4 18.59l7.72-7.72 1.47 1.35L5.41 20z\"/>\n",
              "  </svg>\n",
              "      </button>\n",
              "      \n",
              "  <style>\n",
              "    .colab-df-container {\n",
              "      display:flex;\n",
              "      flex-wrap:wrap;\n",
              "      gap: 12px;\n",
              "    }\n",
              "\n",
              "    .colab-df-convert {\n",
              "      background-color: #E8F0FE;\n",
              "      border: none;\n",
              "      border-radius: 50%;\n",
              "      cursor: pointer;\n",
              "      display: none;\n",
              "      fill: #1967D2;\n",
              "      height: 32px;\n",
              "      padding: 0 0 0 0;\n",
              "      width: 32px;\n",
              "    }\n",
              "\n",
              "    .colab-df-convert:hover {\n",
              "      background-color: #E2EBFA;\n",
              "      box-shadow: 0px 1px 2px rgba(60, 64, 67, 0.3), 0px 1px 3px 1px rgba(60, 64, 67, 0.15);\n",
              "      fill: #174EA6;\n",
              "    }\n",
              "\n",
              "    [theme=dark] .colab-df-convert {\n",
              "      background-color: #3B4455;\n",
              "      fill: #D2E3FC;\n",
              "    }\n",
              "\n",
              "    [theme=dark] .colab-df-convert:hover {\n",
              "      background-color: #434B5C;\n",
              "      box-shadow: 0px 1px 3px 1px rgba(0, 0, 0, 0.15);\n",
              "      filter: drop-shadow(0px 1px 2px rgba(0, 0, 0, 0.3));\n",
              "      fill: #FFFFFF;\n",
              "    }\n",
              "  </style>\n",
              "\n",
              "      <script>\n",
              "        const buttonEl =\n",
              "          document.querySelector('#df-2ae1c3cf-335c-47d5-a752-bcd14d5f67df button.colab-df-convert');\n",
              "        buttonEl.style.display =\n",
              "          google.colab.kernel.accessAllowed ? 'block' : 'none';\n",
              "\n",
              "        async function convertToInteractive(key) {\n",
              "          const element = document.querySelector('#df-2ae1c3cf-335c-47d5-a752-bcd14d5f67df');\n",
              "          const dataTable =\n",
              "            await google.colab.kernel.invokeFunction('convertToInteractive',\n",
              "                                                     [key], {});\n",
              "          if (!dataTable) return;\n",
              "\n",
              "          const docLinkHtml = 'Like what you see? Visit the ' +\n",
              "            '<a target=\"_blank\" href=https://colab.research.google.com/notebooks/data_table.ipynb>data table notebook</a>'\n",
              "            + ' to learn more about interactive tables.';\n",
              "          element.innerHTML = '';\n",
              "          dataTable['output_type'] = 'display_data';\n",
              "          await google.colab.output.renderOutput(dataTable, element);\n",
              "          const docLink = document.createElement('div');\n",
              "          docLink.innerHTML = docLinkHtml;\n",
              "          element.appendChild(docLink);\n",
              "        }\n",
              "      </script>\n",
              "    </div>\n",
              "  </div>\n",
              "  "
            ]
          },
          "metadata": {},
          "execution_count": 44
        }
      ]
    },
    {
      "cell_type": "markdown",
      "source": [
        "> **Insights:**\n",
        "* dari hasil deteksi yang kita lakukan terdapat 4 nilai yang mengalami outlier sehingga kita perlu melakukan preprocesing untuk data tersebut\n",
        "\n"
      ],
      "metadata": {
        "id": "9qKUKZG6bycg"
      }
    },
    {
      "cell_type": "markdown",
      "source": [
        "pada tahapan ini dilakukan perhitungan nilai IQR pada fitur kolom data Co"
      ],
      "metadata": {
        "id": "aQuPdau5DKKm"
      }
    },
    {
      "cell_type": "code",
      "source": [
        "# nilai outlier untuk fitur SystolicBP \n",
        "Q1 = data['Co'].quantile(0.25)\n",
        "Q3 = data['Co'].quantile(0.75)\n",
        "\n",
        "# isi nilai yang diluar ambang batas dengan teknik mean \n",
        "data['Co'].fillna(data['Co'].value_counts().idxmax(), inplace =True)\n",
        "\n",
        "IQR = Q3 - Q1\n",
        "print(\"Nilai IQR dari Datasheet tersebut adalah :\", IQR)\n",
        "print('')\n",
        "\n",
        "# preprocesing missing outliers\n",
        "data = data[~((data['Co'] < (Q1 - 1.5 * IQR )) | (data['Co'] > (Q3 + 1.5 * IQR)))]"
      ],
      "metadata": {
        "colab": {
          "base_uri": "https://localhost:8080/"
        },
        "id": "kgdFt1TnBXdq",
        "outputId": "a128926b-7b95-4d17-ca0c-68acfe4af53a"
      },
      "execution_count": null,
      "outputs": [
        {
          "output_type": "stream",
          "name": "stdout",
          "text": [
            "Nilai IQR dari Datasheet tersebut adalah : 1.495\n",
            "\n"
          ]
        }
      ]
    },
    {
      "cell_type": "markdown",
      "source": [
        "setelah dilakukan perhitungan IQR kita cek dengan visualisasi boxplot"
      ],
      "metadata": {
        "id": "qkirfWn8DV6l"
      }
    },
    {
      "cell_type": "code",
      "source": [
        "plt.figure(figsize = (10, 5))\n",
        "sns.boxplot(data['Co'])\n",
        "plt.axvline(data['Co'].describe()['25%'], color = 'red', label = 'Q1')\n",
        "plt.axvline(data['Co'].describe()['50%'], color = 'yellow', label = 'Q2')\n",
        "plt.axvline(data['Co'].describe()['75%'], color = 'blue', label = 'Q3')\n",
        "plt.annotate('Outlier', (data['Co'].describe()['max'],0.1), xytext = (data['Co'].describe()['max'],0.3),\n",
        "             arrowprops = dict(facecolor = 'blue'), fontsize = 13 )\n",
        "\n",
        "IQR = data['Co'].describe()['75%'] - data['Co'].describe()['25%']\n",
        "plt.annotate('Batas Atas', (data['Co'].describe()['75%'] + 1.5*IQR, 0.2), \n",
        "             xytext = (data['Co'].describe()['75%'] + 1.5*IQR, 0.4),\n",
        "             arrowprops = dict(facecolor = 'blue'), fontsize = 13 )\n",
        "\n",
        "plt.annotate('Batas Bawah', (data['Co'].describe()['min'], 0.2), \n",
        "             xytext = (data['Co'].describe()['min'], 0.4),\n",
        "             arrowprops = dict(facecolor = 'blue'), fontsize = 13 )\n",
        "plt.legend()"
      ],
      "metadata": {
        "colab": {
          "base_uri": "https://localhost:8080/",
          "height": 410
        },
        "id": "xCaKUa_aBk0V",
        "outputId": "1dc35265-f339-4bb7-e134-138303821b67"
      },
      "execution_count": null,
      "outputs": [
        {
          "output_type": "stream",
          "name": "stderr",
          "text": [
            "/usr/local/lib/python3.7/dist-packages/seaborn/_decorators.py:43: FutureWarning: Pass the following variable as a keyword arg: x. From version 0.12, the only valid positional argument will be `data`, and passing other arguments without an explicit keyword will result in an error or misinterpretation.\n",
            "  FutureWarning\n"
          ]
        },
        {
          "output_type": "execute_result",
          "data": {
            "text/plain": [
              "<matplotlib.legend.Legend at 0x7fe975cd0e10>"
            ]
          },
          "metadata": {},
          "execution_count": 46
        },
        {
          "output_type": "display_data",
          "data": {
            "text/plain": [
              "<Figure size 720x360 with 1 Axes>"
            ],
            "image/png": "[encoded data removed]"
          },
          "metadata": {}
        }
      ]
    },
    {
      "cell_type": "markdown",
      "source": [
        "> **Insights:**\n",
        "* pada visualisasi diatas kolom Co tidak lagi mengalami nilai yang outlier \n",
        "\n",
        "\n"
      ],
      "metadata": {
        "id": "uwuUGigycvbT"
      }
    },
    {
      "cell_type": "markdown",
      "source": [
        "### **2.1.2 Deteksi nilai outlier Kolom Co2**\n",
        "pada bagian ini dilakukan pembersihan nilai outlier pada setiap fitur kolom pada datasheet"
      ],
      "metadata": {
        "id": "I9vMEtNOE5xR"
      }
    },
    {
      "cell_type": "code",
      "execution_count": null,
      "metadata": {
        "colab": {
          "base_uri": "https://localhost:8080/",
          "height": 410
        },
        "id": "PF22j1sKR0PL",
        "outputId": "2616b174-9b2a-4261-caab-7bd0ac2f0112"
      },
      "outputs": [
        {
          "output_type": "stream",
          "name": "stderr",
          "text": [
            "/usr/local/lib/python3.7/dist-packages/seaborn/_decorators.py:43: FutureWarning: Pass the following variable as a keyword arg: x. From version 0.12, the only valid positional argument will be `data`, and passing other arguments without an explicit keyword will result in an error or misinterpretation.\n",
            "  FutureWarning\n"
          ]
        },
        {
          "output_type": "execute_result",
          "data": {
            "text/plain": [
              "<matplotlib.legend.Legend at 0x7fe975be65d0>"
            ]
          },
          "metadata": {},
          "execution_count": 47
        },
        {
          "output_type": "display_data",
          "data": {
            "text/plain": [
              "<Figure size 720x360 with 1 Axes>"
            ],
            "image/png": "[encoded data removed]"
          },
          "metadata": {}
        }
      ],
      "source": [
        "# Deteksi nilai outlier pada kolom Co2\n",
        "plt.figure(figsize = (10, 5))\n",
        "sns.boxplot(data['Co2'])\n",
        "plt.axvline(data['Co2'].describe()['25%'], color = 'red', label = 'Q1')\n",
        "plt.axvline(data['Co2'].describe()['50%'], color = 'yellow', label = 'Q2')\n",
        "plt.axvline(data['Co2'].describe()['75%'], color = 'blue', label = 'Q3')\n",
        "plt.annotate('Outlier', (data['Co2'].describe()['max'],0.1), xytext = (data['Co2'].describe()['max'],0.3),\n",
        "             arrowprops = dict(facecolor = 'blue'), fontsize = 13 )\n",
        "\n",
        "IQR = data['Co2'].describe()['75%'] - data['Co2'].describe()['25%']\n",
        "plt.annotate('Batas Atas', (data['Co2'].describe()['75%'] + 1.5*IQR, 0.2), \n",
        "             xytext = (data['Co2'].describe()['75%'] + 1.5*IQR, 0.4),\n",
        "             arrowprops = dict(facecolor = 'blue'), fontsize = 13 )\n",
        "\n",
        "plt.annotate('Batas Bawah', (data['Co2'].describe()['min'], 0.2), \n",
        "             xytext = (data['Co2'].describe()['min'], 0.4),\n",
        "             arrowprops = dict(facecolor = 'blue'), fontsize = 13 )\n",
        "plt.legend()"
      ]
    },
    {
      "cell_type": "markdown",
      "source": [
        "> **Insights:**\n",
        "* pada visualisasi diatas kolom Co2 mengalami nilai yang outlier sehingga perlu kita proses \n",
        "\n",
        "\n"
      ],
      "metadata": {
        "id": "9L55Hib3dosU"
      }
    },
    {
      "cell_type": "markdown",
      "source": [
        "#### A.) **Menghapus nilai outlier pada kolom Co2**\n",
        "terlihat pada kolom fitur Co2 mengalami nilai outlier yang jauh sehingga harus kita normalisasikan dengan perhitungan IQR"
      ],
      "metadata": {
        "id": "ou-yMZc_GjTp"
      }
    },
    {
      "cell_type": "code",
      "source": [
        "detect_outliers(data,'Co2')"
      ],
      "metadata": {
        "colab": {
          "base_uri": "https://localhost:8080/",
          "height": 300
        },
        "id": "9Zkcumgf-SYl",
        "outputId": "1dddd20f-8bfd-42fc-f649-b1e81318590c"
      },
      "execution_count": null,
      "outputs": [
        {
          "output_type": "execute_result",
          "data": {
            "text/plain": [
              "       Co    Co2  Humi   NH4   Temp\n",
              "54   0.53   0.66  69.3  1.22  31.30\n",
              "55   0.53   0.66  69.3  1.22  31.30\n",
              "56   0.51   0.64  69.6  1.20  31.20\n",
              "57   0.51   0.64  69.6  1.20  31.20\n",
              "66   0.47   0.61  69.4  1.14  31.30\n",
              "67   0.47   0.61  69.4  1.14  31.30\n",
              "249  1.97  31.60   3.0  1.00   1.14\n",
              "782  0.52   0.65  53.1  1.21  35.10"
            ],
            "text/html": [
              "\n",
              "  <div id=\"df-97138b89-7799-446f-87f5-607c644cff85\">\n",
              "    <div class=\"colab-df-container\">\n",
              "      <div>\n",
              "<style scoped>\n",
              "    .dataframe tbody tr th:only-of-type {\n",
              "        vertical-align: middle;\n",
              "    }\n",
              "\n",
              "    .dataframe tbody tr th {\n",
              "        vertical-align: top;\n",
              "    }\n",
              "\n",
              "    .dataframe thead th {\n",
              "        text-align: right;\n",
              "    }\n",
              "</style>\n",
              "<table border=\"1\" class=\"dataframe\">\n",
              "  <thead>\n",
              "    <tr style=\"text-align: right;\">\n",
              "      <th></th>\n",
              "      <th>Co</th>\n",
              "      <th>Co2</th>\n",
              "      <th>Humi</th>\n",
              "      <th>NH4</th>\n",
              "      <th>Temp</th>\n",
              "    </tr>\n",
              "  </thead>\n",
              "  <tbody>\n",
              "    <tr>\n",
              "      <th>54</th>\n",
              "      <td>0.53</td>\n",
              "      <td>0.66</td>\n",
              "      <td>69.3</td>\n",
              "      <td>1.22</td>\n",
              "      <td>31.30</td>\n",
              "    </tr>\n",
              "    <tr>\n",
              "      <th>55</th>\n",
              "      <td>0.53</td>\n",
              "      <td>0.66</td>\n",
              "      <td>69.3</td>\n",
              "      <td>1.22</td>\n",
              "      <td>31.30</td>\n",
              "    </tr>\n",
              "    <tr>\n",
              "      <th>56</th>\n",
              "      <td>0.51</td>\n",
              "      <td>0.64</td>\n",
              "      <td>69.6</td>\n",
              "      <td>1.20</td>\n",
              "      <td>31.20</td>\n",
              "    </tr>\n",
              "    <tr>\n",
              "      <th>57</th>\n",
              "      <td>0.51</td>\n",
              "      <td>0.64</td>\n",
              "      <td>69.6</td>\n",
              "      <td>1.20</td>\n",
              "      <td>31.20</td>\n",
              "    </tr>\n",
              "    <tr>\n",
              "      <th>66</th>\n",
              "      <td>0.47</td>\n",
              "      <td>0.61</td>\n",
              "      <td>69.4</td>\n",
              "      <td>1.14</td>\n",
              "      <td>31.30</td>\n",
              "    </tr>\n",
              "    <tr>\n",
              "      <th>67</th>\n",
              "      <td>0.47</td>\n",
              "      <td>0.61</td>\n",
              "      <td>69.4</td>\n",
              "      <td>1.14</td>\n",
              "      <td>31.30</td>\n",
              "    </tr>\n",
              "    <tr>\n",
              "      <th>249</th>\n",
              "      <td>1.97</td>\n",
              "      <td>31.60</td>\n",
              "      <td>3.0</td>\n",
              "      <td>1.00</td>\n",
              "      <td>1.14</td>\n",
              "    </tr>\n",
              "    <tr>\n",
              "      <th>782</th>\n",
              "      <td>0.52</td>\n",
              "      <td>0.65</td>\n",
              "      <td>53.1</td>\n",
              "      <td>1.21</td>\n",
              "      <td>35.10</td>\n",
              "    </tr>\n",
              "  </tbody>\n",
              "</table>\n",
              "</div>\n",
              "      <button class=\"colab-df-convert\" onclick=\"convertToInteractive('df-97138b89-7799-446f-87f5-607c644cff85')\"\n",
              "              title=\"Convert this dataframe to an interactive table.\"\n",
              "              style=\"display:none;\">\n",
              "        \n",
              "  <svg xmlns=\"http://www.w3.org/2000/svg\" height=\"24px\"viewBox=\"0 0 24 24\"\n",
              "       width=\"24px\">\n",
              "    <path d=\"M0 0h24v24H0V0z\" fill=\"none\"/>\n",
              "    <path d=\"M18.56 5.44l.94 2.06.94-2.06 2.06-.94-2.06-.94-.94-2.06-.94 2.06-2.06.94zm-11 1L8.5 8.5l.94-2.06 2.06-.94-2.06-.94L8.5 2.5l-.94 2.06-2.06.94zm10 10l.94 2.06.94-2.06 2.06-.94-2.06-.94-.94-2.06-.94 2.06-2.06.94z\"/><path d=\"M17.41 7.96l-1.37-1.37c-.4-.4-.92-.59-1.43-.59-.52 0-1.04.2-1.43.59L10.3 9.45l-7.72 7.72c-.78.78-.78 2.05 0 2.83L4 21.41c.39.39.9.59 1.41.59.51 0 1.02-.2 1.41-.59l7.78-7.78 2.81-2.81c.8-.78.8-2.07 0-2.86zM5.41 20L4 18.59l7.72-7.72 1.47 1.35L5.41 20z\"/>\n",
              "  </svg>\n",
              "      </button>\n",
              "      \n",
              "  <style>\n",
              "    .colab-df-container {\n",
              "      display:flex;\n",
              "      flex-wrap:wrap;\n",
              "      gap: 12px;\n",
              "    }\n",
              "\n",
              "    .colab-df-convert {\n",
              "      background-color: #E8F0FE;\n",
              "      border: none;\n",
              "      border-radius: 50%;\n",
              "      cursor: pointer;\n",
              "      display: none;\n",
              "      fill: #1967D2;\n",
              "      height: 32px;\n",
              "      padding: 0 0 0 0;\n",
              "      width: 32px;\n",
              "    }\n",
              "\n",
              "    .colab-df-convert:hover {\n",
              "      background-color: #E2EBFA;\n",
              "      box-shadow: 0px 1px 2px rgba(60, 64, 67, 0.3), 0px 1px 3px 1px rgba(60, 64, 67, 0.15);\n",
              "      fill: #174EA6;\n",
              "    }\n",
              "\n",
              "    [theme=dark] .colab-df-convert {\n",
              "      background-color: #3B4455;\n",
              "      fill: #D2E3FC;\n",
              "    }\n",
              "\n",
              "    [theme=dark] .colab-df-convert:hover {\n",
              "      background-color: #434B5C;\n",
              "      box-shadow: 0px 1px 3px 1px rgba(0, 0, 0, 0.15);\n",
              "      filter: drop-shadow(0px 1px 2px rgba(0, 0, 0, 0.3));\n",
              "      fill: #FFFFFF;\n",
              "    }\n",
              "  </style>\n",
              "\n",
              "      <script>\n",
              "        const buttonEl =\n",
              "          document.querySelector('#df-97138b89-7799-446f-87f5-607c644cff85 button.colab-df-convert');\n",
              "        buttonEl.style.display =\n",
              "          google.colab.kernel.accessAllowed ? 'block' : 'none';\n",
              "\n",
              "        async function convertToInteractive(key) {\n",
              "          const element = document.querySelector('#df-97138b89-7799-446f-87f5-607c644cff85');\n",
              "          const dataTable =\n",
              "            await google.colab.kernel.invokeFunction('convertToInteractive',\n",
              "                                                     [key], {});\n",
              "          if (!dataTable) return;\n",
              "\n",
              "          const docLinkHtml = 'Like what you see? Visit the ' +\n",
              "            '<a target=\"_blank\" href=https://colab.research.google.com/notebooks/data_table.ipynb>data table notebook</a>'\n",
              "            + ' to learn more about interactive tables.';\n",
              "          element.innerHTML = '';\n",
              "          dataTable['output_type'] = 'display_data';\n",
              "          await google.colab.output.renderOutput(dataTable, element);\n",
              "          const docLink = document.createElement('div');\n",
              "          docLink.innerHTML = docLinkHtml;\n",
              "          element.appendChild(docLink);\n",
              "        }\n",
              "      </script>\n",
              "    </div>\n",
              "  </div>\n",
              "  "
            ]
          },
          "metadata": {},
          "execution_count": 48
        }
      ]
    },
    {
      "cell_type": "markdown",
      "source": [
        "> **Insights:**\n",
        "* pada Tabel diatas kolom Co2 data yang mengalami nilai yang outlier terdapat 5 data sehingga kelima data tersebut harus diproses \n",
        "\n",
        "\n"
      ],
      "metadata": {
        "id": "ger69lqAd0TD"
      }
    },
    {
      "cell_type": "code",
      "source": [
        "# nilai outlier untuk fitur Co2\n",
        "Q1 = data['Co2'].quantile(0.25)\n",
        "Q3 = data['Co2'].quantile(0.75)\n",
        "\n",
        "# isi nilai yang diluar ambang batas dengan teknik mean \n",
        "data['Co2'].fillna(data['Co2'].value_counts().idxmax(), inplace =True)\n",
        "\n",
        "IQR = Q3 - Q1\n",
        "print(\"Nilai IQR dari Datasheet tersebut adalah :\", IQR)\n",
        "print('')\n",
        "\n",
        "# preprocesing missing outliers\n",
        "data = data[~((data['Co2'] < (Q1 - 1.5 * IQR )) | (data['Co2'] > (Q3 + 1.5 * IQR)))]"
      ],
      "metadata": {
        "colab": {
          "base_uri": "https://localhost:8080/"
        },
        "id": "xQwTqRg5G5Ug",
        "outputId": "9412841a-3ac3-4210-9c13-71d06ff43605"
      },
      "execution_count": null,
      "outputs": [
        {
          "output_type": "stream",
          "name": "stdout",
          "text": [
            "Nilai IQR dari Datasheet tersebut adalah : 0.8374999999999999\n",
            "\n"
          ]
        }
      ]
    },
    {
      "cell_type": "markdown",
      "source": [
        "setelah dilakukan perhitungan nilai IQR kita coba visualisasikan dengan boxplot apakah ada nilai nya sudah normal"
      ],
      "metadata": {
        "id": "0JYIB1SvHVSw"
      }
    },
    {
      "cell_type": "code",
      "source": [
        "# Deteksi nilai outlier pada kolom Co2\n",
        "plt.figure(figsize = (10, 5))\n",
        "sns.boxplot(data['Co2'])\n",
        "plt.axvline(data['Co2'].describe()['25%'], color = 'red', label = 'Q1')\n",
        "plt.axvline(data['Co2'].describe()['50%'], color = 'yellow', label = 'Q2')\n",
        "plt.axvline(data['Co2'].describe()['75%'], color = 'blue', label = 'Q3')\n",
        "plt.annotate('Outlier', (data['Co2'].describe()['max'],0.1), xytext = (data['Co2'].describe()['max'],0.3),\n",
        "             arrowprops = dict(facecolor = 'blue'), fontsize = 13 )\n",
        "\n",
        "IQR = data['Co2'].describe()['75%'] - data['Co2'].describe()['25%']\n",
        "plt.annotate('Batas Atas', (data['Co2'].describe()['75%'] + 1.5*IQR, 0.2), \n",
        "             xytext = (data['Co2'].describe()['75%'] + 1.5*IQR, 0.4),\n",
        "             arrowprops = dict(facecolor = 'blue'), fontsize = 13 )\n",
        "\n",
        "plt.annotate('Batas Bawah', (data['Co2'].describe()['min'], 0.2), \n",
        "             xytext = (data['Co2'].describe()['min'], 0.4),\n",
        "             arrowprops = dict(facecolor = 'blue'), fontsize = 13 )\n",
        "plt.legend()"
      ],
      "metadata": {
        "colab": {
          "base_uri": "https://localhost:8080/",
          "height": 410
        },
        "id": "l5XAd--IHUuD",
        "outputId": "614a2d41-9cb3-4a68-9aa5-d4e23e9991e3"
      },
      "execution_count": null,
      "outputs": [
        {
          "output_type": "stream",
          "name": "stderr",
          "text": [
            "/usr/local/lib/python3.7/dist-packages/seaborn/_decorators.py:43: FutureWarning: Pass the following variable as a keyword arg: x. From version 0.12, the only valid positional argument will be `data`, and passing other arguments without an explicit keyword will result in an error or misinterpretation.\n",
            "  FutureWarning\n"
          ]
        },
        {
          "output_type": "execute_result",
          "data": {
            "text/plain": [
              "<matplotlib.legend.Legend at 0x7fe975b7a750>"
            ]
          },
          "metadata": {},
          "execution_count": 50
        },
        {
          "output_type": "display_data",
          "data": {
            "text/plain": [
              "<Figure size 720x360 with 1 Axes>"
            ],
            "image/png": "[encoded data removed]"
          },
          "metadata": {}
        }
      ]
    },
    {
      "cell_type": "markdown",
      "source": [
        "> **Insights:**\n",
        "* pada visualisasi diatas kolom Co2 tidak lagi mengalami nilai yang outlier \n",
        "\n",
        "\n"
      ],
      "metadata": {
        "id": "Wiz5YJLpeL7F"
      }
    },
    {
      "cell_type": "markdown",
      "source": [
        "### **2.1.5 Deteksi nilai outlier kolom NH4**"
      ],
      "metadata": {
        "id": "HF1qGGemDxD0"
      }
    },
    {
      "cell_type": "code",
      "source": [
        "plt.figure(figsize = (10, 5))\n",
        "sns.boxplot(data['NH4'])\n",
        "plt.axvline(data['NH4'].describe()['25%'], color = 'red', label = 'Q1')\n",
        "plt.axvline(data['NH4'].describe()['50%'], color = 'yellow', label = 'Q2')\n",
        "plt.axvline(data['NH4'].describe()['75%'], color = 'blue', label = 'Q3')\n",
        "plt.annotate('Outlier', (data['NH4'].describe()['max'],0.1), xytext = (data['NH4'].describe()['max'],0.3),\n",
        "             arrowprops = dict(facecolor = 'blue'), fontsize = 13 )\n",
        "\n",
        "IQR = data['NH4'].describe()['75%'] - data['NH4'].describe()['25%']\n",
        "plt.annotate('Batas Atas', (data['NH4'].describe()['75%'] + 1.5*IQR, 0.2), \n",
        "             xytext = (data['NH4'].describe()['75%'] + 1.5*IQR, 0.4),\n",
        "             arrowprops = dict(facecolor = 'blue'), fontsize = 13 )\n",
        "\n",
        "plt.annotate('Batas Bawah', (data['NH4'].describe()['min'], 0.2), \n",
        "             xytext = (data['NH4'].describe()['min'], 0.4),\n",
        "             arrowprops = dict(facecolor = 'blue'), fontsize = 13 )\n",
        "plt.legend()"
      ],
      "metadata": {
        "colab": {
          "base_uri": "https://localhost:8080/",
          "height": 410
        },
        "id": "XPGKTenEDwvO",
        "outputId": "7cd36a1e-2024-45e9-de7f-ad447e614a99"
      },
      "execution_count": null,
      "outputs": [
        {
          "output_type": "stream",
          "name": "stderr",
          "text": [
            "/usr/local/lib/python3.7/dist-packages/seaborn/_decorators.py:43: FutureWarning: Pass the following variable as a keyword arg: x. From version 0.12, the only valid positional argument will be `data`, and passing other arguments without an explicit keyword will result in an error or misinterpretation.\n",
            "  FutureWarning\n"
          ]
        },
        {
          "output_type": "execute_result",
          "data": {
            "text/plain": [
              "<matplotlib.legend.Legend at 0x7fe975b0d890>"
            ]
          },
          "metadata": {},
          "execution_count": 51
        },
        {
          "output_type": "display_data",
          "data": {
            "text/plain": [
              "<Figure size 720x360 with 1 Axes>"
            ],
            "image/png": "[encoded data removed]"
          },
          "metadata": {}
        }
      ]
    },
    {
      "cell_type": "markdown",
      "source": [
        "> **Insights:**\n",
        "* pada visualisasi diatas kolom NH4  mengalami nilai yang outlier \n",
        "\n",
        "\n"
      ],
      "metadata": {
        "id": "f2P_Rct2fuvn"
      }
    },
    {
      "cell_type": "markdown",
      "source": [
        "#### **A.Deteksi nilai outlier NH4**"
      ],
      "metadata": {
        "id": "yF-QsvFHb_Nk"
      }
    },
    {
      "cell_type": "code",
      "source": [
        "detect_outliers(data, 'NH4')"
      ],
      "metadata": {
        "colab": {
          "base_uri": "https://localhost:8080/",
          "height": 238
        },
        "id": "az5DVHhKcFC8",
        "outputId": "97de05fc-dd57-4b3a-ea8a-ecad9409af55"
      },
      "execution_count": null,
      "outputs": [
        {
          "output_type": "execute_result",
          "data": {
            "text/plain": [
              "      Co   Co2  Humi   NH4  Temp\n",
              "52  0.62  0.74  69.2  1.35  31.4\n",
              "53  0.62  0.74  69.2  1.35  31.4\n",
              "64  0.55  0.68  69.3  1.26  31.3\n",
              "65  0.55  0.68  69.3  1.26  31.3\n",
              "68  0.62  0.74  69.5  1.35  31.3\n",
              "69  0.62  0.74  69.5  1.35  31.3"
            ],
            "text/html": [
              "\n",
              "  <div id=\"df-a0dc6660-767d-463a-9845-c024c53cd663\">\n",
              "    <div class=\"colab-df-container\">\n",
              "      <div>\n",
              "<style scoped>\n",
              "    .dataframe tbody tr th:only-of-type {\n",
              "        vertical-align: middle;\n",
              "    }\n",
              "\n",
              "    .dataframe tbody tr th {\n",
              "        vertical-align: top;\n",
              "    }\n",
              "\n",
              "    .dataframe thead th {\n",
              "        text-align: right;\n",
              "    }\n",
              "</style>\n",
              "<table border=\"1\" class=\"dataframe\">\n",
              "  <thead>\n",
              "    <tr style=\"text-align: right;\">\n",
              "      <th></th>\n",
              "      <th>Co</th>\n",
              "      <th>Co2</th>\n",
              "      <th>Humi</th>\n",
              "      <th>NH4</th>\n",
              "      <th>Temp</th>\n",
              "    </tr>\n",
              "  </thead>\n",
              "  <tbody>\n",
              "    <tr>\n",
              "      <th>52</th>\n",
              "      <td>0.62</td>\n",
              "      <td>0.74</td>\n",
              "      <td>69.2</td>\n",
              "      <td>1.35</td>\n",
              "      <td>31.4</td>\n",
              "    </tr>\n",
              "    <tr>\n",
              "      <th>53</th>\n",
              "      <td>0.62</td>\n",
              "      <td>0.74</td>\n",
              "      <td>69.2</td>\n",
              "      <td>1.35</td>\n",
              "      <td>31.4</td>\n",
              "    </tr>\n",
              "    <tr>\n",
              "      <th>64</th>\n",
              "      <td>0.55</td>\n",
              "      <td>0.68</td>\n",
              "      <td>69.3</td>\n",
              "      <td>1.26</td>\n",
              "      <td>31.3</td>\n",
              "    </tr>\n",
              "    <tr>\n",
              "      <th>65</th>\n",
              "      <td>0.55</td>\n",
              "      <td>0.68</td>\n",
              "      <td>69.3</td>\n",
              "      <td>1.26</td>\n",
              "      <td>31.3</td>\n",
              "    </tr>\n",
              "    <tr>\n",
              "      <th>68</th>\n",
              "      <td>0.62</td>\n",
              "      <td>0.74</td>\n",
              "      <td>69.5</td>\n",
              "      <td>1.35</td>\n",
              "      <td>31.3</td>\n",
              "    </tr>\n",
              "    <tr>\n",
              "      <th>69</th>\n",
              "      <td>0.62</td>\n",
              "      <td>0.74</td>\n",
              "      <td>69.5</td>\n",
              "      <td>1.35</td>\n",
              "      <td>31.3</td>\n",
              "    </tr>\n",
              "  </tbody>\n",
              "</table>\n",
              "</div>\n",
              "      <button class=\"colab-df-convert\" onclick=\"convertToInteractive('df-a0dc6660-767d-463a-9845-c024c53cd663')\"\n",
              "              title=\"Convert this dataframe to an interactive table.\"\n",
              "              style=\"display:none;\">\n",
              "        \n",
              "  <svg xmlns=\"http://www.w3.org/2000/svg\" height=\"24px\"viewBox=\"0 0 24 24\"\n",
              "       width=\"24px\">\n",
              "    <path d=\"M0 0h24v24H0V0z\" fill=\"none\"/>\n",
              "    <path d=\"M18.56 5.44l.94 2.06.94-2.06 2.06-.94-2.06-.94-.94-2.06-.94 2.06-2.06.94zm-11 1L8.5 8.5l.94-2.06 2.06-.94-2.06-.94L8.5 2.5l-.94 2.06-2.06.94zm10 10l.94 2.06.94-2.06 2.06-.94-2.06-.94-.94-2.06-.94 2.06-2.06.94z\"/><path d=\"M17.41 7.96l-1.37-1.37c-.4-.4-.92-.59-1.43-.59-.52 0-1.04.2-1.43.59L10.3 9.45l-7.72 7.72c-.78.78-.78 2.05 0 2.83L4 21.41c.39.39.9.59 1.41.59.51 0 1.02-.2 1.41-.59l7.78-7.78 2.81-2.81c.8-.78.8-2.07 0-2.86zM5.41 20L4 18.59l7.72-7.72 1.47 1.35L5.41 20z\"/>\n",
              "  </svg>\n",
              "      </button>\n",
              "      \n",
              "  <style>\n",
              "    .colab-df-container {\n",
              "      display:flex;\n",
              "      flex-wrap:wrap;\n",
              "      gap: 12px;\n",
              "    }\n",
              "\n",
              "    .colab-df-convert {\n",
              "      background-color: #E8F0FE;\n",
              "      border: none;\n",
              "      border-radius: 50%;\n",
              "      cursor: pointer;\n",
              "      display: none;\n",
              "      fill: #1967D2;\n",
              "      height: 32px;\n",
              "      padding: 0 0 0 0;\n",
              "      width: 32px;\n",
              "    }\n",
              "\n",
              "    .colab-df-convert:hover {\n",
              "      background-color: #E2EBFA;\n",
              "      box-shadow: 0px 1px 2px rgba(60, 64, 67, 0.3), 0px 1px 3px 1px rgba(60, 64, 67, 0.15);\n",
              "      fill: #174EA6;\n",
              "    }\n",
              "\n",
              "    [theme=dark] .colab-df-convert {\n",
              "      background-color: #3B4455;\n",
              "      fill: #D2E3FC;\n",
              "    }\n",
              "\n",
              "    [theme=dark] .colab-df-convert:hover {\n",
              "      background-color: #434B5C;\n",
              "      box-shadow: 0px 1px 3px 1px rgba(0, 0, 0, 0.15);\n",
              "      filter: drop-shadow(0px 1px 2px rgba(0, 0, 0, 0.3));\n",
              "      fill: #FFFFFF;\n",
              "    }\n",
              "  </style>\n",
              "\n",
              "      <script>\n",
              "        const buttonEl =\n",
              "          document.querySelector('#df-a0dc6660-767d-463a-9845-c024c53cd663 button.colab-df-convert');\n",
              "        buttonEl.style.display =\n",
              "          google.colab.kernel.accessAllowed ? 'block' : 'none';\n",
              "\n",
              "        async function convertToInteractive(key) {\n",
              "          const element = document.querySelector('#df-a0dc6660-767d-463a-9845-c024c53cd663');\n",
              "          const dataTable =\n",
              "            await google.colab.kernel.invokeFunction('convertToInteractive',\n",
              "                                                     [key], {});\n",
              "          if (!dataTable) return;\n",
              "\n",
              "          const docLinkHtml = 'Like what you see? Visit the ' +\n",
              "            '<a target=\"_blank\" href=https://colab.research.google.com/notebooks/data_table.ipynb>data table notebook</a>'\n",
              "            + ' to learn more about interactive tables.';\n",
              "          element.innerHTML = '';\n",
              "          dataTable['output_type'] = 'display_data';\n",
              "          await google.colab.output.renderOutput(dataTable, element);\n",
              "          const docLink = document.createElement('div');\n",
              "          docLink.innerHTML = docLinkHtml;\n",
              "          element.appendChild(docLink);\n",
              "        }\n",
              "      </script>\n",
              "    </div>\n",
              "  </div>\n",
              "  "
            ]
          },
          "metadata": {},
          "execution_count": 52
        }
      ]
    },
    {
      "cell_type": "code",
      "source": [
        "# nilai outlier untuk fitur Co2\n",
        "Q1 = data['NH4'].quantile(0.25)\n",
        "Q3 = data['NH4'].quantile(0.75)\n",
        "\n",
        "# isi nilai yang diluar ambang batas dengan teknik mean \n",
        "data['NH4'].fillna(data['NH4'].value_counts().idxmax(), inplace =True)\n",
        "\n",
        "IQR = Q3 - Q1\n",
        "print(\"Nilai IQR dari Datasheet tersebut adalah :\", IQR)\n",
        "print('')\n",
        "\n",
        "# preprocesing missing outliers\n",
        "data = data[~((data['NH4'] < (Q1 - 1.5 * IQR )) | (data['NH4'] > (Q3 + 1.5 * IQR)))]"
      ],
      "metadata": {
        "colab": {
          "base_uri": "https://localhost:8080/"
        },
        "id": "u-MNWGsXcQGS",
        "outputId": "0b1a803e-4c5d-47b5-b0e4-9b7e7127aaf1"
      },
      "execution_count": null,
      "outputs": [
        {
          "output_type": "stream",
          "name": "stdout",
          "text": [
            "Nilai IQR dari Datasheet tersebut adalah : 1.1199999999999997\n",
            "\n"
          ]
        }
      ]
    },
    {
      "cell_type": "code",
      "source": [
        "plt.figure(figsize = (10, 5))\n",
        "sns.boxplot(data['NH4'])\n",
        "plt.axvline(data['NH4'].describe()['25%'], color = 'red', label = 'Q1')\n",
        "plt.axvline(data['NH4'].describe()['50%'], color = 'yellow', label = 'Q2')\n",
        "plt.axvline(data['NH4'].describe()['75%'], color = 'blue', label = 'Q3')\n",
        "plt.annotate('Outlier', (data['NH4'].describe()['max'],0.1), xytext = (data['NH4'].describe()['max'],0.3),\n",
        "             arrowprops = dict(facecolor = 'blue'), fontsize = 13 )\n",
        "\n",
        "IQR = data['NH4'].describe()['75%'] - data['NH4'].describe()['25%']\n",
        "plt.annotate('Batas Atas', (data['NH4'].describe()['75%'] + 1.5*IQR, 0.2), \n",
        "             xytext = (data['NH4'].describe()['75%'] + 1.5*IQR, 0.4),\n",
        "             arrowprops = dict(facecolor = 'blue'), fontsize = 13 )\n",
        "\n",
        "plt.annotate('Batas Bawah', (data['NH4'].describe()['min'], 0.2), \n",
        "             xytext = (data['NH4'].describe()['min'], 0.4),\n",
        "             arrowprops = dict(facecolor = 'blue'), fontsize = 13 )\n",
        "plt.legend()"
      ],
      "metadata": {
        "colab": {
          "base_uri": "https://localhost:8080/",
          "height": 410
        },
        "id": "yatV43yKceIM",
        "outputId": "130a59e5-be35-43a8-d5a5-e74244b23a46"
      },
      "execution_count": null,
      "outputs": [
        {
          "output_type": "stream",
          "name": "stderr",
          "text": [
            "/usr/local/lib/python3.7/dist-packages/seaborn/_decorators.py:43: FutureWarning: Pass the following variable as a keyword arg: x. From version 0.12, the only valid positional argument will be `data`, and passing other arguments without an explicit keyword will result in an error or misinterpretation.\n",
            "  FutureWarning\n"
          ]
        },
        {
          "output_type": "execute_result",
          "data": {
            "text/plain": [
              "<matplotlib.legend.Legend at 0x7fe975a9d550>"
            ]
          },
          "metadata": {},
          "execution_count": 54
        },
        {
          "output_type": "display_data",
          "data": {
            "text/plain": [
              "<Figure size 720x360 with 1 Axes>"
            ],
            "image/png": "[encoded data removed]"
          },
          "metadata": {}
        }
      ]
    },
    {
      "cell_type": "markdown",
      "source": [
        "> **Insights:**\n",
        "* pada visualisasi diatas kolom NH4 tidak lagi mengalami nilai yang outlier \n",
        "\n",
        "\n"
      ],
      "metadata": {
        "id": "15M1hPySf8MK"
      }
    },
    {
      "cell_type": "code",
      "source": [
        "# nilai outlier untuk fitur Co2\n",
        "Q1 = data['Temp'].quantile(0.25)\n",
        "Q3 = data['Temp'].quantile(0.75)\n",
        "\n",
        "# isi nilai yang diluar ambang batas dengan teknik mean \n",
        "data['Temp'].fillna(data['Temp'].value_counts().idxmax(), inplace =True)\n",
        "\n",
        "IQR = Q3 - Q1\n",
        "print(\"Nilai IQR dari Datasheet tersebut adalah :\", IQR)\n",
        "print('')\n",
        "\n",
        "# preprocesing missing outliers\n",
        "data = data[~((data['Temp'] < (Q1 - 1.5 * IQR )) | (data['Temp'] > (Q3 + 1.5 * IQR)))]"
      ],
      "metadata": {
        "colab": {
          "base_uri": "https://localhost:8080/"
        },
        "id": "i5SO8qckieP5",
        "outputId": "65cf1ce9-0594-4f4c-8a23-cbc6ae7d6fe0"
      },
      "execution_count": null,
      "outputs": [
        {
          "output_type": "stream",
          "name": "stdout",
          "text": [
            "Nilai IQR dari Datasheet tersebut adalah : 0.6999999999999993\n",
            "\n"
          ]
        }
      ]
    },
    {
      "cell_type": "code",
      "source": [
        "sns.boxplot(data['Temp'])"
      ],
      "metadata": {
        "colab": {
          "base_uri": "https://localhost:8080/",
          "height": 355
        },
        "id": "PNvRzp73ipk4",
        "outputId": "10f7ef06-3719-4285-c3e0-0ab374bfdb69"
      },
      "execution_count": null,
      "outputs": [
        {
          "output_type": "stream",
          "name": "stderr",
          "text": [
            "/usr/local/lib/python3.7/dist-packages/seaborn/_decorators.py:43: FutureWarning: Pass the following variable as a keyword arg: x. From version 0.12, the only valid positional argument will be `data`, and passing other arguments without an explicit keyword will result in an error or misinterpretation.\n",
            "  FutureWarning\n"
          ]
        },
        {
          "output_type": "execute_result",
          "data": {
            "text/plain": [
              "<matplotlib.axes._subplots.AxesSubplot at 0x7fe975ad64d0>"
            ]
          },
          "metadata": {},
          "execution_count": 56
        },
        {
          "output_type": "display_data",
          "data": {
            "text/plain": [
              "<Figure size 432x288 with 1 Axes>"
            ],
            "image/png": "[encoded data removed]"
          },
          "metadata": {}
        }
      ]
    },
    {
      "cell_type": "code",
      "source": [
        "# nilai outlier untuk fitur Co2\n",
        "Q1 = data['Humi'].quantile(0.25)\n",
        "Q3 = data['Humi'].quantile(0.75)\n",
        "\n",
        "# isi nilai yang diluar ambang batas dengan teknik mean \n",
        "data['Humi'].fillna(data['Humi'].value_counts().idxmax(), inplace =True)\n",
        "\n",
        "IQR = Q3 - Q1\n",
        "print(\"Nilai IQR dari Datasheet tersebut adalah :\", IQR)\n",
        "print('')\n",
        "\n",
        "# preprocesing missing outliers\n",
        "data = data[~((data['Humi'] < (Q1 - 1.5 * IQR )) | (data['Humi'] > (Q3 + 1.5 * IQR)))]"
      ],
      "metadata": {
        "colab": {
          "base_uri": "https://localhost:8080/"
        },
        "id": "yX4NwF9Bi2Q0",
        "outputId": "4afd38c4-af95-4c05-983c-2cbbd265d5ef"
      },
      "execution_count": null,
      "outputs": [
        {
          "output_type": "stream",
          "name": "stdout",
          "text": [
            "Nilai IQR dari Datasheet tersebut adalah : 5.900000000000006\n",
            "\n"
          ]
        }
      ]
    },
    {
      "cell_type": "code",
      "source": [
        "sns.boxplot(data['Humi'])"
      ],
      "metadata": {
        "colab": {
          "base_uri": "https://localhost:8080/",
          "height": 355
        },
        "id": "W-IoDHGfi-uu",
        "outputId": "bd2e889f-6829-4c4c-c38e-90c7efcfb8e1"
      },
      "execution_count": null,
      "outputs": [
        {
          "output_type": "stream",
          "name": "stderr",
          "text": [
            "/usr/local/lib/python3.7/dist-packages/seaborn/_decorators.py:43: FutureWarning: Pass the following variable as a keyword arg: x. From version 0.12, the only valid positional argument will be `data`, and passing other arguments without an explicit keyword will result in an error or misinterpretation.\n",
            "  FutureWarning\n"
          ]
        },
        {
          "output_type": "execute_result",
          "data": {
            "text/plain": [
              "<matplotlib.axes._subplots.AxesSubplot at 0x7fe975a13e50>"
            ]
          },
          "metadata": {},
          "execution_count": 58
        },
        {
          "output_type": "display_data",
          "data": {
            "text/plain": [
              "<Figure size 432x288 with 1 Axes>"
            ],
            "image/png": "[encoded data removed]"
          },
          "metadata": {}
        }
      ]
    },
    {
      "cell_type": "code",
      "execution_count": null,
      "metadata": {
        "colab": {
          "base_uri": "https://localhost:8080/",
          "height": 513
        },
        "id": "T9l5NYzQfklH",
        "outputId": "fbfadbdc-3d5a-4c96-a469-6a2424413312"
      },
      "outputs": [
        {
          "output_type": "execute_result",
          "data": {
            "text/plain": [
              "            Co       Co2      Humi       NH4      Temp\n",
              "Co    1.000000  0.997744 -0.144957  0.995854  0.228111\n",
              "Co2   0.997744  1.000000 -0.145057  0.999688  0.229565\n",
              "Humi -0.144957 -0.145057  1.000000 -0.146878 -0.787484\n",
              "NH4   0.995854  0.999688 -0.146878  1.000000  0.231090\n",
              "Temp  0.228111  0.229565 -0.787484  0.231090  1.000000"
            ],
            "text/html": [
              "\n",
              "  <div id=\"df-0289da4e-71c3-47c6-a057-921f8c6859a4\">\n",
              "    <div class=\"colab-df-container\">\n",
              "      <div>\n",
              "<style scoped>\n",
              "    .dataframe tbody tr th:only-of-type {\n",
              "        vertical-align: middle;\n",
              "    }\n",
              "\n",
              "    .dataframe tbody tr th {\n",
              "        vertical-align: top;\n",
              "    }\n",
              "\n",
              "    .dataframe thead th {\n",
              "        text-align: right;\n",
              "    }\n",
              "</style>\n",
              "<table border=\"1\" class=\"dataframe\">\n",
              "  <thead>\n",
              "    <tr style=\"text-align: right;\">\n",
              "      <th></th>\n",
              "      <th>Co</th>\n",
              "      <th>Co2</th>\n",
              "      <th>Humi</th>\n",
              "      <th>NH4</th>\n",
              "      <th>Temp</th>\n",
              "    </tr>\n",
              "  </thead>\n",
              "  <tbody>\n",
              "    <tr>\n",
              "      <th>Co</th>\n",
              "      <td>1.000000</td>\n",
              "      <td>0.997744</td>\n",
              "      <td>-0.144957</td>\n",
              "      <td>0.995854</td>\n",
              "      <td>0.228111</td>\n",
              "    </tr>\n",
              "    <tr>\n",
              "      <th>Co2</th>\n",
              "      <td>0.997744</td>\n",
              "      <td>1.000000</td>\n",
              "      <td>-0.145057</td>\n",
              "      <td>0.999688</td>\n",
              "      <td>0.229565</td>\n",
              "    </tr>\n",
              "    <tr>\n",
              "      <th>Humi</th>\n",
              "      <td>-0.144957</td>\n",
              "      <td>-0.145057</td>\n",
              "      <td>1.000000</td>\n",
              "      <td>-0.146878</td>\n",
              "      <td>-0.787484</td>\n",
              "    </tr>\n",
              "    <tr>\n",
              "      <th>NH4</th>\n",
              "      <td>0.995854</td>\n",
              "      <td>0.999688</td>\n",
              "      <td>-0.146878</td>\n",
              "      <td>1.000000</td>\n",
              "      <td>0.231090</td>\n",
              "    </tr>\n",
              "    <tr>\n",
              "      <th>Temp</th>\n",
              "      <td>0.228111</td>\n",
              "      <td>0.229565</td>\n",
              "      <td>-0.787484</td>\n",
              "      <td>0.231090</td>\n",
              "      <td>1.000000</td>\n",
              "    </tr>\n",
              "  </tbody>\n",
              "</table>\n",
              "</div>\n",
              "      <button class=\"colab-df-convert\" onclick=\"convertToInteractive('df-0289da4e-71c3-47c6-a057-921f8c6859a4')\"\n",
              "              title=\"Convert this dataframe to an interactive table.\"\n",
              "              style=\"display:none;\">\n",
              "        \n",
              "  <svg xmlns=\"http://www.w3.org/2000/svg\" height=\"24px\"viewBox=\"0 0 24 24\"\n",
              "       width=\"24px\">\n",
              "    <path d=\"M0 0h24v24H0V0z\" fill=\"none\"/>\n",
              "    <path d=\"M18.56 5.44l.94 2.06.94-2.06 2.06-.94-2.06-.94-.94-2.06-.94 2.06-2.06.94zm-11 1L8.5 8.5l.94-2.06 2.06-.94-2.06-.94L8.5 2.5l-.94 2.06-2.06.94zm10 10l.94 2.06.94-2.06 2.06-.94-2.06-.94-.94-2.06-.94 2.06-2.06.94z\"/><path d=\"M17.41 7.96l-1.37-1.37c-.4-.4-.92-.59-1.43-.59-.52 0-1.04.2-1.43.59L10.3 9.45l-7.72 7.72c-.78.78-.78 2.05 0 2.83L4 21.41c.39.39.9.59 1.41.59.51 0 1.02-.2 1.41-.59l7.78-7.78 2.81-2.81c.8-.78.8-2.07 0-2.86zM5.41 20L4 18.59l7.72-7.72 1.47 1.35L5.41 20z\"/>\n",
              "  </svg>\n",
              "      </button>\n",
              "      \n",
              "  <style>\n",
              "    .colab-df-container {\n",
              "      display:flex;\n",
              "      flex-wrap:wrap;\n",
              "      gap: 12px;\n",
              "    }\n",
              "\n",
              "    .colab-df-convert {\n",
              "      background-color: #E8F0FE;\n",
              "      border: none;\n",
              "      border-radius: 50%;\n",
              "      cursor: pointer;\n",
              "      display: none;\n",
              "      fill: #1967D2;\n",
              "      height: 32px;\n",
              "      padding: 0 0 0 0;\n",
              "      width: 32px;\n",
              "    }\n",
              "\n",
              "    .colab-df-convert:hover {\n",
              "      background-color: #E2EBFA;\n",
              "      box-shadow: 0px 1px 2px rgba(60, 64, 67, 0.3), 0px 1px 3px 1px rgba(60, 64, 67, 0.15);\n",
              "      fill: #174EA6;\n",
              "    }\n",
              "\n",
              "    [theme=dark] .colab-df-convert {\n",
              "      background-color: #3B4455;\n",
              "      fill: #D2E3FC;\n",
              "    }\n",
              "\n",
              "    [theme=dark] .colab-df-convert:hover {\n",
              "      background-color: #434B5C;\n",
              "      box-shadow: 0px 1px 3px 1px rgba(0, 0, 0, 0.15);\n",
              "      filter: drop-shadow(0px 1px 2px rgba(0, 0, 0, 0.3));\n",
              "      fill: #FFFFFF;\n",
              "    }\n",
              "  </style>\n",
              "\n",
              "      <script>\n",
              "        const buttonEl =\n",
              "          document.querySelector('#df-0289da4e-71c3-47c6-a057-921f8c6859a4 button.colab-df-convert');\n",
              "        buttonEl.style.display =\n",
              "          google.colab.kernel.accessAllowed ? 'block' : 'none';\n",
              "\n",
              "        async function convertToInteractive(key) {\n",
              "          const element = document.querySelector('#df-0289da4e-71c3-47c6-a057-921f8c6859a4');\n",
              "          const dataTable =\n",
              "            await google.colab.kernel.invokeFunction('convertToInteractive',\n",
              "                                                     [key], {});\n",
              "          if (!dataTable) return;\n",
              "\n",
              "          const docLinkHtml = 'Like what you see? Visit the ' +\n",
              "            '<a target=\"_blank\" href=https://colab.research.google.com/notebooks/data_table.ipynb>data table notebook</a>'\n",
              "            + ' to learn more about interactive tables.';\n",
              "          element.innerHTML = '';\n",
              "          dataTable['output_type'] = 'display_data';\n",
              "          await google.colab.output.renderOutput(dataTable, element);\n",
              "          const docLink = document.createElement('div');\n",
              "          docLink.innerHTML = docLinkHtml;\n",
              "          element.appendChild(docLink);\n",
              "        }\n",
              "      </script>\n",
              "    </div>\n",
              "  </div>\n",
              "  "
            ]
          },
          "metadata": {},
          "execution_count": 59
        },
        {
          "output_type": "display_data",
          "data": {
            "text/plain": [
              "<Figure size 720x360 with 2 Axes>"
            ],
            "image/png": "[encoded data removed]"
          },
          "metadata": {}
        }
      ],
      "source": [
        "plt.figure(figsize=(10, 5))\n",
        "visualisasi = data.corr()\n",
        "sns.heatmap(visualisasi, cmap=\"BrBG\", annot = True)\n",
        "visualisasi"
      ]
    },
    {
      "cell_type": "code",
      "source": [
        "data.describe()"
      ],
      "metadata": {
        "colab": {
          "base_uri": "https://localhost:8080/",
          "height": 300
        },
        "id": "jdQfQvYgc-47",
        "outputId": "8ca19932-f123-45d9-cff0-98b85dfd6a95"
      },
      "execution_count": null,
      "outputs": [
        {
          "output_type": "execute_result",
          "data": {
            "text/plain": [
              "               Co         Co2        Humi         NH4        Temp\n",
              "count  766.000000  766.000000  766.000000  766.000000  766.000000\n",
              "mean     3.105013    2.362389   69.563577    3.671671   31.312402\n",
              "std      1.033806    0.591646    3.778576    0.805534    0.477784\n",
              "min      0.760000    0.860000   63.200000    1.540000   30.200000\n",
              "25%      2.420000    2.000000   66.300000    3.190000   30.900000\n",
              "50%      3.185000    2.435000   70.100000    3.780000   31.400000\n",
              "75%      3.810000    2.780000   72.200000    4.240000   31.600000\n",
              "max      6.020000    3.870000   78.700000    5.650000   32.500000"
            ],
            "text/html": [
              "\n",
              "  <div id=\"df-690e5a4c-17e8-43b4-8ebd-4c0a25aa6d1e\">\n",
              "    <div class=\"colab-df-container\">\n",
              "      <div>\n",
              "<style scoped>\n",
              "    .dataframe tbody tr th:only-of-type {\n",
              "        vertical-align: middle;\n",
              "    }\n",
              "\n",
              "    .dataframe tbody tr th {\n",
              "        vertical-align: top;\n",
              "    }\n",
              "\n",
              "    .dataframe thead th {\n",
              "        text-align: right;\n",
              "    }\n",
              "</style>\n",
              "<table border=\"1\" class=\"dataframe\">\n",
              "  <thead>\n",
              "    <tr style=\"text-align: right;\">\n",
              "      <th></th>\n",
              "      <th>Co</th>\n",
              "      <th>Co2</th>\n",
              "      <th>Humi</th>\n",
              "      <th>NH4</th>\n",
              "      <th>Temp</th>\n",
              "    </tr>\n",
              "  </thead>\n",
              "  <tbody>\n",
              "    <tr>\n",
              "      <th>count</th>\n",
              "      <td>766.000000</td>\n",
              "      <td>766.000000</td>\n",
              "      <td>766.000000</td>\n",
              "      <td>766.000000</td>\n",
              "      <td>766.000000</td>\n",
              "    </tr>\n",
              "    <tr>\n",
              "      <th>mean</th>\n",
              "      <td>3.105013</td>\n",
              "      <td>2.362389</td>\n",
              "      <td>69.563577</td>\n",
              "      <td>3.671671</td>\n",
              "      <td>31.312402</td>\n",
              "    </tr>\n",
              "    <tr>\n",
              "      <th>std</th>\n",
              "      <td>1.033806</td>\n",
              "      <td>0.591646</td>\n",
              "      <td>3.778576</td>\n",
              "      <td>0.805534</td>\n",
              "      <td>0.477784</td>\n",
              "    </tr>\n",
              "    <tr>\n",
              "      <th>min</th>\n",
              "      <td>0.760000</td>\n",
              "      <td>0.860000</td>\n",
              "      <td>63.200000</td>\n",
              "      <td>1.540000</td>\n",
              "      <td>30.200000</td>\n",
              "    </tr>\n",
              "    <tr>\n",
              "      <th>25%</th>\n",
              "      <td>2.420000</td>\n",
              "      <td>2.000000</td>\n",
              "      <td>66.300000</td>\n",
              "      <td>3.190000</td>\n",
              "      <td>30.900000</td>\n",
              "    </tr>\n",
              "    <tr>\n",
              "      <th>50%</th>\n",
              "      <td>3.185000</td>\n",
              "      <td>2.435000</td>\n",
              "      <td>70.100000</td>\n",
              "      <td>3.780000</td>\n",
              "      <td>31.400000</td>\n",
              "    </tr>\n",
              "    <tr>\n",
              "      <th>75%</th>\n",
              "      <td>3.810000</td>\n",
              "      <td>2.780000</td>\n",
              "      <td>72.200000</td>\n",
              "      <td>4.240000</td>\n",
              "      <td>31.600000</td>\n",
              "    </tr>\n",
              "    <tr>\n",
              "      <th>max</th>\n",
              "      <td>6.020000</td>\n",
              "      <td>3.870000</td>\n",
              "      <td>78.700000</td>\n",
              "      <td>5.650000</td>\n",
              "      <td>32.500000</td>\n",
              "    </tr>\n",
              "  </tbody>\n",
              "</table>\n",
              "</div>\n",
              "      <button class=\"colab-df-convert\" onclick=\"convertToInteractive('df-690e5a4c-17e8-43b4-8ebd-4c0a25aa6d1e')\"\n",
              "              title=\"Convert this dataframe to an interactive table.\"\n",
              "              style=\"display:none;\">\n",
              "        \n",
              "  <svg xmlns=\"http://www.w3.org/2000/svg\" height=\"24px\"viewBox=\"0 0 24 24\"\n",
              "       width=\"24px\">\n",
              "    <path d=\"M0 0h24v24H0V0z\" fill=\"none\"/>\n",
              "    <path d=\"M18.56 5.44l.94 2.06.94-2.06 2.06-.94-2.06-.94-.94-2.06-.94 2.06-2.06.94zm-11 1L8.5 8.5l.94-2.06 2.06-.94-2.06-.94L8.5 2.5l-.94 2.06-2.06.94zm10 10l.94 2.06.94-2.06 2.06-.94-2.06-.94-.94-2.06-.94 2.06-2.06.94z\"/><path d=\"M17.41 7.96l-1.37-1.37c-.4-.4-.92-.59-1.43-.59-.52 0-1.04.2-1.43.59L10.3 9.45l-7.72 7.72c-.78.78-.78 2.05 0 2.83L4 21.41c.39.39.9.59 1.41.59.51 0 1.02-.2 1.41-.59l7.78-7.78 2.81-2.81c.8-.78.8-2.07 0-2.86zM5.41 20L4 18.59l7.72-7.72 1.47 1.35L5.41 20z\"/>\n",
              "  </svg>\n",
              "      </button>\n",
              "      \n",
              "  <style>\n",
              "    .colab-df-container {\n",
              "      display:flex;\n",
              "      flex-wrap:wrap;\n",
              "      gap: 12px;\n",
              "    }\n",
              "\n",
              "    .colab-df-convert {\n",
              "      background-color: #E8F0FE;\n",
              "      border: none;\n",
              "      border-radius: 50%;\n",
              "      cursor: pointer;\n",
              "      display: none;\n",
              "      fill: #1967D2;\n",
              "      height: 32px;\n",
              "      padding: 0 0 0 0;\n",
              "      width: 32px;\n",
              "    }\n",
              "\n",
              "    .colab-df-convert:hover {\n",
              "      background-color: #E2EBFA;\n",
              "      box-shadow: 0px 1px 2px rgba(60, 64, 67, 0.3), 0px 1px 3px 1px rgba(60, 64, 67, 0.15);\n",
              "      fill: #174EA6;\n",
              "    }\n",
              "\n",
              "    [theme=dark] .colab-df-convert {\n",
              "      background-color: #3B4455;\n",
              "      fill: #D2E3FC;\n",
              "    }\n",
              "\n",
              "    [theme=dark] .colab-df-convert:hover {\n",
              "      background-color: #434B5C;\n",
              "      box-shadow: 0px 1px 3px 1px rgba(0, 0, 0, 0.15);\n",
              "      filter: drop-shadow(0px 1px 2px rgba(0, 0, 0, 0.3));\n",
              "      fill: #FFFFFF;\n",
              "    }\n",
              "  </style>\n",
              "\n",
              "      <script>\n",
              "        const buttonEl =\n",
              "          document.querySelector('#df-690e5a4c-17e8-43b4-8ebd-4c0a25aa6d1e button.colab-df-convert');\n",
              "        buttonEl.style.display =\n",
              "          google.colab.kernel.accessAllowed ? 'block' : 'none';\n",
              "\n",
              "        async function convertToInteractive(key) {\n",
              "          const element = document.querySelector('#df-690e5a4c-17e8-43b4-8ebd-4c0a25aa6d1e');\n",
              "          const dataTable =\n",
              "            await google.colab.kernel.invokeFunction('convertToInteractive',\n",
              "                                                     [key], {});\n",
              "          if (!dataTable) return;\n",
              "\n",
              "          const docLinkHtml = 'Like what you see? Visit the ' +\n",
              "            '<a target=\"_blank\" href=https://colab.research.google.com/notebooks/data_table.ipynb>data table notebook</a>'\n",
              "            + ' to learn more about interactive tables.';\n",
              "          element.innerHTML = '';\n",
              "          dataTable['output_type'] = 'display_data';\n",
              "          await google.colab.output.renderOutput(dataTable, element);\n",
              "          const docLink = document.createElement('div');\n",
              "          docLink.innerHTML = docLinkHtml;\n",
              "          element.appendChild(docLink);\n",
              "        }\n",
              "      </script>\n",
              "    </div>\n",
              "  </div>\n",
              "  "
            ]
          },
          "metadata": {},
          "execution_count": 60
        }
      ]
    },
    {
      "cell_type": "code",
      "source": [
        "X = data.iloc[:, 0:5]\n",
        "y = data.iloc[:, 1:]\n",
        "y"
      ],
      "metadata": {
        "colab": {
          "base_uri": "https://localhost:8080/",
          "height": 424
        },
        "id": "x16WPsdHk2W1",
        "outputId": "24342a52-678b-4007-e5f2-49ce7b2bc8db"
      },
      "execution_count": null,
      "outputs": [
        {
          "output_type": "execute_result",
          "data": {
            "text/plain": [
              "      Co2  Humi   NH4  Temp\n",
              "0    2.74  70.9  4.18  30.8\n",
              "1    2.69  70.9  4.13  30.8\n",
              "2    2.67  70.9  4.10  30.8\n",
              "3    2.78  70.9  4.24  30.8\n",
              "4    2.73  70.9  4.18  30.9\n",
              "..    ...   ...   ...   ...\n",
              "933  2.63  67.5  4.05  32.0\n",
              "934  2.70  67.3  4.13  32.0\n",
              "935  2.70  67.3  4.13  32.0\n",
              "936  2.76  67.5  4.22  32.0\n",
              "937  2.76  67.8  4.22  32.0\n",
              "\n",
              "[766 rows x 4 columns]"
            ],
            "text/html": [
              "\n",
              "  <div id=\"df-96680c30-09e4-44de-97b4-25175a930e48\">\n",
              "    <div class=\"colab-df-container\">\n",
              "      <div>\n",
              "<style scoped>\n",
              "    .dataframe tbody tr th:only-of-type {\n",
              "        vertical-align: middle;\n",
              "    }\n",
              "\n",
              "    .dataframe tbody tr th {\n",
              "        vertical-align: top;\n",
              "    }\n",
              "\n",
              "    .dataframe thead th {\n",
              "        text-align: right;\n",
              "    }\n",
              "</style>\n",
              "<table border=\"1\" class=\"dataframe\">\n",
              "  <thead>\n",
              "    <tr style=\"text-align: right;\">\n",
              "      <th></th>\n",
              "      <th>Co2</th>\n",
              "      <th>Humi</th>\n",
              "      <th>NH4</th>\n",
              "      <th>Temp</th>\n",
              "    </tr>\n",
              "  </thead>\n",
              "  <tbody>\n",
              "    <tr>\n",
              "      <th>0</th>\n",
              "      <td>2.74</td>\n",
              "      <td>70.9</td>\n",
              "      <td>4.18</td>\n",
              "      <td>30.8</td>\n",
              "    </tr>\n",
              "    <tr>\n",
              "      <th>1</th>\n",
              "      <td>2.69</td>\n",
              "      <td>70.9</td>\n",
              "      <td>4.13</td>\n",
              "      <td>30.8</td>\n",
              "    </tr>\n",
              "    <tr>\n",
              "      <th>2</th>\n",
              "      <td>2.67</td>\n",
              "      <td>70.9</td>\n",
              "      <td>4.10</td>\n",
              "      <td>30.8</td>\n",
              "    </tr>\n",
              "    <tr>\n",
              "      <th>3</th>\n",
              "      <td>2.78</td>\n",
              "      <td>70.9</td>\n",
              "      <td>4.24</td>\n",
              "      <td>30.8</td>\n",
              "    </tr>\n",
              "    <tr>\n",
              "      <th>4</th>\n",
              "      <td>2.73</td>\n",
              "      <td>70.9</td>\n",
              "      <td>4.18</td>\n",
              "      <td>30.9</td>\n",
              "    </tr>\n",
              "    <tr>\n",
              "      <th>...</th>\n",
              "      <td>...</td>\n",
              "      <td>...</td>\n",
              "      <td>...</td>\n",
              "      <td>...</td>\n",
              "    </tr>\n",
              "    <tr>\n",
              "      <th>933</th>\n",
              "      <td>2.63</td>\n",
              "      <td>67.5</td>\n",
              "      <td>4.05</td>\n",
              "      <td>32.0</td>\n",
              "    </tr>\n",
              "    <tr>\n",
              "      <th>934</th>\n",
              "      <td>2.70</td>\n",
              "      <td>67.3</td>\n",
              "      <td>4.13</td>\n",
              "      <td>32.0</td>\n",
              "    </tr>\n",
              "    <tr>\n",
              "      <th>935</th>\n",
              "      <td>2.70</td>\n",
              "      <td>67.3</td>\n",
              "      <td>4.13</td>\n",
              "      <td>32.0</td>\n",
              "    </tr>\n",
              "    <tr>\n",
              "      <th>936</th>\n",
              "      <td>2.76</td>\n",
              "      <td>67.5</td>\n",
              "      <td>4.22</td>\n",
              "      <td>32.0</td>\n",
              "    </tr>\n",
              "    <tr>\n",
              "      <th>937</th>\n",
              "      <td>2.76</td>\n",
              "      <td>67.8</td>\n",
              "      <td>4.22</td>\n",
              "      <td>32.0</td>\n",
              "    </tr>\n",
              "  </tbody>\n",
              "</table>\n",
              "<p>766 rows × 4 columns</p>\n",
              "</div>\n",
              "      <button class=\"colab-df-convert\" onclick=\"convertToInteractive('df-96680c30-09e4-44de-97b4-25175a930e48')\"\n",
              "              title=\"Convert this dataframe to an interactive table.\"\n",
              "              style=\"display:none;\">\n",
              "        \n",
              "  <svg xmlns=\"http://www.w3.org/2000/svg\" height=\"24px\"viewBox=\"0 0 24 24\"\n",
              "       width=\"24px\">\n",
              "    <path d=\"M0 0h24v24H0V0z\" fill=\"none\"/>\n",
              "    <path d=\"M18.56 5.44l.94 2.06.94-2.06 2.06-.94-2.06-.94-.94-2.06-.94 2.06-2.06.94zm-11 1L8.5 8.5l.94-2.06 2.06-.94-2.06-.94L8.5 2.5l-.94 2.06-2.06.94zm10 10l.94 2.06.94-2.06 2.06-.94-2.06-.94-.94-2.06-.94 2.06-2.06.94z\"/><path d=\"M17.41 7.96l-1.37-1.37c-.4-.4-.92-.59-1.43-.59-.52 0-1.04.2-1.43.59L10.3 9.45l-7.72 7.72c-.78.78-.78 2.05 0 2.83L4 21.41c.39.39.9.59 1.41.59.51 0 1.02-.2 1.41-.59l7.78-7.78 2.81-2.81c.8-.78.8-2.07 0-2.86zM5.41 20L4 18.59l7.72-7.72 1.47 1.35L5.41 20z\"/>\n",
              "  </svg>\n",
              "      </button>\n",
              "      \n",
              "  <style>\n",
              "    .colab-df-container {\n",
              "      display:flex;\n",
              "      flex-wrap:wrap;\n",
              "      gap: 12px;\n",
              "    }\n",
              "\n",
              "    .colab-df-convert {\n",
              "      background-color: #E8F0FE;\n",
              "      border: none;\n",
              "      border-radius: 50%;\n",
              "      cursor: pointer;\n",
              "      display: none;\n",
              "      fill: #1967D2;\n",
              "      height: 32px;\n",
              "      padding: 0 0 0 0;\n",
              "      width: 32px;\n",
              "    }\n",
              "\n",
              "    .colab-df-convert:hover {\n",
              "      background-color: #E2EBFA;\n",
              "      box-shadow: 0px 1px 2px rgba(60, 64, 67, 0.3), 0px 1px 3px 1px rgba(60, 64, 67, 0.15);\n",
              "      fill: #174EA6;\n",
              "    }\n",
              "\n",
              "    [theme=dark] .colab-df-convert {\n",
              "      background-color: #3B4455;\n",
              "      fill: #D2E3FC;\n",
              "    }\n",
              "\n",
              "    [theme=dark] .colab-df-convert:hover {\n",
              "      background-color: #434B5C;\n",
              "      box-shadow: 0px 1px 3px 1px rgba(0, 0, 0, 0.15);\n",
              "      filter: drop-shadow(0px 1px 2px rgba(0, 0, 0, 0.3));\n",
              "      fill: #FFFFFF;\n",
              "    }\n",
              "  </style>\n",
              "\n",
              "      <script>\n",
              "        const buttonEl =\n",
              "          document.querySelector('#df-96680c30-09e4-44de-97b4-25175a930e48 button.colab-df-convert');\n",
              "        buttonEl.style.display =\n",
              "          google.colab.kernel.accessAllowed ? 'block' : 'none';\n",
              "\n",
              "        async function convertToInteractive(key) {\n",
              "          const element = document.querySelector('#df-96680c30-09e4-44de-97b4-25175a930e48');\n",
              "          const dataTable =\n",
              "            await google.colab.kernel.invokeFunction('convertToInteractive',\n",
              "                                                     [key], {});\n",
              "          if (!dataTable) return;\n",
              "\n",
              "          const docLinkHtml = 'Like what you see? Visit the ' +\n",
              "            '<a target=\"_blank\" href=https://colab.research.google.com/notebooks/data_table.ipynb>data table notebook</a>'\n",
              "            + ' to learn more about interactive tables.';\n",
              "          element.innerHTML = '';\n",
              "          dataTable['output_type'] = 'display_data';\n",
              "          await google.colab.output.renderOutput(dataTable, element);\n",
              "          const docLink = document.createElement('div');\n",
              "          docLink.innerHTML = docLinkHtml;\n",
              "          element.appendChild(docLink);\n",
              "        }\n",
              "      </script>\n",
              "    </div>\n",
              "  </div>\n",
              "  "
            ]
          },
          "metadata": {},
          "execution_count": 30
        }
      ]
    },
    {
      "cell_type": "code",
      "execution_count": null,
      "metadata": {
        "colab": {
          "base_uri": "https://localhost:8080/",
          "height": 426
        },
        "id": "F8SAj0vArnSQ",
        "outputId": "eab82a5e-6524-497b-b8d6-2c4fbe439694"
      },
      "outputs": [
        {
          "output_type": "execute_result",
          "data": {
            "text/plain": [
              "Text(0, 0.5, 'Seconds principial components')"
            ]
          },
          "metadata": {},
          "execution_count": 71
        },
        {
          "output_type": "display_data",
          "data": {
            "text/plain": [
              "<Figure size 576x432 with 1 Axes>"
            ],
            "image/png": "[encoded data removed]"
          },
          "metadata": {}
        }
      ],
      "source": [
        "# import library \n",
        "from sklearn.preprocessing import MinMaxScaler\n",
        "from sklearn.decomposition import PCA\n",
        "\n",
        "# scaling datasheet dengan pandas\n",
        "X = data.iloc[:, 0:5]\n",
        "y = data.iloc[:, 1:]\n",
        "\n",
        "# transformasi data dengan standard scaler\n",
        "scaler = MinMaxScaler()\n",
        "scaler = scaler.fit_transform(data)\n",
        "\n",
        "# transformasikan ke dalam bentuk PCA\n",
        "pca = PCA(n_components=2)\n",
        "pca.fit(scaler)\n",
        "x_pca = pca.transform(scaler)\n",
        "\n",
        "plt.figure(figsize=(8,6))\n",
        "plt.scatter(x_pca[:,0], x_pca[:,1], c = data['Co'], cmap='plasma')\n",
        "plt.title('Diagram scatter plot penyebaran data dengan Teknik PCA',\n",
        "          fontsize = 14)\n",
        "plt.xlabel('First principial components')\n",
        "plt.ylabel('Seconds principial components')\n",
        "\n",
        "# download hasil visualisasi\n",
        "# plt.savefig(\"Histogram Penyebaran gas carbon.png\", quality = 95)"
      ]
    },
    {
      "cell_type": "code",
      "execution_count": null,
      "metadata": {
        "colab": {
          "base_uri": "https://localhost:8080/"
        },
        "id": "5XKnxL1bsOm1",
        "outputId": "1a22800b-38cf-4320-b929-212e4dbda38d"
      },
      "outputs": [
        {
          "output_type": "execute_result",
          "data": {
            "text/plain": [
              "array([[-0.50247374, -0.50327961,  0.35683381, -0.50195179, -0.33903363],\n",
              "       [-0.28343152, -0.2835466 , -0.69648376, -0.28132376,  0.52443801]])"
            ]
          },
          "metadata": {},
          "execution_count": 62
        }
      ],
      "source": [
        "pca.components_"
      ]
    },
    {
      "cell_type": "markdown",
      "source": [
        "# **4. Build Model Klasterisasi Kadar Polusi Udara dengan Algoritma K-Means**\n",
        "pada bagian ini dilakukan build model klasterisasi kadar polusi udara dengan menggunakan algoritma K-Means"
      ],
      "metadata": {
        "id": "qPLmQwmwZcsB"
      }
    },
    {
      "cell_type": "code",
      "source": [
        "from pprint import pprint\n",
        "from time import time\n",
        "from sklearn.cluster import KMeans, MiniBatchKMeans\n",
        "from yellowbrick.cluster import SilhouetteVisualizer"
      ],
      "metadata": {
        "id": "ac8GVoPHhPew"
      },
      "execution_count": null,
      "outputs": []
    },
    {
      "cell_type": "markdown",
      "source": [
        "## **4.1 Fitting model dengan algoritma K-Means**"
      ],
      "metadata": {
        "id": "6_DGp5oIHgmV"
      }
    },
    {
      "cell_type": "code",
      "source": [
        "K = 4\n",
        "mb_kmeans_4 = MiniBatchKMeans(n_clusters=K)\n",
        "\n",
        "start = time()\n",
        "mb_kmeans_4.fit(x_pca)\n",
        "print(f\"Done fitting kMeans in {time()-start:.3f}s\")"
      ],
      "metadata": {
        "colab": {
          "base_uri": "https://localhost:8080/"
        },
        "id": "3mZYRyGWhJGD",
        "outputId": "8b730735-f01a-48d1-deb5-0cde3b7bea7c"
      },
      "execution_count": null,
      "outputs": [
        {
          "output_type": "stream",
          "name": "stdout",
          "text": [
            "Done fitting kMeans in 0.178s\n"
          ]
        }
      ]
    },
    {
      "cell_type": "code",
      "source": [
        "X = data.assign(\n",
        "    clusters_of_5 = mb_kmeans_4.predict(x_pca),\n",
        ")\n",
        "\n",
        "with pd.option_context(\"display.max_columns\", None):\n",
        "    display(X.head())"
      ],
      "metadata": {
        "colab": {
          "base_uri": "https://localhost:8080/",
          "height": 206
        },
        "id": "BUfJ-NKnkKVO",
        "outputId": "79d78f72-4305-44d4-bd12-b4e0534230b0"
      },
      "execution_count": null,
      "outputs": [
        {
          "output_type": "display_data",
          "data": {
            "text/plain": [
              "     Co   Co2  Humi   NH4  Temp  clusters_of_5\n",
              "0  3.74  2.74  70.9  4.18  30.8              0\n",
              "1  3.65  2.69  70.9  4.13  30.8              0\n",
              "2  3.61  2.67  70.9  4.10  30.8              0\n",
              "3  3.82  2.78  70.9  4.24  30.8              0\n",
              "4  3.73  2.73  70.9  4.18  30.9              0"
            ],
            "text/html": [
              "\n",
              "  <div id=\"df-834da4b7-45d5-4329-b767-29e9ff353dde\">\n",
              "    <div class=\"colab-df-container\">\n",
              "      <div>\n",
              "<style scoped>\n",
              "    .dataframe tbody tr th:only-of-type {\n",
              "        vertical-align: middle;\n",
              "    }\n",
              "\n",
              "    .dataframe tbody tr th {\n",
              "        vertical-align: top;\n",
              "    }\n",
              "\n",
              "    .dataframe thead th {\n",
              "        text-align: right;\n",
              "    }\n",
              "</style>\n",
              "<table border=\"1\" class=\"dataframe\">\n",
              "  <thead>\n",
              "    <tr style=\"text-align: right;\">\n",
              "      <th></th>\n",
              "      <th>Co</th>\n",
              "      <th>Co2</th>\n",
              "      <th>Humi</th>\n",
              "      <th>NH4</th>\n",
              "      <th>Temp</th>\n",
              "      <th>clusters_of_5</th>\n",
              "    </tr>\n",
              "  </thead>\n",
              "  <tbody>\n",
              "    <tr>\n",
              "      <th>0</th>\n",
              "      <td>3.74</td>\n",
              "      <td>2.74</td>\n",
              "      <td>70.9</td>\n",
              "      <td>4.18</td>\n",
              "      <td>30.8</td>\n",
              "      <td>0</td>\n",
              "    </tr>\n",
              "    <tr>\n",
              "      <th>1</th>\n",
              "      <td>3.65</td>\n",
              "      <td>2.69</td>\n",
              "      <td>70.9</td>\n",
              "      <td>4.13</td>\n",
              "      <td>30.8</td>\n",
              "      <td>0</td>\n",
              "    </tr>\n",
              "    <tr>\n",
              "      <th>2</th>\n",
              "      <td>3.61</td>\n",
              "      <td>2.67</td>\n",
              "      <td>70.9</td>\n",
              "      <td>4.10</td>\n",
              "      <td>30.8</td>\n",
              "      <td>0</td>\n",
              "    </tr>\n",
              "    <tr>\n",
              "      <th>3</th>\n",
              "      <td>3.82</td>\n",
              "      <td>2.78</td>\n",
              "      <td>70.9</td>\n",
              "      <td>4.24</td>\n",
              "      <td>30.8</td>\n",
              "      <td>0</td>\n",
              "    </tr>\n",
              "    <tr>\n",
              "      <th>4</th>\n",
              "      <td>3.73</td>\n",
              "      <td>2.73</td>\n",
              "      <td>70.9</td>\n",
              "      <td>4.18</td>\n",
              "      <td>30.9</td>\n",
              "      <td>0</td>\n",
              "    </tr>\n",
              "  </tbody>\n",
              "</table>\n",
              "</div>\n",
              "      <button class=\"colab-df-convert\" onclick=\"convertToInteractive('df-834da4b7-45d5-4329-b767-29e9ff353dde')\"\n",
              "              title=\"Convert this dataframe to an interactive table.\"\n",
              "              style=\"display:none;\">\n",
              "        \n",
              "  <svg xmlns=\"http://www.w3.org/2000/svg\" height=\"24px\"viewBox=\"0 0 24 24\"\n",
              "       width=\"24px\">\n",
              "    <path d=\"M0 0h24v24H0V0z\" fill=\"none\"/>\n",
              "    <path d=\"M18.56 5.44l.94 2.06.94-2.06 2.06-.94-2.06-.94-.94-2.06-.94 2.06-2.06.94zm-11 1L8.5 8.5l.94-2.06 2.06-.94-2.06-.94L8.5 2.5l-.94 2.06-2.06.94zm10 10l.94 2.06.94-2.06 2.06-.94-2.06-.94-.94-2.06-.94 2.06-2.06.94z\"/><path d=\"M17.41 7.96l-1.37-1.37c-.4-.4-.92-.59-1.43-.59-.52 0-1.04.2-1.43.59L10.3 9.45l-7.72 7.72c-.78.78-.78 2.05 0 2.83L4 21.41c.39.39.9.59 1.41.59.51 0 1.02-.2 1.41-.59l7.78-7.78 2.81-2.81c.8-.78.8-2.07 0-2.86zM5.41 20L4 18.59l7.72-7.72 1.47 1.35L5.41 20z\"/>\n",
              "  </svg>\n",
              "      </button>\n",
              "      \n",
              "  <style>\n",
              "    .colab-df-container {\n",
              "      display:flex;\n",
              "      flex-wrap:wrap;\n",
              "      gap: 12px;\n",
              "    }\n",
              "\n",
              "    .colab-df-convert {\n",
              "      background-color: #E8F0FE;\n",
              "      border: none;\n",
              "      border-radius: 50%;\n",
              "      cursor: pointer;\n",
              "      display: none;\n",
              "      fill: #1967D2;\n",
              "      height: 32px;\n",
              "      padding: 0 0 0 0;\n",
              "      width: 32px;\n",
              "    }\n",
              "\n",
              "    .colab-df-convert:hover {\n",
              "      background-color: #E2EBFA;\n",
              "      box-shadow: 0px 1px 2px rgba(60, 64, 67, 0.3), 0px 1px 3px 1px rgba(60, 64, 67, 0.15);\n",
              "      fill: #174EA6;\n",
              "    }\n",
              "\n",
              "    [theme=dark] .colab-df-convert {\n",
              "      background-color: #3B4455;\n",
              "      fill: #D2E3FC;\n",
              "    }\n",
              "\n",
              "    [theme=dark] .colab-df-convert:hover {\n",
              "      background-color: #434B5C;\n",
              "      box-shadow: 0px 1px 3px 1px rgba(0, 0, 0, 0.15);\n",
              "      filter: drop-shadow(0px 1px 2px rgba(0, 0, 0, 0.3));\n",
              "      fill: #FFFFFF;\n",
              "    }\n",
              "  </style>\n",
              "\n",
              "      <script>\n",
              "        const buttonEl =\n",
              "          document.querySelector('#df-834da4b7-45d5-4329-b767-29e9ff353dde button.colab-df-convert');\n",
              "        buttonEl.style.display =\n",
              "          google.colab.kernel.accessAllowed ? 'block' : 'none';\n",
              "\n",
              "        async function convertToInteractive(key) {\n",
              "          const element = document.querySelector('#df-834da4b7-45d5-4329-b767-29e9ff353dde');\n",
              "          const dataTable =\n",
              "            await google.colab.kernel.invokeFunction('convertToInteractive',\n",
              "                                                     [key], {});\n",
              "          if (!dataTable) return;\n",
              "\n",
              "          const docLinkHtml = 'Like what you see? Visit the ' +\n",
              "            '<a target=\"_blank\" href=https://colab.research.google.com/notebooks/data_table.ipynb>data table notebook</a>'\n",
              "            + ' to learn more about interactive tables.';\n",
              "          element.innerHTML = '';\n",
              "          dataTable['output_type'] = 'display_data';\n",
              "          await google.colab.output.renderOutput(dataTable, element);\n",
              "          const docLink = document.createElement('div');\n",
              "          docLink.innerHTML = docLinkHtml;\n",
              "          element.appendChild(docLink);\n",
              "        }\n",
              "      </script>\n",
              "    </div>\n",
              "  </div>\n",
              "  "
            ]
          },
          "metadata": {}
        }
      ]
    },
    {
      "cell_type": "markdown",
      "source": [
        "## **4.2 Sum of Squared distances**"
      ],
      "metadata": {
        "id": "BxKg1QgdHxs2"
      }
    },
    {
      "cell_type": "code",
      "source": [
        "# sum of squared distances\n",
        "ssd = []\n",
        "\n",
        "# may take a longer time to run (takes up to approximately 6 min)\n",
        "for k in range(1, 11):\n",
        "    model = KMeans(n_clusters=k, random_state=11)\n",
        "    print(f\"Clustering with n_clusters={k}\")\n",
        "    start = time()\n",
        "    model.fit(x_pca)\n",
        "    print(f\"Done clustering in {time()-start:.3f}s\")\n",
        "\n",
        "    ssd.append(model.inertia_)"
      ],
      "metadata": {
        "colab": {
          "base_uri": "https://localhost:8080/"
        },
        "id": "uPhobLXUkrMl",
        "outputId": "1d54e086-09cc-403f-a35b-b132c842c7bc"
      },
      "execution_count": null,
      "outputs": [
        {
          "output_type": "stream",
          "name": "stdout",
          "text": [
            "Clustering with n_clusters=1\n",
            "Done clustering in 0.011s\n",
            "Clustering with n_clusters=2\n",
            "Done clustering in 0.028s\n",
            "Clustering with n_clusters=3\n",
            "Done clustering in 0.024s\n",
            "Clustering with n_clusters=4\n",
            "Done clustering in 0.025s\n",
            "Clustering with n_clusters=5\n",
            "Done clustering in 0.029s\n",
            "Clustering with n_clusters=6\n",
            "Done clustering in 0.033s\n",
            "Clustering with n_clusters=7\n",
            "Done clustering in 0.036s\n",
            "Clustering with n_clusters=8\n",
            "Done clustering in 0.039s\n",
            "Clustering with n_clusters=9\n",
            "Done clustering in 0.044s\n",
            "Clustering with n_clusters=10\n",
            "Done clustering in 0.042s\n"
          ]
        }
      ]
    },
    {
      "cell_type": "markdown",
      "source": [
        "## **4.3 Visualisasi N_Clusters** "
      ],
      "metadata": {
        "id": "oJ391KKGIA4K"
      }
    },
    {
      "cell_type": "code",
      "source": [
        "plt.figure(figsize=(12, 6))\n",
        "sns.lineplot(x=range(1, 11), y=ssd)\n",
        "sns.scatterplot(x=range(1, 11), y=ssd)\n",
        "plt.xticks(range(1, 11))\n",
        "plt.show()"
      ],
      "metadata": {
        "colab": {
          "base_uri": "https://localhost:8080/",
          "height": 374
        },
        "id": "0k9LoFFDmHX2",
        "outputId": "a2ca40eb-dc24-4ccd-dcc8-fe2cab8792bc"
      },
      "execution_count": null,
      "outputs": [
        {
          "output_type": "display_data",
          "data": {
            "text/plain": [
              "<Figure size 864x432 with 1 Axes>"
            ],
            "image/png": "[encoded data removed]"
          },
          "metadata": {}
        }
      ]
    },
    {
      "cell_type": "markdown",
      "metadata": {
        "id": "0PwOcyvsnC6c"
      },
      "source": [
        "## **4.4 Silhouette Coefficient**\n",
        "\n",
        "* Koefisien silhouette dihitung menggunakan persamaan:\n",
        "\n",
        "$$\n",
        "\\frac{b-a}{\\max{(a, b)}},\n",
        "$$\n",
        "\n",
        "* dengan $a$ adalah jarak **intra-cluster**, yaitu jarak antar elemen dalam satu cluster, dan $a$ adalah jarak **inter-cluster**, yaitu jarak suatu elemen dengan elemen lain yang tidak dalam satu cluster yang sama. \n",
        "\n",
        "* Nilai koefisien silhouette berada pada rentang antara -1 sampai 1. Jika koefisien silhouette semakin mendekati 1, maka bisa dikatakan cluster yang dihasilkan sudah optimal.\n",
        "\n",
        "* Kita bisa menggunakan fungsi `silhouette_score` dari scikit-learn."
      ]
    },
    {
      "cell_type": "code",
      "source": [
        "limit = int(len(x_pca)*0.2)\n",
        "X_scaled_sample = x_pca[0:limit]"
      ],
      "metadata": {
        "id": "Yb_wQ6UTmS2L"
      },
      "execution_count": null,
      "outputs": []
    },
    {
      "cell_type": "code",
      "source": [
        "silhouette_scores = []\n",
        "\n",
        "# INFORMATION\n",
        "# It may take a longer time to run, the sample data took around 46m 30s to be completed\n",
        "\n",
        "for k in range(2, 21):\n",
        "    model = KMeans(n_clusters=k, random_state=11)\n",
        "    print(f\"Clustering with n_clusters={k}\")\n",
        "    start = time()\n",
        "    model.fit(X_scaled_sample)\n",
        "    print(f\"Done clustering in {time()-start:.3f}s\")\n",
        "\n",
        "    print(\"Calculating silhouette coefficient..\")\n",
        "    start = time()\n",
        "    silhouette_scores.append(silhouette_score(X_scaled_sample, model.labels_))\n",
        "    print(f\"Done calculating in {time()-start:.3f}s\")"
      ],
      "metadata": {
        "colab": {
          "base_uri": "https://localhost:8080/"
        },
        "id": "luujdH3EmZej",
        "outputId": "3d1ae121-300d-4f88-c813-ff8f666a20ca"
      },
      "execution_count": null,
      "outputs": [
        {
          "output_type": "stream",
          "name": "stdout",
          "text": [
            "Clustering with n_clusters=2\n",
            "Done clustering in 0.027s\n",
            "Calculating silhouette coefficient..\n",
            "Done calculating in 0.007s\n",
            "Clustering with n_clusters=3\n",
            "Done clustering in 0.017s\n",
            "Calculating silhouette coefficient..\n",
            "Done calculating in 0.003s\n",
            "Clustering with n_clusters=4\n",
            "Done clustering in 0.026s\n",
            "Calculating silhouette coefficient..\n",
            "Done calculating in 0.002s\n",
            "Clustering with n_clusters=5\n",
            "Done clustering in 0.031s\n",
            "Calculating silhouette coefficient..\n",
            "Done calculating in 0.002s\n",
            "Clustering with n_clusters=6\n",
            "Done clustering in 0.129s\n",
            "Calculating silhouette coefficient..\n",
            "Done calculating in 0.006s\n",
            "Clustering with n_clusters=7\n",
            "Done clustering in 0.039s\n",
            "Calculating silhouette coefficient..\n",
            "Done calculating in 0.002s\n",
            "Clustering with n_clusters=8\n",
            "Done clustering in 0.045s\n",
            "Calculating silhouette coefficient..\n",
            "Done calculating in 0.002s\n",
            "Clustering with n_clusters=9\n",
            "Done clustering in 0.129s\n",
            "Calculating silhouette coefficient..\n",
            "Done calculating in 0.006s\n",
            "Clustering with n_clusters=10\n",
            "Done clustering in 0.047s\n",
            "Calculating silhouette coefficient..\n",
            "Done calculating in 0.002s\n",
            "Clustering with n_clusters=11\n",
            "Done clustering in 0.050s\n",
            "Calculating silhouette coefficient..\n",
            "Done calculating in 0.002s\n",
            "Clustering with n_clusters=12\n",
            "Done clustering in 0.049s\n",
            "Calculating silhouette coefficient..\n",
            "Done calculating in 0.005s\n",
            "Clustering with n_clusters=13\n",
            "Done clustering in 0.057s\n",
            "Calculating silhouette coefficient..\n",
            "Done calculating in 0.002s\n",
            "Clustering with n_clusters=14\n",
            "Done clustering in 0.084s\n",
            "Calculating silhouette coefficient..\n",
            "Done calculating in 0.002s\n",
            "Clustering with n_clusters=15\n",
            "Done clustering in 0.078s\n",
            "Calculating silhouette coefficient..\n",
            "Done calculating in 0.002s\n",
            "Clustering with n_clusters=16\n",
            "Done clustering in 0.061s\n",
            "Calculating silhouette coefficient..\n",
            "Done calculating in 0.005s\n",
            "Clustering with n_clusters=17\n",
            "Done clustering in 0.143s\n",
            "Calculating silhouette coefficient..\n",
            "Done calculating in 0.002s\n",
            "Clustering with n_clusters=18\n",
            "Done clustering in 0.069s\n",
            "Calculating silhouette coefficient..\n",
            "Done calculating in 0.005s\n",
            "Clustering with n_clusters=19\n",
            "Done clustering in 0.131s\n",
            "Calculating silhouette coefficient..\n",
            "Done calculating in 0.004s\n",
            "Clustering with n_clusters=20\n",
            "Done clustering in 0.068s\n",
            "Calculating silhouette coefficient..\n",
            "Done calculating in 0.004s\n"
          ]
        }
      ]
    },
    {
      "cell_type": "code",
      "source": [
        "plt.figure(figsize=(12, 6))\n",
        "sns.lineplot(x=range(2, 21), y=silhouette_scores)\n",
        "sns.scatterplot(x=range(2, 21), y=silhouette_scores)\n",
        "plt.xticks(range(1, 20))\n",
        "plt.show()"
      ],
      "metadata": {
        "colab": {
          "base_uri": "https://localhost:8080/",
          "height": 374
        },
        "id": "A1gK6QeZmqDP",
        "outputId": "7f8648d3-0a96-4d87-fd24-2ba9911e812b"
      },
      "execution_count": null,
      "outputs": [
        {
          "output_type": "display_data",
          "data": {
            "text/plain": [
              "<Figure size 864x432 with 1 Axes>"
            ],
            "image/png": "[encoded data removed]"
          },
          "metadata": {}
        }
      ]
    },
    {
      "cell_type": "markdown",
      "source": [
        "## **4.5 Visualisasi Teknik Elbow**"
      ],
      "metadata": {
        "id": "L_hCfTsyIole"
      }
    },
    {
      "cell_type": "code",
      "source": [
        "wcss=[]\n",
        "for k in range(1,11):\n",
        "    kmeans=KMeans(n_clusters=k,init=\"k-means++\")\n",
        "    kmeans.fit(x_pca)\n",
        "    wcss.append(kmeans.inertia_)\n",
        "plt.figure(figsize=(12,6))\n",
        "plt.grid()\n",
        "plt.plot(range(1,11),wcss,marker='8')\n",
        "plt.xlabel(\"K value\")\n",
        "plt.ylabel(\"WCSS\")\n",
        "plt.show()"
      ],
      "metadata": {
        "colab": {
          "base_uri": "https://localhost:8080/",
          "height": 392
        },
        "id": "g3orAKo-oggg",
        "outputId": "334e4116-a6d4-4a1b-ade4-879920c60e2a"
      },
      "execution_count": null,
      "outputs": [
        {
          "output_type": "display_data",
          "data": {
            "text/plain": [
              "<Figure size 864x432 with 1 Axes>"
            ],
            "image/png": "[encoded data removed]"
          },
          "metadata": {}
        }
      ]
    },
    {
      "cell_type": "markdown",
      "source": [
        "## **4.6 Model Development**"
      ],
      "metadata": {
        "id": "T4MOv4rFIxZa"
      }
    },
    {
      "cell_type": "code",
      "source": [
        "mc_kmeans = KMeans(n_clusters=4)\n",
        "label = kmeans.fit_predict(x_pca)\n",
        "print(label)"
      ],
      "metadata": {
        "colab": {
          "base_uri": "https://localhost:8080/"
        },
        "id": "Zz-0bOGco4bt",
        "outputId": "602dc7a5-e999-4497-d3c6-7fbecb042d84"
      },
      "execution_count": null,
      "outputs": [
        {
          "output_type": "stream",
          "name": "stdout",
          "text": [
            "[4 4 4 4 4 4 4 2 2 2 2 2 2 2 2 2 2 2 2 2 2 2 2 2 2 2 2 2 2 2 6 2 2 4 4 9 9\n",
            " 9 4 2 2 2 2 9 9 9 9 9 9 9 9 9 9 9 9 9 9 4 4 4 4 4 4 4 4 4 4 4 4 2 2 2 2 4\n",
            " 4 6 6 6 6 6 6 6 6 6 6 6 6 6 6 6 6 6 6 6 6 6 6 6 6 4 4 4 4 4 4 4 2 2 2 2 7\n",
            " 7 7 7 7 7 7 7 7 7 7 7 7 7 7 7 7 7 7 7 7 7 7 7 7 7 7 7 7 7 7 7 7 7 7 7 7 7\n",
            " 7 7 7 7 7 7 7 7 7 7 7 7 0 0 0 0 0 0 0 0 0 0 0 0 0 0 0 0 0 0 0 0 0 0 0 0 0\n",
            " 0 0 0 0 0 0 0 0 0 0 0 8 8 8 8 8 8 8 8 8 8 8 8 5 5 5 5 5 5 5 5 5 5 5 5 5 5\n",
            " 5 5 5 5 5 5 5 5 5 5 5 5 5 5 5 5 0 0 0 0 0 0 0 0 0 0 0 0 0 0 0 0 0 0 0 0 0\n",
            " 0 0 0 0 0 0 0 0 0 0 0 0 0 0 0 0 0 0 0 0 0 0 0 0 0 0 0 0 0 0 0 0 0 0 0 0 0\n",
            " 0 0 0 0 1 1 1 1 1 1 1 1 1 1 1 1 1 1 1 1 1 1 1 1 1 1 1 1 1 1 1 1 1 1 1 3 3\n",
            " 3 3 6 3 3 3 3 3 3 3 3 3 3 3 3 3 3 3 3 3 3 3 3 3 3 3 3 3 3 3 3 3 3 1 1 1 1\n",
            " 1 1 1 1 1 1 1 1 1 1 1 1 1 1 1 1 1 1 1 1 1 1 1 1 1 1 1 1 1 1 1 1 1 1 1 1 1\n",
            " 1 1 1 1 1 1 1 1 1 1 1 1 1 1 3 3 3 3 3 3 3 3 3 3 3 3 3 3 3 3 3 3 3 3 3 3 3\n",
            " 3 3 3 3 3 3 3 3 3 3 3 3 3 3 3 3 3 3 3 3 4 4 4 4 4 4 4 4 2 4 4 6 6 6 6 6 4\n",
            " 4 4 4 6 6 6 6 4 4 4 4 4 2 2 2 2 2 2 2 2 2 2 2 2 2 2 2 2 2 2 4 4 2 2 4 4 4\n",
            " 4 4 4 4 4 4 4 4 4 4 4 4 4 4 4 4 4 4 4 4 4 4 4 4 4 4 4 4 4 4 4 4 4 4 4 4 4\n",
            " 4 4 4 4 4 4 4 4 4 4 4 4 4 4 4 4 4 4 4 4 4 4 4 4 4 4 4 4 4 4 4 4 4 4 4 4 4\n",
            " 4 4 4 4 4 4 4 4 4 4 4 4 4 4 4 4 4 4 4 4 4 4 4 2 2 2 2 2 2 2 2 2 2 2 2 2 2\n",
            " 1 4 3 3 2 2 2 2 2 2 2 2 2 2 2 2 2 2 2 4 4 2 7 7 7 8 8 8 8 8 8 8 8 8 8 8 8\n",
            " 8 8 8 8 8 8 8 8 8 8 8 8 8 8 8 8 8 8 8 8 8 8 0 7 8 8 8 8 8 8 8 8 8 8 8 8 8\n",
            " 8 8 8 8 8 8 8 8 8 8 8 8 8 8 8 8 8 8 8 0 0 7 7 7 7 7 7 7 7 7 7 7 7 7 7 7 7\n",
            " 7 7 7 7 7 7 7 7 7 7 7 7 7 7 7 7 0 0 0 0 0 0 0 0 0 0]\n"
          ]
        }
      ]
    },
    {
      "cell_type": "code",
      "execution_count": null,
      "metadata": {
        "colab": {
          "base_uri": "https://localhost:8080/",
          "height": 746
        },
        "id": "qSaYBsH0s_ub",
        "outputId": "2c6533d8-36ee-4218-8fdf-6d8bdbc4bf63"
      },
      "outputs": [
        {
          "output_type": "stream",
          "name": "stdout",
          "text": [
            "[[-0.11577905 -0.20980826]\n",
            " [ 0.21338812  0.42612874]\n",
            " [-0.29131844  0.18743382]\n",
            " [ 0.58054247 -0.20893141]]\n"
          ]
        },
        {
          "output_type": "execute_result",
          "data": {
            "text/plain": [
              "      Co   Co2  Humi   NH4  Temp  K-Means\n",
              "0   3.74  2.74  70.9  4.18  30.8        0\n",
              "1   3.65  2.69  70.9  4.13  30.8        0\n",
              "2   3.61  2.67  70.9  4.10  30.8        0\n",
              "3   3.82  2.78  70.9  4.24  30.8        0\n",
              "4   3.73  2.73  70.9  4.18  30.9        0\n",
              "5   4.29  3.03  71.7  4.56  30.9        0\n",
              "6   4.29  3.03  71.7  4.56  30.9        0\n",
              "7   3.13  2.41  70.7  3.74  30.9        0\n",
              "8   3.13  2.41  70.7  3.74  30.9        0\n",
              "9   2.91  2.28  70.5  3.57  30.9        0\n",
              "10  2.91  2.28  70.4  3.57  30.9        0\n",
              "11  3.05  2.36  70.5  3.69  30.9        0\n",
              "12  3.05  2.36  70.5  3.69  30.9        0\n",
              "13  3.13  2.41  70.6  3.74  30.9        0\n",
              "14  3.09  2.38  70.6  3.72  30.9        0\n",
              "15  3.13  2.41  70.4  3.74  30.9        0\n",
              "16  3.13  2.41  70.5  3.74  30.9        0\n",
              "17  3.21  2.45  70.5  3.80  30.9        0\n",
              "18  3.21  2.45  70.4  3.80  30.9        0\n",
              "19  3.21  2.45  70.4  3.80  30.9        0"
            ],
            "text/html": [
              "\n",
              "  <div id=\"df-fe98a3dd-a363-427e-a4ac-064ec989f235\">\n",
              "    <div class=\"colab-df-container\">\n",
              "      <div>\n",
              "<style scoped>\n",
              "    .dataframe tbody tr th:only-of-type {\n",
              "        vertical-align: middle;\n",
              "    }\n",
              "\n",
              "    .dataframe tbody tr th {\n",
              "        vertical-align: top;\n",
              "    }\n",
              "\n",
              "    .dataframe thead th {\n",
              "        text-align: right;\n",
              "    }\n",
              "</style>\n",
              "<table border=\"1\" class=\"dataframe\">\n",
              "  <thead>\n",
              "    <tr style=\"text-align: right;\">\n",
              "      <th></th>\n",
              "      <th>Co</th>\n",
              "      <th>Co2</th>\n",
              "      <th>Humi</th>\n",
              "      <th>NH4</th>\n",
              "      <th>Temp</th>\n",
              "      <th>K-Means</th>\n",
              "    </tr>\n",
              "  </thead>\n",
              "  <tbody>\n",
              "    <tr>\n",
              "      <th>0</th>\n",
              "      <td>3.74</td>\n",
              "      <td>2.74</td>\n",
              "      <td>70.9</td>\n",
              "      <td>4.18</td>\n",
              "      <td>30.8</td>\n",
              "      <td>0</td>\n",
              "    </tr>\n",
              "    <tr>\n",
              "      <th>1</th>\n",
              "      <td>3.65</td>\n",
              "      <td>2.69</td>\n",
              "      <td>70.9</td>\n",
              "      <td>4.13</td>\n",
              "      <td>30.8</td>\n",
              "      <td>0</td>\n",
              "    </tr>\n",
              "    <tr>\n",
              "      <th>2</th>\n",
              "      <td>3.61</td>\n",
              "      <td>2.67</td>\n",
              "      <td>70.9</td>\n",
              "      <td>4.10</td>\n",
              "      <td>30.8</td>\n",
              "      <td>0</td>\n",
              "    </tr>\n",
              "    <tr>\n",
              "      <th>3</th>\n",
              "      <td>3.82</td>\n",
              "      <td>2.78</td>\n",
              "      <td>70.9</td>\n",
              "      <td>4.24</td>\n",
              "      <td>30.8</td>\n",
              "      <td>0</td>\n",
              "    </tr>\n",
              "    <tr>\n",
              "      <th>4</th>\n",
              "      <td>3.73</td>\n",
              "      <td>2.73</td>\n",
              "      <td>70.9</td>\n",
              "      <td>4.18</td>\n",
              "      <td>30.9</td>\n",
              "      <td>0</td>\n",
              "    </tr>\n",
              "    <tr>\n",
              "      <th>5</th>\n",
              "      <td>4.29</td>\n",
              "      <td>3.03</td>\n",
              "      <td>71.7</td>\n",
              "      <td>4.56</td>\n",
              "      <td>30.9</td>\n",
              "      <td>0</td>\n",
              "    </tr>\n",
              "    <tr>\n",
              "      <th>6</th>\n",
              "      <td>4.29</td>\n",
              "      <td>3.03</td>\n",
              "      <td>71.7</td>\n",
              "      <td>4.56</td>\n",
              "      <td>30.9</td>\n",
              "      <td>0</td>\n",
              "    </tr>\n",
              "    <tr>\n",
              "      <th>7</th>\n",
              "      <td>3.13</td>\n",
              "      <td>2.41</td>\n",
              "      <td>70.7</td>\n",
              "      <td>3.74</td>\n",
              "      <td>30.9</td>\n",
              "      <td>0</td>\n",
              "    </tr>\n",
              "    <tr>\n",
              "      <th>8</th>\n",
              "      <td>3.13</td>\n",
              "      <td>2.41</td>\n",
              "      <td>70.7</td>\n",
              "      <td>3.74</td>\n",
              "      <td>30.9</td>\n",
              "      <td>0</td>\n",
              "    </tr>\n",
              "    <tr>\n",
              "      <th>9</th>\n",
              "      <td>2.91</td>\n",
              "      <td>2.28</td>\n",
              "      <td>70.5</td>\n",
              "      <td>3.57</td>\n",
              "      <td>30.9</td>\n",
              "      <td>0</td>\n",
              "    </tr>\n",
              "    <tr>\n",
              "      <th>10</th>\n",
              "      <td>2.91</td>\n",
              "      <td>2.28</td>\n",
              "      <td>70.4</td>\n",
              "      <td>3.57</td>\n",
              "      <td>30.9</td>\n",
              "      <td>0</td>\n",
              "    </tr>\n",
              "    <tr>\n",
              "      <th>11</th>\n",
              "      <td>3.05</td>\n",
              "      <td>2.36</td>\n",
              "      <td>70.5</td>\n",
              "      <td>3.69</td>\n",
              "      <td>30.9</td>\n",
              "      <td>0</td>\n",
              "    </tr>\n",
              "    <tr>\n",
              "      <th>12</th>\n",
              "      <td>3.05</td>\n",
              "      <td>2.36</td>\n",
              "      <td>70.5</td>\n",
              "      <td>3.69</td>\n",
              "      <td>30.9</td>\n",
              "      <td>0</td>\n",
              "    </tr>\n",
              "    <tr>\n",
              "      <th>13</th>\n",
              "      <td>3.13</td>\n",
              "      <td>2.41</td>\n",
              "      <td>70.6</td>\n",
              "      <td>3.74</td>\n",
              "      <td>30.9</td>\n",
              "      <td>0</td>\n",
              "    </tr>\n",
              "    <tr>\n",
              "      <th>14</th>\n",
              "      <td>3.09</td>\n",
              "      <td>2.38</td>\n",
              "      <td>70.6</td>\n",
              "      <td>3.72</td>\n",
              "      <td>30.9</td>\n",
              "      <td>0</td>\n",
              "    </tr>\n",
              "    <tr>\n",
              "      <th>15</th>\n",
              "      <td>3.13</td>\n",
              "      <td>2.41</td>\n",
              "      <td>70.4</td>\n",
              "      <td>3.74</td>\n",
              "      <td>30.9</td>\n",
              "      <td>0</td>\n",
              "    </tr>\n",
              "    <tr>\n",
              "      <th>16</th>\n",
              "      <td>3.13</td>\n",
              "      <td>2.41</td>\n",
              "      <td>70.5</td>\n",
              "      <td>3.74</td>\n",
              "      <td>30.9</td>\n",
              "      <td>0</td>\n",
              "    </tr>\n",
              "    <tr>\n",
              "      <th>17</th>\n",
              "      <td>3.21</td>\n",
              "      <td>2.45</td>\n",
              "      <td>70.5</td>\n",
              "      <td>3.80</td>\n",
              "      <td>30.9</td>\n",
              "      <td>0</td>\n",
              "    </tr>\n",
              "    <tr>\n",
              "      <th>18</th>\n",
              "      <td>3.21</td>\n",
              "      <td>2.45</td>\n",
              "      <td>70.4</td>\n",
              "      <td>3.80</td>\n",
              "      <td>30.9</td>\n",
              "      <td>0</td>\n",
              "    </tr>\n",
              "    <tr>\n",
              "      <th>19</th>\n",
              "      <td>3.21</td>\n",
              "      <td>2.45</td>\n",
              "      <td>70.4</td>\n",
              "      <td>3.80</td>\n",
              "      <td>30.9</td>\n",
              "      <td>0</td>\n",
              "    </tr>\n",
              "  </tbody>\n",
              "</table>\n",
              "</div>\n",
              "      <button class=\"colab-df-convert\" onclick=\"convertToInteractive('df-fe98a3dd-a363-427e-a4ac-064ec989f235')\"\n",
              "              title=\"Convert this dataframe to an interactive table.\"\n",
              "              style=\"display:none;\">\n",
              "        \n",
              "  <svg xmlns=\"http://www.w3.org/2000/svg\" height=\"24px\"viewBox=\"0 0 24 24\"\n",
              "       width=\"24px\">\n",
              "    <path d=\"M0 0h24v24H0V0z\" fill=\"none\"/>\n",
              "    <path d=\"M18.56 5.44l.94 2.06.94-2.06 2.06-.94-2.06-.94-.94-2.06-.94 2.06-2.06.94zm-11 1L8.5 8.5l.94-2.06 2.06-.94-2.06-.94L8.5 2.5l-.94 2.06-2.06.94zm10 10l.94 2.06.94-2.06 2.06-.94-2.06-.94-.94-2.06-.94 2.06-2.06.94z\"/><path d=\"M17.41 7.96l-1.37-1.37c-.4-.4-.92-.59-1.43-.59-.52 0-1.04.2-1.43.59L10.3 9.45l-7.72 7.72c-.78.78-.78 2.05 0 2.83L4 21.41c.39.39.9.59 1.41.59.51 0 1.02-.2 1.41-.59l7.78-7.78 2.81-2.81c.8-.78.8-2.07 0-2.86zM5.41 20L4 18.59l7.72-7.72 1.47 1.35L5.41 20z\"/>\n",
              "  </svg>\n",
              "      </button>\n",
              "      \n",
              "  <style>\n",
              "    .colab-df-container {\n",
              "      display:flex;\n",
              "      flex-wrap:wrap;\n",
              "      gap: 12px;\n",
              "    }\n",
              "\n",
              "    .colab-df-convert {\n",
              "      background-color: #E8F0FE;\n",
              "      border: none;\n",
              "      border-radius: 50%;\n",
              "      cursor: pointer;\n",
              "      display: none;\n",
              "      fill: #1967D2;\n",
              "      height: 32px;\n",
              "      padding: 0 0 0 0;\n",
              "      width: 32px;\n",
              "    }\n",
              "\n",
              "    .colab-df-convert:hover {\n",
              "      background-color: #E2EBFA;\n",
              "      box-shadow: 0px 1px 2px rgba(60, 64, 67, 0.3), 0px 1px 3px 1px rgba(60, 64, 67, 0.15);\n",
              "      fill: #174EA6;\n",
              "    }\n",
              "\n",
              "    [theme=dark] .colab-df-convert {\n",
              "      background-color: #3B4455;\n",
              "      fill: #D2E3FC;\n",
              "    }\n",
              "\n",
              "    [theme=dark] .colab-df-convert:hover {\n",
              "      background-color: #434B5C;\n",
              "      box-shadow: 0px 1px 3px 1px rgba(0, 0, 0, 0.15);\n",
              "      filter: drop-shadow(0px 1px 2px rgba(0, 0, 0, 0.3));\n",
              "      fill: #FFFFFF;\n",
              "    }\n",
              "  </style>\n",
              "\n",
              "      <script>\n",
              "        const buttonEl =\n",
              "          document.querySelector('#df-fe98a3dd-a363-427e-a4ac-064ec989f235 button.colab-df-convert');\n",
              "        buttonEl.style.display =\n",
              "          google.colab.kernel.accessAllowed ? 'block' : 'none';\n",
              "\n",
              "        async function convertToInteractive(key) {\n",
              "          const element = document.querySelector('#df-fe98a3dd-a363-427e-a4ac-064ec989f235');\n",
              "          const dataTable =\n",
              "            await google.colab.kernel.invokeFunction('convertToInteractive',\n",
              "                                                     [key], {});\n",
              "          if (!dataTable) return;\n",
              "\n",
              "          const docLinkHtml = 'Like what you see? Visit the ' +\n",
              "            '<a target=\"_blank\" href=https://colab.research.google.com/notebooks/data_table.ipynb>data table notebook</a>'\n",
              "            + ' to learn more about interactive tables.';\n",
              "          element.innerHTML = '';\n",
              "          dataTable['output_type'] = 'display_data';\n",
              "          await google.colab.output.renderOutput(dataTable, element);\n",
              "          const docLink = document.createElement('div');\n",
              "          docLink.innerHTML = docLinkHtml;\n",
              "          element.appendChild(docLink);\n",
              "        }\n",
              "      </script>\n",
              "    </div>\n",
              "  </div>\n",
              "  "
            ]
          },
          "metadata": {},
          "execution_count": 78
        }
      ],
      "source": [
        "kmeans = KMeans(n_clusters = 4, random_state = 42)\n",
        "kmeans.fit(x_pca)\n",
        "\n",
        "print(kmeans.cluster_centers_)\n",
        "data['K-Means'] = kmeans.labels_\n",
        "data.head(20)"
      ]
    },
    {
      "cell_type": "markdown",
      "metadata": {
        "id": "Dgb5KWrHXoty"
      },
      "source": [
        "### **4.6.1 Visualize Clusters**\n",
        "\n",
        "Oleh karena jumlah fitur yang sangat banyak, kita tidak bisa membuat visualisasi dalam bentuk 2 dimensi seperti contoh di bawah ini.\n",
        "\n",
        "<div align=\"center\">\n",
        "<img src=\"https://miro.medium.com/max/948/1*XtLZeA1AY99lTFDAshYnmw.png\" width=50%/>\n",
        "</div>\n",
        "\n",
        "Kita akan coba menggunakan beberapa pasang fitur yang ada menggunakan `pairplot` dari Seaborn.\n",
        "\n",
        "> Sebagai contoh, kita akan gunakan hasil cluster dengan `K=5` dan menggunakan 20% dari total data karena alasan resource"
      ]
    },
    {
      "cell_type": "code",
      "execution_count": null,
      "metadata": {
        "colab": {
          "base_uri": "https://localhost:8080/",
          "height": 303
        },
        "id": "l2XjdVijtTgX",
        "outputId": "51fc2804-3f75-43b8-89fa-0d3446ca5839"
      },
      "outputs": [
        {
          "output_type": "display_data",
          "data": {
            "text/plain": [
              "<Figure size 432x288 with 1 Axes>"
            ],
            "image/png": "[encoded data removed]"
          },
          "metadata": {}
        }
      ],
      "source": [
        "#Model Build\n",
        "kmeansmodel = KMeans(n_clusters= 4, init='k-means++', \n",
        " n_init= 1, random_state=10)\n",
        "y_kmeans= kmeansmodel.fit_predict(x_pca)\n",
        "\n",
        "#clusters=kmeans.fit_predict(x_pca)\n",
        "#data['label']=y_kmeans\n",
        "#fig=plt.figure(figsize=(10,10))\n",
        "#ax=fig.add_subplot(111,projection='3d')\n",
        "\n",
        "plt.scatter(x_pca[y_kmeans == 0, 0], x_pca[y_kmeans == 0, 1], s = 100, c = '#CD5C5C', label = 'Cluster 1')\n",
        "plt.scatter(x_pca[y_kmeans == 1, 0], x_pca[y_kmeans == 1, 1], s = 100, c = '#1E90FF', label = 'Cluster 2')\n",
        "plt.scatter(x_pca[y_kmeans == 2, 0], x_pca[y_kmeans == 2, 1], s = 100, c = '#228B22', label = 'Cluster 3')\n",
        "plt.scatter(x_pca[y_kmeans == 3, 0], x_pca[y_kmeans == 3, 1], s = 100, c = '#FFD700', label = 'Cluster 4')\n",
        "\n",
        "#ax.view_init(30,185)\n",
        "\n",
        "centers = kmeans.cluster_centers_\n",
        "plt.scatter(centers[:,0], centers[:,1], c='Black', s=200, alpha=1, marker =\"*\", label = 'Titik Tengah Data');\n",
        "\n",
        "plt.title('Segemntasi Tingkat Kadar Polusi Udara')\n",
        "plt.xlabel('Component 1')\n",
        "plt.ylabel('Component 2')\n",
        "#ax.set_zlabel('NH4')\n",
        "plt.legend(loc='center left', bbox_to_anchor=(1, 0.5), fontsize=11)\n",
        "#plt.savefig(\"Segemntasi 3 dimensi.png\", quality=95)\n",
        "#plt.legend()\n",
        "plt.show()"
      ]
    },
    {
      "cell_type": "code",
      "source": [
        "#Model Build\n",
        "kmeansmodel = KMeans(n_clusters= 4, init='k-means++', \n",
        " n_init= 1, random_state=10)\n",
        "y_kmeans= kmeansmodel.fit_predict(x_pca)\n",
        "\n",
        "#clusters=kmeans.fit_predict(x_pca)\n",
        "data['label']=y_kmeans\n",
        "fig=plt.figure(figsize=(10,10))\n",
        "ax=fig.add_subplot(111,projection='3d')\n",
        "\n",
        "plt.scatter(x_pca[y_kmeans == 0, 0], x_pca[y_kmeans == 0, 1], s = 100, c = '#CD5C5C', label = 'Cluster 1')\n",
        "plt.scatter(x_pca[y_kmeans == 1, 0], x_pca[y_kmeans == 1, 1], s = 100, c = '#1E90FF', label = 'Cluster 2')\n",
        "plt.scatter(x_pca[y_kmeans == 2, 0], x_pca[y_kmeans == 2, 1], s = 100, c = '#228B22', label = 'Cluster 3')\n",
        "plt.scatter(x_pca[y_kmeans == 3, 0], x_pca[y_kmeans == 3, 1], s = 100, c = '#FFD700', label = 'Cluster 4')\n",
        "\n",
        "ax.view_init(30,185)\n",
        "\n",
        "centers = kmeans.cluster_centers_\n",
        "plt.scatter(centers[:,0], centers[:,1], c='Black', s=200, alpha=1, marker =\"*\", label = 'Titik Tengah Data');\n",
        "\n",
        "plt.title('Segemntasi Tingkat Kadar Polusi Udara')\n",
        "plt.xlabel('Component 1')\n",
        "plt.ylabel('Component 2')\n",
        "ax.set_zlabel('NH4')\n",
        "plt.legend(loc='center left', bbox_to_anchor=(1, 0.5), fontsize=11)\n",
        "plt.savefig(\"Segemntasi 3 dimensi.png\", quality=95)\n",
        "#plt.legend()\n",
        "plt.show()"
      ],
      "metadata": {
        "colab": {
          "base_uri": "https://localhost:8080/",
          "height": 575
        },
        "id": "yBVip5B3FlzJ",
        "outputId": "d5988863-2b1f-4545-bf92-e866decae4d0"
      },
      "execution_count": null,
      "outputs": [
        {
          "output_type": "display_data",
          "data": {
            "text/plain": [
              "<Figure size 720x720 with 1 Axes>"
            ],
            "image/png": "[encoded data removed]"
          },
          "metadata": {}
        }
      ]
    },
    {
      "cell_type": "code",
      "source": [
        "np.set_printoptions(precision=3, suppress=True)\n",
        "for iteration in range(1, 20):\n",
        "    k_means = KMeans(n_clusters = 5, init='random',\n",
        "                     max_iter=iteration, n_init=1,random_state=101)\n",
        "    k_means.fit(x_pca)\n",
        "    print(\"iteration: %i - 2nd Centroid: %s\" % (iteration, k_means.cluster_centers_[4]))"
      ],
      "metadata": {
        "colab": {
          "base_uri": "https://localhost:8080/"
        },
        "id": "6H5Tr9x0byqh",
        "outputId": "4891bd55-0b79-4547-ba44-67bb997375bc"
      },
      "execution_count": null,
      "outputs": [
        {
          "output_type": "stream",
          "name": "stdout",
          "text": [
            "iteration: 1 - 2nd Centroid: [-0.087 -0.204]\n",
            "iteration: 2 - 2nd Centroid: [-0.058 -0.19 ]\n",
            "iteration: 3 - 2nd Centroid: [-0.052 -0.186]\n",
            "iteration: 4 - 2nd Centroid: [-0.051 -0.183]\n",
            "iteration: 5 - 2nd Centroid: [-0.051 -0.183]\n",
            "iteration: 6 - 2nd Centroid: [-0.051 -0.182]\n",
            "iteration: 7 - 2nd Centroid: [-0.051 -0.182]\n",
            "iteration: 8 - 2nd Centroid: [-0.05  -0.181]\n",
            "iteration: 9 - 2nd Centroid: [-0.05  -0.181]\n",
            "iteration: 10 - 2nd Centroid: [-0.049 -0.18 ]\n",
            "iteration: 11 - 2nd Centroid: [-0.05  -0.181]\n",
            "iteration: 12 - 2nd Centroid: [-0.05  -0.181]\n",
            "iteration: 13 - 2nd Centroid: [-0.05  -0.181]\n",
            "iteration: 14 - 2nd Centroid: [-0.05  -0.181]\n",
            "iteration: 15 - 2nd Centroid: [-0.05  -0.181]\n",
            "iteration: 16 - 2nd Centroid: [-0.05  -0.181]\n",
            "iteration: 17 - 2nd Centroid: [-0.05  -0.181]\n",
            "iteration: 18 - 2nd Centroid: [-0.05  -0.181]\n",
            "iteration: 19 - 2nd Centroid: [-0.05  -0.181]\n"
          ]
        }
      ]
    },
    {
      "cell_type": "markdown",
      "source": [
        "# **Segementasi Polusi Udara dengan Fuzzy C-Means**"
      ],
      "metadata": {
        "id": "9S7hT3lLQZd4"
      }
    },
    {
      "cell_type": "code",
      "source": [
        "pip install fuzzy-c-means"
      ],
      "metadata": {
        "colab": {
          "base_uri": "https://localhost:8080/"
        },
        "id": "2GOsiFxQQZGZ",
        "outputId": "a1d3934f-19a5-45b4-a8ed-1f7e4bfc3518"
      },
      "execution_count": null,
      "outputs": [
        {
          "output_type": "stream",
          "name": "stdout",
          "text": [
            "Looking in indexes: https://pypi.org/simple, https://us-python.pkg.dev/colab-wheels/public/simple/\n",
            "Collecting fuzzy-c-means\n",
            "  Downloading fuzzy_c_means-1.6.3-py3-none-any.whl (9.1 kB)\n",
            "Collecting typer<0.4.0,>=0.3.2\n",
            "  Downloading typer-0.3.2-py3-none-any.whl (21 kB)\n",
            "Requirement already satisfied: tabulate<0.9.0,>=0.8.9 in /usr/local/lib/python3.7/dist-packages (from fuzzy-c-means) (0.8.10)\n",
            "Requirement already satisfied: pydantic<2.0.0,>=1.8.2 in /usr/local/lib/python3.7/dist-packages (from fuzzy-c-means) (1.9.2)\n",
            "Requirement already satisfied: numpy<2.0.0,>=1.21.1 in /usr/local/lib/python3.7/dist-packages (from fuzzy-c-means) (1.21.6)\n",
            "Requirement already satisfied: typing-extensions>=3.7.4.3 in /usr/local/lib/python3.7/dist-packages (from pydantic<2.0.0,>=1.8.2->fuzzy-c-means) (4.1.1)\n",
            "Requirement already satisfied: click<7.2.0,>=7.1.1 in /usr/local/lib/python3.7/dist-packages (from typer<0.4.0,>=0.3.2->fuzzy-c-means) (7.1.2)\n",
            "Installing collected packages: typer, fuzzy-c-means\n",
            "  Attempting uninstall: typer\n",
            "    Found existing installation: typer 0.4.2\n",
            "    Uninstalling typer-0.4.2:\n",
            "      Successfully uninstalled typer-0.4.2\n",
            "Successfully installed fuzzy-c-means-1.6.3 typer-0.3.2\n"
          ]
        }
      ]
    },
    {
      "cell_type": "code",
      "source": [
        "from fcmeans import FCM\n",
        "\n",
        "fcm = FCM(n_clusters = 5, m=2, error=0.005, max_iter=1000)\n",
        "fcm.fit(x_pca)\n",
        "\n",
        "fcm_centers = fcm.centers\n",
        "fcm_labels  = fcm.u.argmax(axis=1)\n",
        "\n",
        "print(fcm_centers)\n",
        "print(fcm_labels)"
      ],
      "metadata": {
        "colab": {
          "base_uri": "https://localhost:8080/"
        },
        "id": "SQ2SpgM9TrRR",
        "outputId": "1c929019-dc0d-4cc0-96a9-5c4a8001db37"
      },
      "execution_count": null,
      "outputs": [
        {
          "output_type": "stream",
          "name": "stdout",
          "text": [
            "[[-0.21  -0.179]\n",
            " [ 0.088 -0.16 ]\n",
            " [ 0.62  -0.168]\n",
            " [-0.346  0.183]\n",
            " [ 0.122  0.411]]\n",
            "[0 0 1 0 0 0 0 1 1 1 1 1 1 1 1 1 1 1 1 1 1 1 1 1 1 1 1 1 1 1 0 1 1 0 0 2 2\n",
            " 2 0 1 1 4 4 4 4 4 4 4 4 4 4 2 2 2 2 4 4 0 0 0 0 0 0 0 0 0 0 0 0 1 1 1 1 0\n",
            " 0 0 0 0 0 0 0 0 0 0 0 0 0 0 0 0 0 0 0 0 0 0 0 0 0 0 0 0 0 0 0 0 1 1 1 1 4\n",
            " 4 4 4 4 4 4 4 4 4 4 3 3 3 3 3 3 3 3 3 3 3 3 3 3 3 3 3 3 3 3 3 4 4 4 4 3 3\n",
            " 3 3 3 3 3 3 3 3 3 3 3 4 3 3 3 3 3 3 3 3 3 3 3 3 3 3 3 3 3 3 3 3 3 3 3 3 3\n",
            " 3 3 3 3 3 3 3 3 3 3 3 4 4 4 4 4 4 4 4 4 4 4 4 4 4 4 4 4 4 4 4 4 4 4 4 4 4\n",
            " 4 4 4 4 4 4 4 4 4 4 4 4 4 4 4 4 3 3 3 3 3 3 3 3 3 3 3 3 3 3 3 3 3 3 3 3 3\n",
            " 3 3 3 3 3 3 3 3 3 3 3 3 3 3 3 3 3 3 3 3 3 3 3 3 3 3 3 3 3 3 3 3 3 3 3 3 3\n",
            " 3 3 3 3 2 2 2 2 2 2 2 2 2 2 2 2 2 2 2 2 2 2 2 2 2 2 2 2 2 2 2 2 2 2 2 1 0\n",
            " 0 0 0 1 1 1 1 1 1 1 1 1 1 1 1 1 1 1 2 2 2 2 2 2 2 2 2 2 2 2 2 2 2 2 2 2 2\n",
            " 2 2 2 2 2 2 2 2 2 2 2 2 2 2 2 2 2 2 2 2 2 2 2 2 2 2 2 2 2 2 2 2 2 2 2 2 2\n",
            " 2 2 2 2 2 2 2 2 2 2 2 2 2 2 1 1 1 1 1 1 1 1 1 1 1 1 1 1 1 1 1 1 1 1 1 1 1\n",
            " 1 1 1 1 1 1 1 1 1 1 1 1 1 1 1 1 1 1 1 1 0 0 0 0 0 0 0 0 1 0 0 0 0 0 0 0 0\n",
            " 0 0 0 0 0 0 0 0 0 0 0 0 1 1 1 1 1 1 1 1 1 1 1 1 1 1 1 1 1 1 0 0 1 1 0 0 0\n",
            " 0 0 0 0 0 0 0 0 0 0 0 0 0 0 0 0 0 0 0 0 0 0 0 0 0 0 0 0 0 0 0 0 0 0 0 0 0\n",
            " 0 0 0 0 0 0 0 0 0 0 0 0 0 0 0 0 0 0 0 0 0 0 0 0 0 0 0 0 0 0 0 0 0 0 0 0 0\n",
            " 0 0 0 0 0 0 0 0 0 0 0 0 0 0 0 0 0 0 0 0 0 0 1 1 1 1 1 1 1 1 1 1 1 1 1 1 1\n",
            " 2 1 1 1 1 1 1 1 1 1 1 1 1 1 1 1 1 1 1 0 0 1 1 4 4 4 4 4 4 4 4 4 4 4 4 4 4\n",
            " 4 4 4 4 4 4 4 4 4 4 4 4 4 4 4 4 4 4 4 4 4 4 3 3 4 4 4 4 4 4 4 4 4 4 4 4 4\n",
            " 4 4 4 4 4 4 4 4 4 4 4 4 4 4 4 4 4 4 4 3 3 3 3 3 3 3 3 3 3 3 3 3 3 3 3 3 3\n",
            " 3 3 3 3 3 3 3 3 3 3 3 3 3 3 3 3 3 3 3 3 3 3 3 3 3 3]\n"
          ]
        }
      ]
    },
    {
      "cell_type": "code",
      "source": [
        "# plot result\n",
        "f, axes = plt.subplots(1, 2, figsize=(11,5))\n",
        "axes[0].scatter(x_pca[:,0], x_pca[:,1])\n",
        "axes[1].scatter(x_pca[:,0], x_pca[:,1], c=fcm_labels)\n",
        "axes[1].scatter(fcm_centers[:,0], fcm_centers[:,1], marker=\"*\", s=200, c='#FFD700')\n",
        "plt.show()"
      ],
      "metadata": {
        "colab": {
          "base_uri": "https://localhost:8080/",
          "height": 320
        },
        "id": "HeWGk34MimsV",
        "outputId": "a1613d6d-e343-47f6-f048-cc909f7ab2ac"
      },
      "execution_count": null,
      "outputs": [
        {
          "output_type": "display_data",
          "data": {
            "text/plain": [
              "<Figure size 792x360 with 2 Axes>"
            ],
            "image/png": "[encoded data removed]"
          },
          "metadata": {}
        }
      ]
    },
    {
      "cell_type": "code",
      "source": [
        "print(fcm_centers)\n",
        "data['C-Means'] = fcm_labels\n",
        "data.head(20)"
      ],
      "metadata": {
        "colab": {
          "base_uri": "https://localhost:8080/",
          "height": 763
        },
        "id": "MfzvbbDOEYQi",
        "outputId": "9288a05f-3e5e-4027-c6ee-c8c87c1a6a1d"
      },
      "execution_count": null,
      "outputs": [
        {
          "output_type": "stream",
          "name": "stdout",
          "text": [
            "[[-0.21  -0.179]\n",
            " [ 0.088 -0.16 ]\n",
            " [ 0.62  -0.168]\n",
            " [-0.346  0.183]\n",
            " [ 0.122  0.411]]\n"
          ]
        },
        {
          "output_type": "execute_result",
          "data": {
            "text/plain": [
              "      Co   Co2  Humi   NH4  Temp  K-Means  label  C-Means\n",
              "0   3.74  2.74  70.9  4.18  30.8        0      3        0\n",
              "1   3.65  2.69  70.9  4.13  30.8        0      3        0\n",
              "2   3.61  2.67  70.9  4.10  30.8        0      3        1\n",
              "3   3.82  2.78  70.9  4.24  30.8        0      3        0\n",
              "4   3.73  2.73  70.9  4.18  30.9        0      3        0\n",
              "5   4.29  3.03  71.7  4.56  30.9        0      3        0\n",
              "6   4.29  3.03  71.7  4.56  30.9        0      3        0\n",
              "7   3.13  2.41  70.7  3.74  30.9        0      3        1\n",
              "8   3.13  2.41  70.7  3.74  30.9        0      3        1\n",
              "9   2.91  2.28  70.5  3.57  30.9        0      3        1\n",
              "10  2.91  2.28  70.4  3.57  30.9        0      3        1\n",
              "11  3.05  2.36  70.5  3.69  30.9        0      3        1\n",
              "12  3.05  2.36  70.5  3.69  30.9        0      3        1\n",
              "13  3.13  2.41  70.6  3.74  30.9        0      3        1\n",
              "14  3.09  2.38  70.6  3.72  30.9        0      3        1\n",
              "15  3.13  2.41  70.4  3.74  30.9        0      3        1\n",
              "16  3.13  2.41  70.5  3.74  30.9        0      3        1\n",
              "17  3.21  2.45  70.5  3.80  30.9        0      3        1\n",
              "18  3.21  2.45  70.4  3.80  30.9        0      3        1\n",
              "19  3.21  2.45  70.4  3.80  30.9        0      3        1"
            ],
            "text/html": [
              "\n",
              "  <div id=\"df-989d525e-5fb6-440d-b4ff-a04cbfd53dd8\">\n",
              "    <div class=\"colab-df-container\">\n",
              "      <div>\n",
              "<style scoped>\n",
              "    .dataframe tbody tr th:only-of-type {\n",
              "        vertical-align: middle;\n",
              "    }\n",
              "\n",
              "    .dataframe tbody tr th {\n",
              "        vertical-align: top;\n",
              "    }\n",
              "\n",
              "    .dataframe thead th {\n",
              "        text-align: right;\n",
              "    }\n",
              "</style>\n",
              "<table border=\"1\" class=\"dataframe\">\n",
              "  <thead>\n",
              "    <tr style=\"text-align: right;\">\n",
              "      <th></th>\n",
              "      <th>Co</th>\n",
              "      <th>Co2</th>\n",
              "      <th>Humi</th>\n",
              "      <th>NH4</th>\n",
              "      <th>Temp</th>\n",
              "      <th>K-Means</th>\n",
              "      <th>label</th>\n",
              "      <th>C-Means</th>\n",
              "    </tr>\n",
              "  </thead>\n",
              "  <tbody>\n",
              "    <tr>\n",
              "      <th>0</th>\n",
              "      <td>3.74</td>\n",
              "      <td>2.74</td>\n",
              "      <td>70.9</td>\n",
              "      <td>4.18</td>\n",
              "      <td>30.8</td>\n",
              "      <td>0</td>\n",
              "      <td>3</td>\n",
              "      <td>0</td>\n",
              "    </tr>\n",
              "    <tr>\n",
              "      <th>1</th>\n",
              "      <td>3.65</td>\n",
              "      <td>2.69</td>\n",
              "      <td>70.9</td>\n",
              "      <td>4.13</td>\n",
              "      <td>30.8</td>\n",
              "      <td>0</td>\n",
              "      <td>3</td>\n",
              "      <td>0</td>\n",
              "    </tr>\n",
              "    <tr>\n",
              "      <th>2</th>\n",
              "      <td>3.61</td>\n",
              "      <td>2.67</td>\n",
              "      <td>70.9</td>\n",
              "      <td>4.10</td>\n",
              "      <td>30.8</td>\n",
              "      <td>0</td>\n",
              "      <td>3</td>\n",
              "      <td>1</td>\n",
              "    </tr>\n",
              "    <tr>\n",
              "      <th>3</th>\n",
              "      <td>3.82</td>\n",
              "      <td>2.78</td>\n",
              "      <td>70.9</td>\n",
              "      <td>4.24</td>\n",
              "      <td>30.8</td>\n",
              "      <td>0</td>\n",
              "      <td>3</td>\n",
              "      <td>0</td>\n",
              "    </tr>\n",
              "    <tr>\n",
              "      <th>4</th>\n",
              "      <td>3.73</td>\n",
              "      <td>2.73</td>\n",
              "      <td>70.9</td>\n",
              "      <td>4.18</td>\n",
              "      <td>30.9</td>\n",
              "      <td>0</td>\n",
              "      <td>3</td>\n",
              "      <td>0</td>\n",
              "    </tr>\n",
              "    <tr>\n",
              "      <th>5</th>\n",
              "      <td>4.29</td>\n",
              "      <td>3.03</td>\n",
              "      <td>71.7</td>\n",
              "      <td>4.56</td>\n",
              "      <td>30.9</td>\n",
              "      <td>0</td>\n",
              "      <td>3</td>\n",
              "      <td>0</td>\n",
              "    </tr>\n",
              "    <tr>\n",
              "      <th>6</th>\n",
              "      <td>4.29</td>\n",
              "      <td>3.03</td>\n",
              "      <td>71.7</td>\n",
              "      <td>4.56</td>\n",
              "      <td>30.9</td>\n",
              "      <td>0</td>\n",
              "      <td>3</td>\n",
              "      <td>0</td>\n",
              "    </tr>\n",
              "    <tr>\n",
              "      <th>7</th>\n",
              "      <td>3.13</td>\n",
              "      <td>2.41</td>\n",
              "      <td>70.7</td>\n",
              "      <td>3.74</td>\n",
              "      <td>30.9</td>\n",
              "      <td>0</td>\n",
              "      <td>3</td>\n",
              "      <td>1</td>\n",
              "    </tr>\n",
              "    <tr>\n",
              "      <th>8</th>\n",
              "      <td>3.13</td>\n",
              "      <td>2.41</td>\n",
              "      <td>70.7</td>\n",
              "      <td>3.74</td>\n",
              "      <td>30.9</td>\n",
              "      <td>0</td>\n",
              "      <td>3</td>\n",
              "      <td>1</td>\n",
              "    </tr>\n",
              "    <tr>\n",
              "      <th>9</th>\n",
              "      <td>2.91</td>\n",
              "      <td>2.28</td>\n",
              "      <td>70.5</td>\n",
              "      <td>3.57</td>\n",
              "      <td>30.9</td>\n",
              "      <td>0</td>\n",
              "      <td>3</td>\n",
              "      <td>1</td>\n",
              "    </tr>\n",
              "    <tr>\n",
              "      <th>10</th>\n",
              "      <td>2.91</td>\n",
              "      <td>2.28</td>\n",
              "      <td>70.4</td>\n",
              "      <td>3.57</td>\n",
              "      <td>30.9</td>\n",
              "      <td>0</td>\n",
              "      <td>3</td>\n",
              "      <td>1</td>\n",
              "    </tr>\n",
              "    <tr>\n",
              "      <th>11</th>\n",
              "      <td>3.05</td>\n",
              "      <td>2.36</td>\n",
              "      <td>70.5</td>\n",
              "      <td>3.69</td>\n",
              "      <td>30.9</td>\n",
              "      <td>0</td>\n",
              "      <td>3</td>\n",
              "      <td>1</td>\n",
              "    </tr>\n",
              "    <tr>\n",
              "      <th>12</th>\n",
              "      <td>3.05</td>\n",
              "      <td>2.36</td>\n",
              "      <td>70.5</td>\n",
              "      <td>3.69</td>\n",
              "      <td>30.9</td>\n",
              "      <td>0</td>\n",
              "      <td>3</td>\n",
              "      <td>1</td>\n",
              "    </tr>\n",
              "    <tr>\n",
              "      <th>13</th>\n",
              "      <td>3.13</td>\n",
              "      <td>2.41</td>\n",
              "      <td>70.6</td>\n",
              "      <td>3.74</td>\n",
              "      <td>30.9</td>\n",
              "      <td>0</td>\n",
              "      <td>3</td>\n",
              "      <td>1</td>\n",
              "    </tr>\n",
              "    <tr>\n",
              "      <th>14</th>\n",
              "      <td>3.09</td>\n",
              "      <td>2.38</td>\n",
              "      <td>70.6</td>\n",
              "      <td>3.72</td>\n",
              "      <td>30.9</td>\n",
              "      <td>0</td>\n",
              "      <td>3</td>\n",
              "      <td>1</td>\n",
              "    </tr>\n",
              "    <tr>\n",
              "      <th>15</th>\n",
              "      <td>3.13</td>\n",
              "      <td>2.41</td>\n",
              "      <td>70.4</td>\n",
              "      <td>3.74</td>\n",
              "      <td>30.9</td>\n",
              "      <td>0</td>\n",
              "      <td>3</td>\n",
              "      <td>1</td>\n",
              "    </tr>\n",
              "    <tr>\n",
              "      <th>16</th>\n",
              "      <td>3.13</td>\n",
              "      <td>2.41</td>\n",
              "      <td>70.5</td>\n",
              "      <td>3.74</td>\n",
              "      <td>30.9</td>\n",
              "      <td>0</td>\n",
              "      <td>3</td>\n",
              "      <td>1</td>\n",
              "    </tr>\n",
              "    <tr>\n",
              "      <th>17</th>\n",
              "      <td>3.21</td>\n",
              "      <td>2.45</td>\n",
              "      <td>70.5</td>\n",
              "      <td>3.80</td>\n",
              "      <td>30.9</td>\n",
              "      <td>0</td>\n",
              "      <td>3</td>\n",
              "      <td>1</td>\n",
              "    </tr>\n",
              "    <tr>\n",
              "      <th>18</th>\n",
              "      <td>3.21</td>\n",
              "      <td>2.45</td>\n",
              "      <td>70.4</td>\n",
              "      <td>3.80</td>\n",
              "      <td>30.9</td>\n",
              "      <td>0</td>\n",
              "      <td>3</td>\n",
              "      <td>1</td>\n",
              "    </tr>\n",
              "    <tr>\n",
              "      <th>19</th>\n",
              "      <td>3.21</td>\n",
              "      <td>2.45</td>\n",
              "      <td>70.4</td>\n",
              "      <td>3.80</td>\n",
              "      <td>30.9</td>\n",
              "      <td>0</td>\n",
              "      <td>3</td>\n",
              "      <td>1</td>\n",
              "    </tr>\n",
              "  </tbody>\n",
              "</table>\n",
              "</div>\n",
              "      <button class=\"colab-df-convert\" onclick=\"convertToInteractive('df-989d525e-5fb6-440d-b4ff-a04cbfd53dd8')\"\n",
              "              title=\"Convert this dataframe to an interactive table.\"\n",
              "              style=\"display:none;\">\n",
              "        \n",
              "  <svg xmlns=\"http://www.w3.org/2000/svg\" height=\"24px\"viewBox=\"0 0 24 24\"\n",
              "       width=\"24px\">\n",
              "    <path d=\"M0 0h24v24H0V0z\" fill=\"none\"/>\n",
              "    <path d=\"M18.56 5.44l.94 2.06.94-2.06 2.06-.94-2.06-.94-.94-2.06-.94 2.06-2.06.94zm-11 1L8.5 8.5l.94-2.06 2.06-.94-2.06-.94L8.5 2.5l-.94 2.06-2.06.94zm10 10l.94 2.06.94-2.06 2.06-.94-2.06-.94-.94-2.06-.94 2.06-2.06.94z\"/><path d=\"M17.41 7.96l-1.37-1.37c-.4-.4-.92-.59-1.43-.59-.52 0-1.04.2-1.43.59L10.3 9.45l-7.72 7.72c-.78.78-.78 2.05 0 2.83L4 21.41c.39.39.9.59 1.41.59.51 0 1.02-.2 1.41-.59l7.78-7.78 2.81-2.81c.8-.78.8-2.07 0-2.86zM5.41 20L4 18.59l7.72-7.72 1.47 1.35L5.41 20z\"/>\n",
              "  </svg>\n",
              "      </button>\n",
              "      \n",
              "  <style>\n",
              "    .colab-df-container {\n",
              "      display:flex;\n",
              "      flex-wrap:wrap;\n",
              "      gap: 12px;\n",
              "    }\n",
              "\n",
              "    .colab-df-convert {\n",
              "      background-color: #E8F0FE;\n",
              "      border: none;\n",
              "      border-radius: 50%;\n",
              "      cursor: pointer;\n",
              "      display: none;\n",
              "      fill: #1967D2;\n",
              "      height: 32px;\n",
              "      padding: 0 0 0 0;\n",
              "      width: 32px;\n",
              "    }\n",
              "\n",
              "    .colab-df-convert:hover {\n",
              "      background-color: #E2EBFA;\n",
              "      box-shadow: 0px 1px 2px rgba(60, 64, 67, 0.3), 0px 1px 3px 1px rgba(60, 64, 67, 0.15);\n",
              "      fill: #174EA6;\n",
              "    }\n",
              "\n",
              "    [theme=dark] .colab-df-convert {\n",
              "      background-color: #3B4455;\n",
              "      fill: #D2E3FC;\n",
              "    }\n",
              "\n",
              "    [theme=dark] .colab-df-convert:hover {\n",
              "      background-color: #434B5C;\n",
              "      box-shadow: 0px 1px 3px 1px rgba(0, 0, 0, 0.15);\n",
              "      filter: drop-shadow(0px 1px 2px rgba(0, 0, 0, 0.3));\n",
              "      fill: #FFFFFF;\n",
              "    }\n",
              "  </style>\n",
              "\n",
              "      <script>\n",
              "        const buttonEl =\n",
              "          document.querySelector('#df-989d525e-5fb6-440d-b4ff-a04cbfd53dd8 button.colab-df-convert');\n",
              "        buttonEl.style.display =\n",
              "          google.colab.kernel.accessAllowed ? 'block' : 'none';\n",
              "\n",
              "        async function convertToInteractive(key) {\n",
              "          const element = document.querySelector('#df-989d525e-5fb6-440d-b4ff-a04cbfd53dd8');\n",
              "          const dataTable =\n",
              "            await google.colab.kernel.invokeFunction('convertToInteractive',\n",
              "                                                     [key], {});\n",
              "          if (!dataTable) return;\n",
              "\n",
              "          const docLinkHtml = 'Like what you see? Visit the ' +\n",
              "            '<a target=\"_blank\" href=https://colab.research.google.com/notebooks/data_table.ipynb>data table notebook</a>'\n",
              "            + ' to learn more about interactive tables.';\n",
              "          element.innerHTML = '';\n",
              "          dataTable['output_type'] = 'display_data';\n",
              "          await google.colab.output.renderOutput(dataTable, element);\n",
              "          const docLink = document.createElement('div');\n",
              "          docLink.innerHTML = docLinkHtml;\n",
              "          element.appendChild(docLink);\n",
              "        }\n",
              "      </script>\n",
              "    </div>\n",
              "  </div>\n",
              "  "
            ]
          },
          "metadata": {},
          "execution_count": 89
        }
      ]
    },
    {
      "cell_type": "code",
      "source": [
        "# Akurasi Model pada KMeans\n",
        "from sklearn.metrics import silhouette_score\n",
        "\n",
        "score = silhouette_score(x_pca, fcm_labels)\n",
        "print('Silhouette Score: %.2f' % score)"
      ],
      "metadata": {
        "colab": {
          "base_uri": "https://localhost:8080/"
        },
        "id": "MX91wuRbmLnw",
        "outputId": "53c77853-bd9b-4e9b-957b-6e4f0e1b644c"
      },
      "execution_count": null,
      "outputs": [
        {
          "output_type": "stream",
          "name": "stdout",
          "text": [
            "Silhouette Score: 0.44\n"
          ]
        }
      ]
    },
    {
      "cell_type": "markdown",
      "source": [
        "# **5 Mount Google Drive**"
      ],
      "metadata": {
        "id": "DZouThTVKQ5h"
      }
    },
    {
      "cell_type": "code",
      "execution_count": null,
      "metadata": {
        "id": "LTXIv61BwIU4",
        "colab": {
          "base_uri": "https://localhost:8080/"
        },
        "outputId": "608ea767-afbf-4713-e5d3-a7d6a1cd4f45"
      },
      "outputs": [
        {
          "output_type": "stream",
          "name": "stdout",
          "text": [
            "/\n",
            "Mounted at content/gdrive\n"
          ]
        }
      ],
      "source": [
        "#Hubungkan Google Colab ke Google Drive\n",
        "%cd ..\n",
        "from google.colab import drive \n",
        "drive.mount('content/gdrive')"
      ]
    },
    {
      "cell_type": "code",
      "execution_count": null,
      "metadata": {
        "id": "BUkQnawouPmE",
        "colab": {
          "base_uri": "https://localhost:8080/"
        },
        "outputId": "97aab6b0-575c-4eb6-a194-c7a7efc057ee"
      },
      "outputs": [
        {
          "output_type": "stream",
          "name": "stdout",
          "text": [
            "Export to CSV..\n",
            "Done!\n"
          ]
        }
      ],
      "source": [
        "# simpan hasil Klasterisasi ke dalam format CSV \n",
        "print(\"Export to CSV..\")\n",
        "\n",
        "# refer to point 6\n",
        "data.to_csv(\"/content/gdrive/MyDrive/Project/K-means-C-Means.csv\", index=True)\n",
        "print(\"Done!\")"
      ]
    }
  ],
  "metadata": {
    "colab": {
      "collapsed_sections": [
        "zcqWhznxZMHE",
        "9S7hT3lLQZd4"
      ],
      "provenance": []
    },
    "kernelspec": {
      "display_name": "Python 3",
      "name": "python3"
    },
    "language_info": {
      "name": "python"
    },
    "accelerator": "GPU",
    "gpuClass": "standard"
  },
  "nbformat": 4,
  "nbformat_minor": 0
}