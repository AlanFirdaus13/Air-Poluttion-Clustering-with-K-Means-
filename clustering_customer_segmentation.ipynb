{
  "cells": [
    {
      "cell_type": "markdown",
      "metadata": {
        "id": "view-in-github",
        "colab_type": "text"
      },
      "source": [
        "<a href=\"https://colab.research.google.com/github/AlanFirdaus13/Air-Poluttion-Clustering-with-K-Means-/blob/main/clustering_customer_segmentation.ipynb\" target=\"_parent\"><img src=\"https://colab.research.google.com/assets/colab-badge.svg\" alt=\"Open In Colab\"/></a>"
      ]
    },
    {
      "cell_type": "markdown",
      "metadata": {
        "id": "eVI6MEhrxzz7"
      },
      "source": [
        "# **Hard and Soft Clustering Customer Segmentation**\n",
        "\n",
        "* Clustering merupakan sebuah teknik yang digunakan untuk menemukan sub-kelompok atau kluster. Prinsip dari clustering adalah data-data yang termasuk dalam kluster yang sama “diharapkan” memiliki kesamaan satu dengan yang lainnya, sedangkan data-data yang ada dalam kluster yang berbeda cukup berbeda dari satu kluster dengan cluster yang lainnya.\n",
        "\n",
        "* Meskipun tanpa label, clustering memanfaatkan “karakter/pola” pada data bahwa data yang “mirip” akan berdekatan, seperti pada gambar di samping.\n",
        "\n",
        "<div align=\"center\">\n",
        "    <img src=\"https://miro.medium.com/max/1280/1*WkU1q0Cuha2QKU5JnkcZBw.gif\" width=50%/>\n",
        "</div>"
      ]
    },
    {
      "cell_type": "markdown",
      "metadata": {
        "id": "RbjI10bF5zb6"
      },
      "source": [
        "Tahapan yang akan dilakukan pada project meliputi:\n",
        "<html>\n",
        "    <body>\n",
        "        <li>1. Data Preparation</li>\n",
        "        <li>2. Analisis data dengan pivot table</li>\n",
        "        <li>3. Analisis dan explorasi data</li>\n",
        "        <li>4. Analisis segmentasi dengan model machine learning</li>\n",
        "        <li>5. Build model ke joblib</li>\n",
        "    </body>\n",
        "</html>"
      ]
    },
    {
      "cell_type": "markdown",
      "metadata": {
        "id": "6mQhnetMyK-r"
      },
      "source": [
        "## **1.Data Preparation**"
      ]
    },
    {
      "cell_type": "code",
      "execution_count": null,
      "metadata": {
        "id": "WMQPpehlx0vI"
      },
      "outputs": [],
      "source": [
        "# import library yang digunakan \n",
        "import numpy as np  # library untuk mengolah elemen larik pada python\n",
        "import pandas as pd # library untuk mengelah dokumen pada python\n",
        "import joblib \n",
        "import warnings \n",
        "import matplotlib.pyplot as plt\n",
        "\n",
        "warnings.filterwarnings('ignore')"
      ]
    },
    {
      "cell_type": "raw",
      "metadata": {
        "id": "fkvMQ1Br0iNh"
      },
      "source": [
        "!wget \"https://raw.githubusercontent.com/AlanFirdaus13/Datasheet/master/Mall_Customers.csv\""
      ]
    },
    {
      "cell_type": "code",
      "execution_count": null,
      "metadata": {
        "id": "ue-EJnsC5zcA"
      },
      "outputs": [],
      "source": [
        "tdCustomer = pd.read_csv(\"https://raw.githubusercontent.com/AlanFirdaus13/Datasheet/master/Mall_Customers.csv\")\n",
        "print(tdCustomer)"
      ]
    },
    {
      "cell_type": "markdown",
      "metadata": {
        "id": "EnAVuSjE5zcB"
      },
      "source": [
        "<html>\n",
        "    <h3>\n",
        "        <b>Insight: </b>\n",
        "    </h3>\n",
        "    <p>\n",
        "        Dari data tersebut dapat diketahui bahwa datasheet yang kita gunakan memiliki \n",
        "        jumlah data sebanyak 200 baris dan 5 kolom\n",
        "    </p> \n",
        "</html>"
      ]
    },
    {
      "cell_type": "code",
      "execution_count": null,
      "metadata": {
        "id": "SBRK20ua1Xkw"
      },
      "outputs": [],
      "source": [
        "# melihat informasi pada datasheet yang kita miliki\n",
        "print(tdCustomer.info()) \n",
        "print(\"--------------\")\n",
        "# melihat index dari datasheet \n",
        "print(tdCustomer.keys()) \n",
        "print(\"--------------\")\n",
        "# menghitung jumlah data yang mengalami missing value\n",
        "print(tdCustomer.isnull().sum())"
      ]
    },
    {
      "cell_type": "markdown",
      "metadata": {
        "id": "LAbZc7rt2XbW"
      },
      "source": [
        "<h3>\n",
        "    <b>Insight:</b>\n",
        "</h3>\n",
        "<li>1.Tipe data dari datahshet yang kita miliki terdiri dari int64 dan object</li>\n",
        "<li>2.Dataframe yang kita miliki 5 kolom dan 200 baris data</li>\n",
        "<li>3.Tidak ada data yang bernilai kosong</li>"
      ]
    },
    {
      "cell_type": "markdown",
      "metadata": {
        "id": "eMWBdZ-P5zcD"
      },
      "source": [
        "### 1.1 Cek duplikasi pada datasheet\n",
        "tahap ini dilakukan pengecekan nilai antar fitur data apakah ada nilai data yang mengalami duplikasi"
      ]
    },
    {
      "cell_type": "code",
      "execution_count": null,
      "metadata": {
        "id": "3QjnRJ3C5zcD"
      },
      "outputs": [],
      "source": [
        "print(\"Jumlah duplikasi = \", tdCustomer.duplicated().sum())"
      ]
    },
    {
      "cell_type": "markdown",
      "metadata": {
        "id": "ZO_67tfS5zcE"
      },
      "source": [
        "<html>\n",
        "    <h3>\n",
        "        <b>Insight: </b>\n",
        "    </h3>\n",
        "    <p>\n",
        "        dari hasil analisis tersebut didapatkan bahwa data yag kita miliki tidak ada nilai yang mengalami duplikasi\n",
        "    </p> \n",
        "</html>"
      ]
    },
    {
      "cell_type": "markdown",
      "metadata": {
        "id": "qp-JzVyh5zcE"
      },
      "source": [
        "### **1.2 Grafik Pie Chart**\n",
        "pada tahap ini melakukan analisis untuk mengetahui jumlah pelanggan terbanyak berdasarkan jenis kelamin"
      ]
    },
    {
      "cell_type": "code",
      "execution_count": null,
      "metadata": {
        "id": "S5OwsMFE5zcF"
      },
      "outputs": [],
      "source": [
        "kat_customer = tdCustomer['Gender'].value_counts()\n",
        "kat_size  = kat_customer.tolist()\n",
        "kat_types = kat_customer.axes[0].tolist()\n",
        " \n",
        "myexplode = [0.2, 0]\n",
        "\n",
        "plt.figure(figsize=(6, 4))\n",
        "\n",
        "plt.title('Presentase pelanggan berdasarkan gender', fontsize = 13, fontfamily = 'sans serif', y = 1.05)\n",
        "patches, texts, autotexts = plt.pie(kat_size, labels = kat_types, autopct='%1.1f%%', startangle=360, explode=myexplode)\n",
        "\n",
        "for text, autotext in zip(texts, autotexts):\n",
        "    text.set_fontsize(12)\n",
        "    autotext.set_fontsize(12)\n",
        "    \n",
        "\n",
        "plt.legend(loc='upper center', bbox_to_anchor=(0.5, 1.34), ncol=3)\n",
        "\n",
        "plt.axis('equal')\n",
        "plt.show()"
      ]
    },
    {
      "cell_type": "markdown",
      "metadata": {
        "id": "xf3K2PAi5zcF"
      },
      "source": [
        "<html>\n",
        "    <h3>\n",
        "        <b>Insight: </b>\n",
        "    </h3>\n",
        "    <p>\n",
        "        dari hasil persentase tersebut didapat bahwa jumlah customer terbanyak berdasarkan jenis kelamin adalah perempuan\n",
        "        dengan persentase <b>56.0%</b> sehingga kita dapat simpulkan bahwa perempuan adalah pelanggan yang paling banyak \n",
        "        berbelanja di toko dibandingkan dengan laki-laki\n",
        "    </p> \n",
        "</html>"
      ]
    },
    {
      "cell_type": "markdown",
      "metadata": {
        "id": "o0fPwztk2A8R"
      },
      "source": [
        "## **2.Analisis data dengan Pivot table**\n",
        "dibagian 2 ini melakukan analisis statistik dari data tdCustomer tujuan dilakukan nya analisis statistik deskriptif ini untuk mempelajari hubungan yang dimiliki antar fitur dan sebagai acuan atau gambaran sementara untuk dilakukan kesimpulan sementara adapaun langkah-langkah pada tahap 2 ini :\n",
        "\n",
        "<html>\n",
        "    <body>\n",
        "        <li>2.1 Perhitungan pivot table</li>\n",
        "        <li>2.2 Summary dari dataframe</li>\n",
        "    </body>\n",
        "</html>"
      ]
    },
    {
      "cell_type": "markdown",
      "metadata": {
        "id": "czc6cBjW2zAM"
      },
      "source": [
        "### **2.1 melakukan analisis data dengan pivot table**\n",
        "melakukan analisis dengan menggunakan pivot table yang sudah disiapkan oleh library external dengan pandas dengan menggunakan pivot ini akan lebih memudahkan kita dalam melakukan explorasi data "
      ]
    },
    {
      "cell_type": "raw",
      "metadata": {
        "id": "w2wTgWno3SFE"
      },
      "source": [
        "!pip install pivottablejs"
      ]
    },
    {
      "cell_type": "code",
      "source": [
        "!pip install pivottablejs\n",
        "from pivottablejs import pivot_ui\n",
        "from IPython.display import HTML\n",
        "from IPython.display import IFrame\n",
        "import json, io\n",
        "\n",
        "TEMPLATE = u\"\"\"\n",
        "<!DOCTYPE html>\n",
        "<html>\n",
        "    <head>\n",
        "        <meta charset=\"UTF-8\">\n",
        "        <title>PivotTable.js</title>\n",
        "\n",
        "        <!-- external libs from cdnjs -->\n",
        "        <link rel=\"stylesheet\" type=\"text/css\" href=\"https://cdnjs.cloudflare.com/ajax/libs/c3/0.4.11/c3.min.css\">\n",
        "        <script type=\"text/javascript\" src=\"https://cdnjs.cloudflare.com/ajax/libs/d3/3.5.5/d3.min.js\"></script>\n",
        "        <script type=\"text/javascript\" src=\"https://cdnjs.cloudflare.com/ajax/libs/c3/0.4.11/c3.min.js\"></script>\n",
        "        <script type=\"text/javascript\" src=\"https://cdnjs.cloudflare.com/ajax/libs/jquery/1.11.2/jquery.min.js\"></script>\n",
        "        <script type=\"text/javascript\" src=\"https://cdnjs.cloudflare.com/ajax/libs/jqueryui/1.11.4/jquery-ui.min.js\"></script>\n",
        "        <script type=\"text/javascript\" src=\"https://cdnjs.cloudflare.com/ajax/libs/jquery-csv/0.71/jquery.csv-0.71.min.js\"></script>\n",
        "\n",
        "\n",
        "        <link rel=\"stylesheet\" type=\"text/css\" href=\"https://cdnjs.cloudflare.com/ajax/libs/pivottable/2.19.0/pivot.min.css\">\n",
        "        <script type=\"text/javascript\" src=\"https://cdnjs.cloudflare.com/ajax/libs/pivottable/2.19.0/pivot.min.js\"></script>\n",
        "        <script type=\"text/javascript\" src=\"https://cdnjs.cloudflare.com/ajax/libs/pivottable/2.19.0/d3_renderers.min.js\"></script>\n",
        "        <script type=\"text/javascript\" src=\"https://cdnjs.cloudflare.com/ajax/libs/pivottable/2.19.0/c3_renderers.min.js\"></script>\n",
        "        <script type=\"text/javascript\" src=\"https://cdnjs.cloudflare.com/ajax/libs/pivottable/2.19.0/export_renderers.min.js\"></script>\n",
        "\n",
        "        <style>\n",
        "            body {font-family: Verdana;}\n",
        "            .node {\n",
        "              border: solid 1px white;\n",
        "              font: 10px sans-serif;\n",
        "              line-height: 12px;\n",
        "              overflow: hidden;\n",
        "              position: absolute;\n",
        "              text-indent: 2px;\n",
        "            }\n",
        "            .c3-line, .c3-focused {stroke-width: 3px !important;}\n",
        "            .c3-bar {stroke: white !important; stroke-width: 1;}\n",
        "            .c3 text { font-size: 12px; color: grey;}\n",
        "            .tick line {stroke: white;}\n",
        "            .c3-axis path {stroke: grey;}\n",
        "            .c3-circle { opacity: 1 !important; }\n",
        "            .c3-xgrid-focus {visibility: hidden !important;}\n",
        "        </style>\n",
        "    </head>\n",
        "    <body>\n",
        "        <script type=\"text/javascript\">\n",
        "            $(function(){\n",
        "\n",
        "                $(\"#output\").pivotUI(\n",
        "                    $.csv.toArrays($(\"#output\").text())\n",
        "                    , $.extend({\n",
        "                        renderers: $.extend(\n",
        "                            $.pivotUtilities.renderers,\n",
        "                            $.pivotUtilities.c3_renderers,\n",
        "                            $.pivotUtilities.d3_renderers,\n",
        "                            $.pivotUtilities.export_renderers\n",
        "                            ),\n",
        "                        hiddenAttributes: [\"\"]\n",
        "                    } \n",
        "                    , {\n",
        "                        onRefresh: function(config) {\n",
        "                            var config_copy = JSON.parse(JSON.stringify(config));\n",
        "                            //delete some values which are functions\n",
        "                            delete config_copy[\"aggregators\"];\n",
        "                            delete config_copy[\"renderers\"];\n",
        "                            //delete some bulky default values\n",
        "                            delete config_copy[\"rendererOptions\"];\n",
        "                            delete config_copy[\"localeStrings\"];\n",
        "                            $(\"#output2\").text(JSON.stringify(config_copy, undefined, 2));\n",
        "                        }\n",
        "                    }\n",
        "                    , %(kwargs)s\n",
        "                    , %(json_kwargs)s)\n",
        "                ).show();\n",
        "             });\n",
        "        </script>\n",
        "        <div id=\"output\" style=\"display: none;\">%(csv)s</div>\n",
        "\n",
        "        <textarea id=\"output2\"\n",
        "        style=\"float: left; width: 0px; height: 0px; margin: 0px; opacity:0;\" readonly>\n",
        "        </textarea>\n",
        "\n",
        "        <button onclick=\"copyTextFunction()\">Copy settings</button>\n",
        "        <script>\n",
        "        function copyTextFunction() {\n",
        "                    var copyText = document.getElementById(\"output2\");\n",
        "                    copyText.select();\n",
        "                    document.execCommand(\"copy\");\n",
        "                    }\n",
        "        </script>\n",
        "\n",
        "    </body>\n",
        "</html>\n",
        "\"\"\"\n",
        "\n",
        "\n",
        "def pivot_cht_html(df, outfile_path = \"pivottablejs.html\", url=\"\",\n",
        "    width=\"100%\", height=\"500\",json_kwargs='',  **kwargs):\n",
        "  with io.open(outfile_path, 'wt', encoding='utf8') as outfile:\n",
        "      csv = df.to_csv(encoding='utf8')\n",
        "      if hasattr(csv, 'decode'):\n",
        "          csv = csv.decode('utf8')\n",
        "      outfile.write(TEMPLATE %\n",
        "            dict(csv=csv, kwargs=json.dumps(kwargs),json_kwargs=json_kwargs))\n",
        "  \n",
        "  IFrame(src=url or outfile_path, width=width, height=height)\n",
        "  return HTML(outfile_path)"
      ],
      "metadata": {
        "id": "kFoKAv836GhJ"
      },
      "execution_count": null,
      "outputs": []
    },
    {
      "cell_type": "code",
      "execution_count": null,
      "metadata": {
        "id": "SDTX76e32QD7"
      },
      "outputs": [],
      "source": [
        "def pivot_ui(tdCustomer, **kwargs):\n",
        "    import pivottablejs\n",
        "    class _DataFrame(pd.DataFrame):\n",
        "        def to_csv(self, **kwargs):\n",
        "            return super().to_csv(**kwargs).replace(\"\\r\\n\", \"\\n\")\n",
        "    return pivottablejs.pivot_ui(_DataFrame(tdCustomer), **kwargs)"
      ]
    },
    {
      "cell_type": "code",
      "execution_count": null,
      "metadata": {
        "id": "0ISmhm0z5zcI"
      },
      "outputs": [],
      "source": [
        "pivot_ui(tdCustomer)"
      ]
    },
    {
      "cell_type": "markdown",
      "metadata": {
        "id": "PqawN36s5zcI"
      },
      "source": [
        "<html>\n",
        "    <h3>\n",
        "        <b>Insight: </b>\n",
        "    </h3>\n",
        "    <p>\n",
        "        kita bisa melakukan analisis data dengan menggunakan pivot table untuk mencari insight dari hubungan antar data \n",
        "    </p> \n",
        "</html>"
      ]
    },
    {
      "cell_type": "markdown",
      "metadata": {
        "id": "pvKZrj865zcI"
      },
      "source": [
        "### 2.2 Analisis Statistik  Deskriptif \n",
        "ditahap ini melakukan analisis statistik deskriptif untuk melihat rangkuman dari hasil analisis statistik"
      ]
    },
    {
      "cell_type": "code",
      "execution_count": null,
      "metadata": {
        "id": "o9LNayvp5zco"
      },
      "outputs": [],
      "source": [
        "tdCustomer.describe().T"
      ]
    },
    {
      "cell_type": "markdown",
      "metadata": {
        "id": "-cNIZtsH5zcp"
      },
      "source": [
        "<html>\n",
        "    <h3>\n",
        "        <b>Insight: </b>\n",
        "    </h3>\n",
        "    <ul>\n",
        "        <li>1.nilai mean dari age merupakan nilai yang paling rendah dari keseluruhan data</li>\n",
        "        <li>2.nilai mean annual income merupakan nilai yang paling tinggi dari keseluruhan data</li>\n",
        "        <li>3.nilai mean dari spending score merupakan nilai tertinggi kedua setelah annual income</li>\n",
        "        <li>4.Golongan usia customer bervariasi dari yang paling min yaitu umur 18 sampai usia 70 tahun</li>\n",
        "        <li>5.pendapatan tahunan tertinggi mencapai angka 137 dengan kata lain kemampuan membeli customer konsumtif</li>\n",
        "        <li>6.dan nilai skor tahunan tertinggi mencapai angka 99 dari 100 %</li>\n",
        "    </ul>\n",
        "</html>"
      ]
    },
    {
      "cell_type": "markdown",
      "metadata": {
        "id": "A09Dj01f5zcq"
      },
      "source": [
        "## **3. Eksplorasi data dan analisis statistik**\n",
        "dibagian 3 ini melakukan visualisasi data tujuan untuk mempelajari hubungan yang dimiliki antar fitur dan sebagai acuan atau gambaran sementara untuk dilakukan analisis adapaun langkah-langkah pada tahap 3 ini :\n",
        "\n",
        "<html>\n",
        "    <body>\n",
        "        <li>3.1 Import library yang digunakan</li>\n",
        "        <li>3.2 Analisis univariat dan bivariat</li>\n",
        "        <li>3.3 Deteksi nilai outlier</li>\n",
        "        <li>3.4 Analisis probilitas data dengan pdf dan cdf</li>\n",
        "        <li>3.5 Grafik donat dan pie chart untuk data kategorik</li>\n",
        "    </body>\n",
        "</html>"
      ]
    },
    {
      "cell_type": "markdown",
      "metadata": {
        "id": "uqg6QtAA5zcq"
      },
      "source": [
        "### **3.1 import library yang digunakan**\n",
        "pada bagian ketiga ini melakukan eksplorasi data dan analisis statistik dengan Displot, deteksi nilai outlier, \n",
        "analisis univariat, analisis bivariat dan analisis multivariat dengan menggunakan grafik jointplot yang sudah tersedia dari library seaborn"
      ]
    },
    {
      "cell_type": "code",
      "execution_count": null,
      "metadata": {
        "id": "tJiePP0p5zcq"
      },
      "outputs": [],
      "source": [
        "from matplotlib import rcParams\n",
        "import matplotlib.pyplot as plt\n",
        "import seaborn as sns \n",
        "\n",
        "%matplotlib inline     \n",
        "sns.set(color_codes=True)\n",
        "sns.set_theme(style=\"whitegrid\")\n",
        "\n",
        "plt.style.use('ggplot')"
      ]
    },
    {
      "cell_type": "markdown",
      "metadata": {
        "id": "6XmvHsVw5zcr"
      },
      "source": [
        "#### **3.1.1 Rename and Drop Columns**\n",
        "pada tahap ini melakukan perubahan nama pada setiap kolom agar mudah dipahami"
      ]
    },
    {
      "cell_type": "code",
      "execution_count": null,
      "metadata": {
        "id": "Qr_zjeKy5zcr"
      },
      "outputs": [],
      "source": [
        "tdCustomer.drop('CustomerID', axis = 1, inplace = True)"
      ]
    },
    {
      "cell_type": "code",
      "execution_count": null,
      "metadata": {
        "id": "Z6gGpvEe5zcs"
      },
      "outputs": [],
      "source": [
        "tdCustomer = tdCustomer.rename(columns={\"Annual Income (k$)\":\"Annual_Income\", \"Spending Score (1-100)\":\"Spending_Score\"})\n",
        "tdCustomer.head()"
      ]
    },
    {
      "cell_type": "markdown",
      "metadata": {
        "id": "kGS6IaFS5zcs"
      },
      "source": [
        "### **3.2 Analisis Univariat dan bivariat**\n",
        "pada tahap ini melakukan analisis 2 variabel dengan analisis univariat untuk kolom kategori dan gender dengan menggunakan visualisasi countplot"
      ]
    },
    {
      "cell_type": "code",
      "execution_count": null,
      "metadata": {
        "id": "4W4doV8i5zct"
      },
      "outputs": [],
      "source": [
        "sns.pairplot(tdCustomer, corner = True ,diag_kind=\"kde\")\n",
        "plt.show()"
      ]
    },
    {
      "cell_type": "markdown",
      "metadata": {
        "id": "0wBnjH-K5zct"
      },
      "source": [
        "<html>\n",
        "    <h3>\n",
        "        <b>Insight: </b>\n",
        "    </h3>\n",
        "    <ul>\n",
        "        <li>1.probabilitas distribusi data dari kolom age menunjukan hubungan yang positif \n",
        "            berarti data yang kita gunakan beragam</li>\n",
        "        <li>2.probabilitas distribusi data dari kolom annual income menujukan hubungan yang negatif \n",
        "            berarti data yang kita gunakan kurang beragam dan perlu di preprocessing</li>\n",
        "        <li>3.sedangkan untuk probabilitas distribusi data dari spending score memiliki hubungan yang simetri</li>\n",
        "    </ul>\n",
        "</html>"
      ]
    },
    {
      "cell_type": "markdown",
      "metadata": {
        "id": "QsREKjCy5zct"
      },
      "source": [
        "### **3.3 Deteksi nilai outlier**\n",
        "sebelum membuat model machine learning kita perlu melakukan explorasi data untuk mengetahui apakah data kita sudah siap untuk digunakan atau data perlu diproses lebih lanjut seperti deteksi nilai outlier, teknik seleksi fitur atau pun data preprocessing"
      ]
    },
    {
      "cell_type": "code",
      "execution_count": null,
      "metadata": {
        "id": "n9LXfnRy5zcu"
      },
      "outputs": [],
      "source": [
        "fig, axs = plt.subplots(1, 3, figsize=(9,4))\n",
        "\n",
        "# buat grafik boxplot\n",
        "sns.boxplot(y = 'Annual_Income', data = tdCustomer, ax=axs[0])\n",
        "sns.boxplot(y = 'Spending_Score', data = tdCustomer, ax=axs[1])\n",
        "sns.boxplot(y = 'Age', data = tdCustomer, ax=axs[2])\n",
        "\n",
        "axs[0].set_xlabel(\"Annual Income\",  fontsize = 10, fontfamily = 'serif')\n",
        "axs[0].set_ylabel(\"Annual Income\",  fontsize = 10, fontfamily = 'serif')\n",
        "\n",
        "axs[1].set_xlabel(\"Spending Score\", fontsize = 10, fontfamily = 'serif')\n",
        "axs[1].set_ylabel(\"Spending Score\", fontsize = 10, fontfamily = 'serif')\n",
        "\n",
        "axs[2].set_xlabel(\"Age\", fontsize = 10, fontfamily = 'serif')\n",
        "axs[2].set_ylabel(\"Age\", fontsize = 10, fontfamily = 'serif')\n",
        "\n",
        "axs[0].grid(color = 'black', linestyle = '--', linewidth = 0.4)\n",
        "axs[1].grid(color = 'black', linestyle = '--', linewidth = 0.4)\n",
        "axs[2].grid(color = 'black', linestyle = '--', linewidth = 0.4)\n",
        "\n",
        "plt.tight_layout()\n",
        "plt.show()"
      ]
    },
    {
      "cell_type": "markdown",
      "metadata": {
        "id": "h1Grsd_U5zcu"
      },
      "source": [
        "<html>\n",
        "    <h3>\n",
        "        <b>Insight: </b>\n",
        "    </h3>\n",
        "    <ul>\n",
        "        <li>1.Terdapat nilai outlier pada kolom data anuual income sehingga perlu kita tangani</li>\n",
        "        <li>2.pada kolom spending score dan age tidak memiliki nilai yang mengalami outlier sehingga bisa kita proses</li>\n",
        "    </ul>\n",
        "</html>"
      ]
    },
    {
      "cell_type": "markdown",
      "metadata": {
        "id": "oUf-MwCa5zcv"
      },
      "source": [
        "#### **3.3.1 Deteksi data yang mengalami nilai outlier**\n",
        "buat fungsi untuk menghitung jumlah nilai outlier yang terdeteksi dengan rumus IQR"
      ]
    },
    {
      "cell_type": "code",
      "execution_count": null,
      "metadata": {
        "id": "72EUiJRI5zcv"
      },
      "outputs": [],
      "source": [
        "# buat fungsi untuk menghitung jumlah nilai outlier pada setiap kolom\n",
        "def detect_outliers(data, x):\n",
        "    Q1 = tdCustomer[x].describe()['25%']\n",
        "    Q3 = tdCustomer[x].describe()['75%']\n",
        "    IQR = Q3-Q1\n",
        "    return tdCustomer[(tdCustomer[x] < Q1-1.5*IQR) | (tdCustomer[x] > Q3+1.5*IQR)]"
      ]
    },
    {
      "cell_type": "code",
      "execution_count": null,
      "metadata": {
        "id": "DN2FFMCk5zcw"
      },
      "outputs": [],
      "source": [
        "# total nilai yang mengalami outliers\n",
        "print(detect_outliers(tdCustomer,'Annual_Income').count() + detect_outliers(tdCustomer,'Spending_Score').count()) "
      ]
    },
    {
      "cell_type": "markdown",
      "metadata": {
        "id": "8xc8Xr8r5zcw"
      },
      "source": [
        "<html>\n",
        "    <h3>\n",
        "        <b>Insight: </b>\n",
        "    </h3>\n",
        "    <p>\n",
        "        1.Dari hasil analisis tersebut dapat diketahui bahwa jumlah data yang mengalami nilai outlier pada setiap data\n",
        "        berjumlah 2 dan kita akan menghapus nilai ini dengan perhitungan IQR\n",
        "    </p>\n",
        "</html>"
      ]
    },
    {
      "cell_type": "markdown",
      "metadata": {
        "id": "INbXGbJd5zcw"
      },
      "source": [
        "#### **3.3.2 Menghilangkan nilai outlier dengan rumus IQR**"
      ]
    },
    {
      "cell_type": "code",
      "execution_count": null,
      "metadata": {
        "id": "1lxmw2UZ5zcx"
      },
      "outputs": [],
      "source": [
        "# nilai outlier untuk fitur nilai matematika\n",
        "Q1 = tdCustomer['Annual_Income'].quantile(0.25)\n",
        "Q3 = tdCustomer['Annual_Income'].quantile(0.75)\n",
        "\n",
        "IQR = Q3 - Q1\n",
        "print(\"Nilai IQR dari data tersebut adalah :\", IQR)\n",
        "print('')\n",
        "\n",
        "# preprocesing missing outliers\n",
        "tdCustomer = tdCustomer[~((tdCustomer['Annual_Income'] < (Q1 - 1.5 * IQR )) | (tdCustomer['Annual_Income'] > (Q3 + 1.5 * IQR)))]"
      ]
    },
    {
      "cell_type": "code",
      "execution_count": null,
      "metadata": {
        "id": "WsRK9WE35zcx"
      },
      "outputs": [],
      "source": [
        "fig, axs = plt.subplots(1, 3, figsize=(9,4))\n",
        "\n",
        "# buat grafik boxplot\n",
        "sns.boxplot(y = 'Annual_Income', data = tdCustomer, ax=axs[0])\n",
        "sns.boxplot(y = 'Spending_Score', data = tdCustomer, ax=axs[1])\n",
        "sns.boxplot(y = 'Age', data = tdCustomer, ax=axs[2])\n",
        "\n",
        "axs[0].set_xlabel(\"Annual Income\",  fontsize = 10, fontfamily = 'serif')\n",
        "axs[0].set_ylabel(\"Annual Income\",  fontsize = 10, fontfamily = 'serif')\n",
        "\n",
        "axs[1].set_xlabel(\"Spending Score\", fontsize = 10, fontfamily = 'serif')\n",
        "axs[1].set_ylabel(\"Spending Score\", fontsize = 10, fontfamily = 'serif')\n",
        "\n",
        "axs[2].set_xlabel(\"Age\", fontsize = 10, fontfamily = 'serif')\n",
        "axs[2].set_ylabel(\"Age\", fontsize = 10, fontfamily = 'serif')\n",
        "\n",
        "axs[0].grid(color = 'black', linestyle = '--', linewidth = 0.4)\n",
        "axs[1].grid(color = 'black', linestyle = '--', linewidth = 0.4)\n",
        "axs[2].grid(color = 'black', linestyle = '--', linewidth = 0.4)\n",
        "\n",
        "plt.tight_layout()\n",
        "plt.show()"
      ]
    },
    {
      "cell_type": "markdown",
      "metadata": {
        "id": "66OKbFOW5zcy"
      },
      "source": [
        "<html>\n",
        "    <h3>\n",
        "        <b>Insight: </b>\n",
        "    </h3>\n",
        "    <p>\n",
        "        1. setelah melakukan perhitungan nilai IQR, mengecek ulang apakah ada data yang mengalami \n",
        "        nilai outlier jika ada maka akan dilakukan perhitungan IQR lagi atau membuat model yang toleran dengan nilai outlier\n",
        "    </p>\n",
        "</html>"
      ]
    },
    {
      "cell_type": "markdown",
      "metadata": {
        "id": "7ogs1NHC5zcy"
      },
      "source": [
        "### **3.4 Analisis probabilitas dengan cdf dan pdf**\n",
        "pada tahap ini akan dilakukan analisis probabilitas untuk mengetahui apakah distribusi data yang dipakai miliki probabiltas positif atau probabilitas negatif "
      ]
    },
    {
      "cell_type": "code",
      "execution_count": null,
      "metadata": {
        "id": "0pxX4oER5zcz"
      },
      "outputs": [],
      "source": [
        "from scipy.stats import norm  # panggil library scipy untuk analisis cdf dan pdf"
      ]
    },
    {
      "cell_type": "markdown",
      "metadata": {
        "id": "cWO2oxOw5zcz"
      },
      "source": [
        "#### **3.4.1 Analisis CDF dan PDF untuk data annual income**"
      ]
    },
    {
      "cell_type": "code",
      "execution_count": null,
      "metadata": {
        "id": "cVmM6QVk5zcz"
      },
      "outputs": [],
      "source": [
        "annual_income_mean = tdCustomer['Annual_Income'].mean()\n",
        "annual_income_std  = tdCustomer['Annual_Income'].std()\n",
        "\n",
        "pdf_annual_income = norm.pdf(tdCustomer['Annual_Income'], loc = annual_income_mean, scale = annual_income_std)\n",
        "cdf_annual_income = norm.cdf(tdCustomer['Annual_Income'], loc = annual_income_mean, scale = annual_income_std)\n",
        "\n",
        "fig, axs = plt.subplots(1,2, figsize=(8,4))\n",
        "sns.kdeplot(x = tdCustomer['Annual_Income'], lw=2, ax=axs[0])\n",
        "sns.lineplot(x = tdCustomer['Annual_Income'], y = pdf_annual_income, lw=2, ax=axs[0])\n",
        "\n",
        "# plot grafik untuk cdf\n",
        "sns.kdeplot(x = tdCustomer['Annual_Income'], cumulative=True, lw=2, ax=axs[1])\n",
        "sns.lineplot(x = tdCustomer['Annual_Income'], y = cdf_annual_income, lw=2, ax=axs[1])\n",
        "\n",
        "# buat legenda untuk informasi plot 1 dan 2 \n",
        "axs[0].legend([\"kde\",\"pdf annual income\"], shadow = True ,fontsize=9, loc=\"upper left\")\n",
        "axs[1].legend([\"kde kumulatif\", \"cdf annual income\"], shadow = True, fontsize=9)\n",
        "\n",
        "# buat plot sumbu y pada plot 1\n",
        "axs[0].set_ylabel(\"Probabilitas\", fontsize=12)\n",
        "\n",
        "# buat fungsi perulangan untuk sumbu x pada semua plot-\n",
        "for ax in axs:\n",
        "    ax.set_xlabel(\"Annual Income\", fontsize=12) # set font 12 pada sumbu x\n",
        "    ax.set_title(\"Probabilitas data dengan pdf dan cdf\", fontsize = 10, loc=\"left\")\n",
        "    ax.grid(axis=\"y\", color='darkgray', linestyle=':', linewidth=0.5)\n",
        "        \n",
        "ax.set_ylabel(\"Probabilitas kumulatif\", fontsize=12) # set font 12 pada sumbu y\n",
        "\n",
        "# tampilkan hasil visualisasi \n",
        "plt.tight_layout()\n",
        "plt.grid(color='darkgray', linestyle=':', linewidth=0.5)\n",
        "plt.show()"
      ]
    },
    {
      "cell_type": "markdown",
      "metadata": {
        "id": "byK9-xYy5zc0"
      },
      "source": [
        "<html>\n",
        "    <h3>\n",
        "        <b>Insight: </b>\n",
        "    </h3>\n",
        "    <ul>\n",
        "        <li>\n",
        "            1.Pada tabel sebelah kiri nilai annual income memiliki probabilitas positif \n",
        "              dengan nilai kde nya hampir mendekati nilai probabilitas nya \n",
        "        </li>\n",
        "        <li>\n",
        "            2.Pada tabel sebelah kanan nilai annual income nilai kde dengan cdf nya hampir mendekati nilai probabilitas nya \n",
        "        </li>\n",
        "    </ul>   \n",
        "</html>"
      ]
    },
    {
      "cell_type": "markdown",
      "metadata": {
        "id": "5ahb_In55zc0"
      },
      "source": [
        "#### **3.4.2 Analisis Probabilitas untuk spending score**"
      ]
    },
    {
      "cell_type": "code",
      "execution_count": null,
      "metadata": {
        "id": "fVMmkLur5zc1"
      },
      "outputs": [],
      "source": [
        "spending_score_mean = tdCustomer['Spending_Score'].mean()\n",
        "spending_score_std  = tdCustomer['Spending_Score'].std()\n",
        "\n",
        "pdf_spending_score = norm.pdf(tdCustomer['Spending_Score'], loc = spending_score_mean, scale = spending_score_std)\n",
        "cdf_spending_score = norm.cdf(tdCustomer['Spending_Score'], loc = spending_score_mean, scale = spending_score_std)\n",
        "\n",
        "fig, axs = plt.subplots(1,2, figsize=(8,4))\n",
        "sns.kdeplot(x = tdCustomer['Spending_Score'], lw=2, ax=axs[0])\n",
        "sns.lineplot(x = tdCustomer['Spending_Score'], y = pdf_spending_score, lw=2, ax=axs[0])\n",
        "\n",
        "# plot grafik untuk cdf\n",
        "sns.kdeplot(x = tdCustomer['Spending_Score'], cumulative=True, lw=2, ax=axs[1])\n",
        "sns.lineplot(x = tdCustomer['Spending_Score'], y = cdf_spending_score, lw=2, ax=axs[1])\n",
        "\n",
        "# buat legenda untuk informasi plot 1 dan 2 \n",
        "axs[0].legend([\"kde\",\"pdf spending score\"], shadow = True ,fontsize=9, loc=\"upper left\")\n",
        "axs[1].legend([\"kde kumulatif\", \"cdf spending score\"], shadow = True, fontsize=9)\n",
        "\n",
        "# buat plot sumbu y pada plot 1\n",
        "axs[0].set_ylabel(\"Probabilitas\", fontsize=12)\n",
        "\n",
        "# buat fungsi perulangan untuk sumbu x pada semua plot-\n",
        "for ax in axs:\n",
        "    ax.set_xlabel(\"Spending score\", fontsize=12) # set font 12 pada sumbu x\n",
        "    ax.set_title(\"Probabilitas data dengan pdf dan cdf\", fontsize = 10, loc=\"left\")\n",
        "    ax.grid(axis=\"y\", color='darkgray', linestyle=':', linewidth=0.5)\n",
        "        \n",
        "ax.set_ylabel(\"Probabilitas kumulatif\", fontsize=12) # set font 12 pada sumbu y\n",
        "\n",
        "# tampilkan hasil visualisasi \n",
        "plt.tight_layout()\n",
        "plt.grid(color='darkgray', linestyle=':', linewidth=0.5)\n",
        "plt.show()"
      ]
    },
    {
      "cell_type": "markdown",
      "metadata": {
        "id": "Xla8cIVF5zc1"
      },
      "source": [
        "<html>\n",
        "    <h3>\n",
        "        <b>Insight: </b>\n",
        "    </h3>\n",
        "    <ul>\n",
        "        <li>\n",
        "            1.Pada tabel sebelah kiri nilai Spending score memiliki probabilitas simetri\n",
        "              dengan nilai kde nya hampir mendekati nilai probabilitas nya \n",
        "        </li>\n",
        "        <li>\n",
        "            2.Pada tabel sebelah kanan nilai Spending score nilai kde dengan cdf nya hampir mendekati nilai probabilitas nya \n",
        "        </li>\n",
        "    </ul>   \n",
        "</html>"
      ]
    },
    {
      "cell_type": "markdown",
      "metadata": {
        "id": "pQo878Dx5zc2"
      },
      "source": [
        "#### Analisis probabilitas untuk data umur"
      ]
    },
    {
      "cell_type": "code",
      "execution_count": null,
      "metadata": {
        "id": "6UksQ8BS5zc2"
      },
      "outputs": [],
      "source": [
        "age_mean = tdCustomer['Age'].mean()\n",
        "age_std  = tdCustomer['Age'].std()\n",
        "\n",
        "pdf_age = norm.pdf(tdCustomer['Age'], loc = age_mean, scale = age_std)\n",
        "cdf_age = norm.cdf(tdCustomer['Age'], loc = age_mean, scale = age_std)\n",
        "\n",
        "fig, axs = plt.subplots(1,2, figsize=(8,4))\n",
        "sns.kdeplot(x = tdCustomer['Age'], lw=2, ax=axs[0])\n",
        "sns.lineplot(x = tdCustomer['Age'], y = pdf_age, lw=2, ax=axs[0])\n",
        "\n",
        "# plot grafik untuk cdf\n",
        "sns.kdeplot(x = tdCustomer['Age'], cumulative=True, lw=2, ax=axs[1])\n",
        "sns.lineplot(x = tdCustomer['Age'], y = cdf_age, lw=2, ax=axs[1])\n",
        "\n",
        "# buat legenda untuk informasi plot 1 dan 2 \n",
        "axs[0].legend([\"kde\",\"pdf age\"], shadow = True ,fontsize=9, loc=\"upper left\")\n",
        "axs[1].legend([\"kde kumulatif\", \"cdf age\"], shadow = True, fontsize=9)\n",
        "\n",
        "# buat plot sumbu y pada plot 1\n",
        "axs[0].set_ylabel(\"Probabilitas\", fontsize=12)\n",
        "\n",
        "# buat fungsi perulangan untuk sumbu x pada semua plot-\n",
        "for ax in axs:\n",
        "    ax.set_xlabel(\"age\", fontsize=12) # set font 12 pada sumbu x\n",
        "    ax.set_title(\"Probabilitas data dengan pdf dan cdf\", fontsize = 10, loc=\"left\")\n",
        "    ax.grid(axis=\"y\", color='darkgray', linestyle=':', linewidth=0.5)\n",
        "        \n",
        "ax.set_ylabel(\"Probabilitas kumulatif\", fontsize=12) # set font 12 pada sumbu y\n",
        "\n",
        "# tampilkan hasil visualisasi \n",
        "plt.tight_layout()\n",
        "plt.grid(color='darkgray', linestyle=':', linewidth=0.5)\n",
        "plt.show()"
      ]
    },
    {
      "cell_type": "markdown",
      "metadata": {
        "id": "4VtjAAzB5zc2"
      },
      "source": [
        "<html>\n",
        "    <h3>\n",
        "        <b>Insight: </b>\n",
        "    </h3>\n",
        "    <ul>\n",
        "        <li>\n",
        "            1.Pada tabel sebelah kiri nilai age memiliki probabilitas positif \n",
        "              dengan nilai kde nya mencapai nilai probabilitas nya \n",
        "        </li>\n",
        "        <li>\n",
        "            2.Pada tabel sebelah kanan nilai age nilai kde dengan cdf nya hampir mendekati nilai probabilitas nya \n",
        "        </li>\n",
        "    </ul>   \n",
        "</html>"
      ]
    },
    {
      "cell_type": "code",
      "execution_count": null,
      "metadata": {
        "id": "CKL1e9aG5zc3"
      },
      "outputs": [],
      "source": [
        "plt.figure(figsize=(8,6))\n",
        "matrix = np.triu(tdCustomer.corr())\n",
        "sns.heatmap(tdCustomer.corr(), annot=True, cmap='Blues', mask=matrix)"
      ]
    },
    {
      "cell_type": "markdown",
      "metadata": {
        "id": "fjIDQrS85zc3"
      },
      "source": [
        "<html>\n",
        "    <h3>\n",
        "        <b>Insight: </b>\n",
        "    </h3>\n",
        "    <ul>\n",
        "        <li>\n",
        "            dari visualisasi heatmap tersebut dapat diketahui bahwa korelasi antar fitur nya \n",
        "            sangat jauh atau tidak berpengaruh sama sekali\n",
        "        </li>\n",
        "    </ul>   \n",
        "</html>"
      ]
    },
    {
      "cell_type": "markdown",
      "metadata": {
        "id": "zcdz7Mj-5zc3"
      },
      "source": [
        "## **4. Segmentasi Customer dengan K-Means and Fuzzy C-Means**\n",
        "dibagian 4 ini membuat model machine learning dengan tujuan mendapatkan pola tersembunyj pada data yang dijadikan pengetahuan untuk mengelompokkan customer berdasarkan kemampuan membeli dan umur dan memberi insight pada bisnis perusahaan :\n",
        "\n",
        "<html>\n",
        "    <body>\n",
        "        <li>4.1 import library</li>\n",
        "        <li>4.2 preprocessing data</li>\n",
        "        <li>4.3 teknik elbow untuk optimasi nilai k</li>\n",
        "        <li>4.4 buat model dengan k-means</li>\n",
        "        <li>4.5 Insight dari analisis dengan Hard Clustering</li>\n",
        "        <li>4.6 buat model dengan fuzzy c-means</li>\n",
        "        <li>4.7 build model API dengan joblib</li>\n",
        "    </body>\n",
        "</html>"
      ]
    },
    {
      "cell_type": "raw",
      "metadata": {
        "id": "rW9yi25c5zc4"
      },
      "source": [
        "!pip install fuzzy-c-means"
      ]
    },
    {
      "cell_type": "raw",
      "metadata": {
        "id": "HUdZ4ENl5zc4"
      },
      "source": [
        "!pip install yellowbrick"
      ]
    },
    {
      "cell_type": "raw",
      "metadata": {
        "id": "JISXgIOR5zc4"
      },
      "source": [
        "!pip install nbconvert"
      ]
    },
    {
      "cell_type": "markdown",
      "metadata": {
        "id": "BRZ82T_95zc5"
      },
      "source": [
        "### **4.1 import library**"
      ]
    },
    {
      "cell_type": "code",
      "source": [
        "pip install fuzzy-c-means"
      ],
      "metadata": {
        "id": "IGXGANcT7HWp"
      },
      "execution_count": null,
      "outputs": []
    },
    {
      "cell_type": "code",
      "execution_count": null,
      "metadata": {
        "id": "4ooyG3K-5zc5"
      },
      "outputs": [],
      "source": [
        "from sklearn.preprocessing import StandardScaler, LabelEncoder\n",
        "from fcmeans import FCM\n",
        "from sklearn.cluster import KMeans\n",
        "from time import time\n",
        "from yellowbrick.cluster import SilhouetteVisualizer, KElbowVisualizer\n",
        "sns.set(style = 'whitegrid')"
      ]
    },
    {
      "cell_type": "markdown",
      "metadata": {
        "id": "2tOiqESj5zc5"
      },
      "source": [
        "<html>\n",
        "    <h3>\n",
        "        <b>Insight: </b>\n",
        "    </h3>\n",
        "    <p>\n",
        "        Selanjutnya membuat variabel baru untuk menampung nilai tdCustomer ke dalam \n",
        "        variabel df_Customer untuk diproses model machine learning\n",
        "    </p>\n",
        "</html>"
      ]
    },
    {
      "cell_type": "code",
      "execution_count": null,
      "metadata": {
        "id": "KTJrYhQI5zc6"
      },
      "outputs": [],
      "source": [
        "df_customer = tdCustomer\n",
        "df_customer.head()"
      ]
    },
    {
      "cell_type": "markdown",
      "metadata": {
        "id": "W7Yd3AzF5zc6"
      },
      "source": [
        "### **4.2 Preprocessing data**\n",
        "ditahap ini melakukan manipulasi data dengan `standard scaler` agar nilai data-data tersebut memiliki nilai yang optimal dan tidak ada gap jarak antar nilai nya sehingga didapat hasil yang memuaskan pada saat membangun model machine learning. Data kategorik pada kolom gender diubah menjadi data numerik dengan `Label Encoder` agar dapat diproses pada saat proses komputasi"
      ]
    },
    {
      "cell_type": "code",
      "execution_count": null,
      "metadata": {
        "id": "TFjI8X9s5zc6"
      },
      "outputs": [],
      "source": [
        "label = LabelEncoder()\n",
        "df_customer['Gender'] = label.fit_transform(df_customer['Gender'])\n",
        "\n",
        "scaler = StandardScaler()\n",
        "Gender = df_customer['Gender']\n",
        "\n",
        "df_customer.drop('Gender', axis=1)\n",
        "df_customer = pd.DataFrame(scaler.fit_transform(df_customer), columns = df_customer.columns)\n",
        "df_customer['Gender'] = Gender\n",
        "df_customer.head()"
      ]
    },
    {
      "cell_type": "markdown",
      "metadata": {
        "id": "HYBKEYfB5zc6"
      },
      "source": [
        "<html>\n",
        "    <h3>\n",
        "        <b>Insight: </b>\n",
        "    </h3>\n",
        "    <p> \n",
        "        Dapat dilihat bahwa data yang kita miliki nilai nya sudah dimanipulasi dan sekarang memiliki nilai yang beragam dan\n",
        "        jarak antar nilai nya tidak jauh satu sama lain, rentan nilai nya antara 0 dan juga 1 untuk semua data\n",
        "    </p>\n",
        "</html>"
      ]
    },
    {
      "cell_type": "markdown",
      "metadata": {
        "id": "i_FiSG1s5zc7"
      },
      "source": [
        "### **4.3 Teknik elbow (optimasi nilai k)**\n",
        "\n",
        "* Koefisien silhouette dihitung menggunakan persamaan:\n",
        "\n",
        "$$\n",
        "\\frac{b-a}{\\max{(a, b)}},\n",
        "$$\n",
        "\n",
        "* dengan $a$ adalah jarak **intra-cluster**, yaitu jarak antar elemen dalam satu cluster, dan $a$ adalah jarak **inter-cluster**, yaitu jarak suatu elemen dengan elemen lain yang tidak dalam satu cluster yang sama. \n",
        "\n",
        "* Nilai koefisien silhouette berada pada rentang antara -1 sampai 1. Jika koefisien silhouette semakin mendekati 1, maka bisa dikatakan cluster yang dihasilkan sudah optimal.\n",
        "\n",
        "* Kita bisa menggunakan fungsi `silhouette_score` dari scikit-learn."
      ]
    },
    {
      "cell_type": "code",
      "execution_count": null,
      "metadata": {
        "id": "hf-xFgRH5zc7"
      },
      "outputs": [],
      "source": [
        "wcss=[]\n",
        "\n",
        "for i in range(1,11):\n",
        "    model = KMeans(n_clusters= i, init='k-means++', random_state=0)\n",
        "    start = time()\n",
        "    model.fit(df_customer)\n",
        "    wcss.append(model.inertia_)\n",
        "    print(f\"Done fitting KMeans in {time()-start:.3f}s\")\n",
        "\n",
        "# Good part of Yellowbrick\n",
        "model = KMeans()\n",
        "visualizer = KElbowVisualizer(model, k=(2,11), metric='distortion')\n",
        "# Fit and show the performance with dataset\n",
        "visualizer.fit(df_customer)\n",
        "visualizer.show()"
      ]
    },
    {
      "cell_type": "markdown",
      "metadata": {
        "id": "6ORBO_Ad5zc7"
      },
      "source": [
        "<html>\n",
        "    <h3>\n",
        "        <b>Insight: </b>\n",
        "    </h3>\n",
        "    <p>\n",
        "        Dari hasil visualisasi tersebut didapat bahwa nilai k yang paling optimal adalah 4 dengan score <b>251.121</b>\n",
        "        sehingga kita akan menggunakan nilai k ini untuk membuat model. \n",
        "    </p>\n",
        "</html>"
      ]
    },
    {
      "cell_type": "markdown",
      "metadata": {
        "id": "_sMzU01n5zc7"
      },
      "source": [
        "### **4.4 Buat model KMeans**\n",
        "\n",
        "Oleh karena jumlah fitur yang sangat banyak, kita tidak bisa membuat visualisasi dalam bentuk 2 dimensi seperti contoh di bawah ini.\n",
        "\n",
        "<div align=\"center\">\n",
        "<img src=\"https://miro.medium.com/max/948/1*XtLZeA1AY99lTFDAshYnmw.png\" width=50%/>\n",
        "</div>"
      ]
    },
    {
      "cell_type": "markdown",
      "metadata": {
        "id": "m7aPhs8m5zdA"
      },
      "source": [
        "#### 4.4.1 Grafik pairplot untuk visualisasi customer segmentation \n",
        "Kita akan coba menggunakan beberapa pasang fitur yang ada menggunakan `pairplot` dari Seaborn.\n",
        "Sebagai contoh, kita akan gunakan hasil cluster dengan `K=4` dan menggunakan 20% dari total data karena alasan resource"
      ]
    },
    {
      "cell_type": "code",
      "execution_count": null,
      "metadata": {
        "id": "i-42SETQ5zdA"
      },
      "outputs": [],
      "source": [
        "km = KMeans(n_clusters= 4).fit(df_customer)\n",
        "tdCustomer['category'] = km.labels_\n",
        "sns.pairplot(data = tdCustomer, hue = 'category', palette = 'rainbow')\n",
        "plt.show()"
      ]
    },
    {
      "cell_type": "markdown",
      "metadata": {
        "id": "zYkEHrBN5zdB"
      },
      "source": [
        "<html>\n",
        "    <body>\n",
        "        <h3>\n",
        "            <b>Insight: </b>\n",
        "        </h3>\n",
        "        <p>\n",
        "            dengan menggunakan visualisasi pairplot kita dapat sekaligus mengetahui hubungan fitur \n",
        "            dari pola yang terbentuk berdasarkan kemiripan antar datanya, dimana hasil segmentasi\n",
        "            customer berdasarkan umur, kemampuan membeili dan skor dikelompokan dalam 4 kategori cluster\n",
        "        </p>\n",
        "    </body>\n",
        "</html>"
      ]
    },
    {
      "cell_type": "markdown",
      "metadata": {
        "id": "tpqoxDxF5zdB"
      },
      "source": [
        "#### 4.4.2 Model Interpretation\n",
        "berikut ini kita akan melakukan visualisasi scatter plot untuk mengelompokan hasil analisis yang sudah kita buat kedalam cluster yang sudah kita tentukan sebelum nya dengan menggunakan teknik metode elbow."
      ]
    },
    {
      "cell_type": "code",
      "execution_count": null,
      "metadata": {
        "id": "Mnl7Fal95zdB"
      },
      "outputs": [],
      "source": [
        "plt.figure(figsize=(10,6))\n",
        "sns.scatterplot(x = 'Annual_Income', y = 'Spending_Score', hue=\"category\",  \n",
        "                 palette=['green','orange','brown','dodgerblue'], legend='full',data = tdCustomer, s = 60)\n",
        "plt.xlabel('Annual Income (k$)')\n",
        "plt.ylabel('Spending Score (1-100)') \n",
        "plt.title('Spending Score (1-100) vs Annual Income (k$)')\n",
        "plt.show()"
      ]
    },
    {
      "cell_type": "code",
      "execution_count": null,
      "metadata": {
        "id": "Stlm0bWU5zdB"
      },
      "outputs": [],
      "source": [
        "customer = df_customer.iloc[:, [2,3]]\n",
        "customer_x = np.array(customer)\n",
        "\n",
        "Kmeans = KMeans(n_clusters= 4, init='k-means++', n_init= 1, random_state=10)\n",
        "Kmeans.fit(customer_x)\n",
        "\n",
        "customer['cluster'] = Kmeans.labels_\n",
        "customer.head()"
      ]
    },
    {
      "cell_type": "code",
      "execution_count": null,
      "metadata": {
        "id": "8YOK9PPv5zdC"
      },
      "outputs": [],
      "source": [
        "y_kmeans= Kmeans.fit_predict(customer_x)\n",
        "\n",
        "plt.figure(figsize=(6,4))\n",
        "\n",
        "plt.scatter(customer_x[y_kmeans == 0, 0], customer_x[y_kmeans == 0, 1], s = 100, c = '#FF6000', label = 'Cluster 1')\n",
        "plt.scatter(customer_x[y_kmeans == 1, 0], customer_x[y_kmeans == 1, 1], s = 100, c = '#FC2947', label = 'Cluster 2')\n",
        "plt.scatter(customer_x[y_kmeans == 2, 0], customer_x[y_kmeans == 2, 1], s = 100, c = '#FFD93D', label = 'Cluster 3')\n",
        "plt.scatter(customer_x[y_kmeans == 3, 0], customer_x[y_kmeans == 3, 1], s = 100, c = '#27E1C1', label = 'Cluster 4')\n",
        "\n",
        "centers = Kmeans.cluster_centers_\n",
        "plt.scatter(centers[:,0], centers[:,1], c='Black', s=100, alpha=1, marker =\"+\", label = 'Titik Tengah Data');\n",
        "\n",
        "plt.title('Clustering Customer Segmentation')\n",
        "plt.xlabel('Anuual_Income')\n",
        "plt.ylabel('Spending_Score')\n",
        "\n",
        "plt.grid(color='darkgray', linestyle=':', linewidth=0.5)\n",
        "plt.legend(loc='center left', bbox_to_anchor=(1, 0.5), fontsize=11)\n",
        "plt.show()"
      ]
    },
    {
      "cell_type": "code",
      "execution_count": null,
      "metadata": {
        "id": "5arKTAvW5zdC"
      },
      "outputs": [],
      "source": [
        "#3D Plot as we did the clustering on the basis of 3 input features\n",
        "fig = plt.figure(figsize=(25,20))\n",
        "ax = fig.add_subplot(111, projection='3d')\n",
        "ax.scatter(tdCustomer.Age[tdCustomer.category == 0], tdCustomer[\"Annual_Income\"][tdCustomer.category == 0], tdCustomer[\"Spending_Score\"][tdCustomer.category == 0], c='purple', s=60)\n",
        "ax.scatter(tdCustomer.Age[tdCustomer.category == 1], tdCustomer[\"Annual_Income\"][tdCustomer.category == 1], tdCustomer[\"Spending_Score\"][tdCustomer.category == 1], c='red', s=60)\n",
        "ax.scatter(tdCustomer.Age[tdCustomer.category == 2], tdCustomer[\"Annual_Income\"][tdCustomer.category == 2], tdCustomer[\"Spending_Score\"][tdCustomer.category == 2], c='blue', s=60)\n",
        "ax.scatter(tdCustomer.Age[tdCustomer.category == 3], tdCustomer[\"Annual_Income\"][tdCustomer.category == 3], tdCustomer[\"Spending_Score\"][tdCustomer.category == 3], c='green', s=60)\n",
        "ax.view_init(35, 185)\n",
        "plt.xlabel(\"Age\")\n",
        "plt.ylabel(\"Annual Income (k$)\")\n",
        "ax.set_zlabel('Spending Score (1-100)')\n",
        "plt.show()"
      ]
    },
    {
      "cell_type": "markdown",
      "metadata": {
        "id": "jSkwIJMz5zdC"
      },
      "source": [
        "### **4.5 Insight dari analisis dengan Hard Clustering**"
      ]
    },
    {
      "cell_type": "markdown",
      "metadata": {
        "id": "gKMA4Rx45zdD"
      },
      "source": [
        "#### 4.5.1 clustering insight for Age, Annual Income and Spending Score"
      ]
    },
    {
      "cell_type": "code",
      "execution_count": null,
      "metadata": {
        "id": "J2DBGklX5zdD"
      },
      "outputs": [],
      "source": [
        "fig, ax = plt.subplots(1,3, figsize=(15,5))\n",
        "\n",
        "sns.violinplot(x ='category', y ='Age', data = tdCustomer, ax=ax[0])\n",
        "sns.violinplot(x ='category', y ='Annual_Income', data = tdCustomer, ax=ax[1])\n",
        "sns.violinplot(x ='category', y ='Spending_Score', data = tdCustomer, ax=ax[2])\n",
        "plt.tight_layout()\n",
        "plt.show()"
      ]
    },
    {
      "cell_type": "code",
      "execution_count": null,
      "metadata": {
        "id": "S9_g_MFP5zdC"
      },
      "outputs": [],
      "source": [
        "CustomerGroup = tdCustomer.groupby(\"category\")[[\"Age\",\"Annual_Income\",\"Spending_Score\"]].mean()\n",
        "print(CustomerGroup.head())"
      ]
    },
    {
      "cell_type": "markdown",
      "metadata": {
        "id": "J-cPaUxL5zdD"
      },
      "source": [
        "#### 4.5 2 Filter data untuk setiap cluster "
      ]
    },
    {
      "cell_type": "code",
      "execution_count": null,
      "metadata": {
        "id": "QKDhzCPg5zdE"
      },
      "outputs": [],
      "source": [
        "group_1 = tdCustomer[tdCustomer['category']==0]\n",
        "\n",
        "fig, ax = plt.subplots(1, 3, figsize=(15, 5))\n",
        "sns.violinplot(x = 'Gender', y = 'Age', data = group_1, ax=ax[0])\n",
        "sns.violinplot(x = 'Gender', y = 'Annual_Income', data = group_1, ax=ax[1])\n",
        "sns.violinplot(x = 'Gender', y = 'Spending_Score', data = group_1, ax=ax[2])\n",
        "plt.tight_layout()\n",
        "plt.show()"
      ]
    },
    {
      "cell_type": "markdown",
      "metadata": {
        "id": "LRTiBZkw5zdE"
      },
      "source": [
        "<h3>\n",
        "    <b>Insight:</b>\n",
        "</h3>\n",
        "<p>\n",
        "Dapat dikatan kelompok pria dengan usia 35 tahun dan wanita dengan usia 39 tahun yang memiliki pendapatan dan pengeluaran yang cukup tinggi\n",
        "</p> \n",
        "<li>1.Pada cluster 1 customer wanita dengan usia 70 tahun lebih banyak dibandinkan dengan customer pria yang berusia 65 tahun</li>\n",
        "<li>2.Kemampuan membeli customer pada cluster 1 di dominasi oleh pria dengan pendapatan $k 80\n",
        "<li>3.skor pengeluaran pada cluster 1 baik customer pria maupun wanita memliki angka yang sama yaitu mencapai angka 60% dari 100%</li>"
      ]
    },
    {
      "cell_type": "code",
      "execution_count": null,
      "metadata": {
        "id": "U7-e9lEY5zdE"
      },
      "outputs": [],
      "source": [
        "group_2 = tdCustomer[tdCustomer['category']==1]\n",
        "\n",
        "fig, ax = plt.subplots(1, 3, figsize=(15,5))\n",
        "sns.violinplot(x = 'Gender', y = 'Age', data = group_2, ax=ax[0])\n",
        "sns.violinplot(x = 'Gender', y = 'Annual_Income', data = group_2, ax=ax[1])\n",
        "sns.violinplot(x = 'Gender', y = 'Spending_Score', data = group_2, ax=ax[2])\n",
        "\n",
        "plt.tight_layout()\n",
        "plt.show()"
      ]
    },
    {
      "cell_type": "markdown",
      "metadata": {
        "id": "C0-3S5nX5zdE"
      },
      "source": [
        "<h3>\n",
        "    <b>Insight:</b>\n",
        "</h3>\n",
        "<p>\n",
        "Kelompok usia pria dengan umur 27-40 tahun memiliki pendapan tinggi dan wanita dengan umur 28-40 tahun memiliki pendapatan rendah. Tetapi keduanya memiliki pengeluaran yang tinggi.\n",
        "</p> \n",
        "<li>1.Pada cluster 2 customer wanita dan pria dewasa memiliki kategori usia 27-40 tahun</li>\n",
        "<li>2.Kemampuan membeli customer pada cluster 2 di dominasi oleh pria dengan pendapatan mencapai $k 120\n",
        "<li>3.skor pengeluaran pada cluster 2 baik customer pria maupun wanita memliki persentase yang tinggi mencapai angka 90%</li>"
      ]
    },
    {
      "cell_type": "code",
      "execution_count": null,
      "metadata": {
        "id": "qKLTB69j5zdF"
      },
      "outputs": [],
      "source": [
        "group_3 = tdCustomer[tdCustomer['category']==2]\n",
        "\n",
        "fig, ax = plt.subplots(1, 3, figsize=(15,5))\n",
        "sns.violinplot(x = 'Gender', y = 'Age', data = group_3, ax=ax[0])\n",
        "sns.violinplot(x = 'Gender', y = 'Annual_Income', data = group_3, ax=ax[1])\n",
        "sns.violinplot(x = 'Gender', y = 'Spending_Score', data = group_3, ax=ax[2])\n",
        "\n",
        "plt.tight_layout()\n",
        "plt.show()"
      ]
    },
    {
      "cell_type": "markdown",
      "metadata": {
        "id": "6Ac-SRjf5zdF"
      },
      "source": [
        "<h3>\n",
        "    <b>Insight:</b>\n",
        "</h3>\n",
        "<p>\n",
        "Kelompok pria muda dengan umur 18-40 tahun memiliki pendapatan rendah, Kelompok wanita muda dengan umur 19-38 tahun memiliki pendapatan rendah, tetapi baik pria maupun wanita memiliki pengeluaran yang tinggi.\n",
        "</p> \n",
        "<li>1.Pada cluster 3 customer pria dan wanita muda memiliki kategori usia 18-40 tahun</li>\n",
        "<li>2.Kemampuan membeli customer pada cluster 2 di dominasi oleh wanita dengan pendapatan mencapai $k 62\n",
        "<li>3.skor pengeluaran pada cluster 3 baik customer pria maupun wanita memliki persentase yang sangat tinggi mencapai angka 100%</li>"
      ]
    },
    {
      "cell_type": "code",
      "execution_count": null,
      "metadata": {
        "id": "wQ-yCRsc5zdF"
      },
      "outputs": [],
      "source": [
        "group_4 = tdCustomer[tdCustomer['category']==3]\n",
        "\n",
        "fig, ax = plt.subplots(1, 3, figsize=(15,5))\n",
        "sns.violinplot(x = 'Gender', y = 'Age', data = group_4, ax=ax[0])\n",
        "sns.violinplot(x = 'Gender', y = 'Annual_Income', data = group_4, ax=ax[1])\n",
        "sns.violinplot(x = 'Gender', y = 'Spending_Score', data = group_4, ax=ax[2])\n",
        "\n",
        "plt.tight_layout()\n",
        "plt.show()"
      ]
    },
    {
      "cell_type": "markdown",
      "metadata": {
        "id": "hPPi3Vf65zdF"
      },
      "source": [
        "<h3>\n",
        "    <b>Insight:</b>\n",
        "</h3>\n",
        "<p>\n",
        "Kelompok pria dengan umur 21-58 tahun memiliki pendapatan tinggi. Kelompok wanita dengan umur 19-59 tahun memiliki pendapatan rendah, tetapi baik pria maupun wanita memiliki pengeluaran yang rendah.\n",
        "</p> \n",
        "<li>1.Pada cluster 4 customer pria dan wanita muda memiliki kategori usia 19-59 tahun</li>\n",
        "<li>2.Kemampuan membeli customer pada cluster 4 di dominasi oleh pria dengan pendapatan, tetapi rendah untuk wanita.\n",
        "<li>3.skor pengeluaran pada cluster 3 baik customer pria maupun wanita memliki persentase yang sangat rendah dibawah angka 50%</li>"
      ]
    },
    {
      "cell_type": "markdown",
      "metadata": {
        "id": "czJHjb0s5zdF"
      },
      "source": [
        "### **4.6 buat model dengan fuzzy c-means (soft clustrering)**"
      ]
    },
    {
      "cell_type": "code",
      "execution_count": null,
      "metadata": {
        "id": "9jvchJO55zdG"
      },
      "outputs": [],
      "source": [
        "from fcmeans import FCM\n",
        "\n",
        "x = df_customer.iloc[:, :4]\n",
        "x_array = np.array(x)\n",
        "\n",
        "my_model = FCM(n_clusters=4)\n",
        "my_model.fit(x_array)\n",
        "\n",
        "centers = my_model.centers\n",
        "labels = my_model.predict(x_array)\n",
        "\n",
        "tdCustomer['C-means'] = labels\n",
        "tdCustomer.head()"
      ]
    },
    {
      "cell_type": "markdown",
      "source": [
        "#### 4.6.1 Grafik Annual income vs spending score untuk soft clustering"
      ],
      "metadata": {
        "id": "MVgnrgmmkdb8"
      }
    },
    {
      "cell_type": "code",
      "execution_count": null,
      "metadata": {
        "id": "737P5Z415zdG"
      },
      "outputs": [],
      "source": [
        "plt.figure(figsize=(10,6))\n",
        "sns.scatterplot(x = 'Annual_Income',y = 'Spending_Score',hue=\"C-means\",  \n",
        "                 palette=['green','orange','brown','dodgerblue'], legend='full',data = tdCustomer, s = 60)\n",
        "plt.xlabel('Annual Income (k$)')\n",
        "plt.ylabel('Spending Score (1-100)') \n",
        "plt.title('Spending Score (1-100) vs Annual Income (k$)')\n",
        "plt.tight_layout()\n",
        "plt.show()"
      ]
    },
    {
      "cell_type": "markdown",
      "source": [
        "#### 4.6.2 Grafik Pairplot untuk soft clustering"
      ],
      "metadata": {
        "id": "gdqa5SBqky5M"
      }
    },
    {
      "cell_type": "code",
      "execution_count": null,
      "metadata": {
        "id": "E9QW8oLI5zdG"
      },
      "outputs": [],
      "source": [
        "sns.pairplot(data = tdCustomer, hue = 'C-means', palette = 'rainbow')\n",
        "plt.tight_layout()\n",
        "plt.show()"
      ]
    },
    {
      "cell_type": "markdown",
      "source": [
        "### **4.7 Insight dari analisis soft clustering**"
      ],
      "metadata": {
        "id": "3dN1kC29kNS-"
      }
    },
    {
      "cell_type": "code",
      "execution_count": null,
      "metadata": {
        "id": "3mEhHkM_5zdG"
      },
      "outputs": [],
      "source": [
        "CustomerGroup1 = tdCustomer.groupby(\"C-means\")[[\"Age\",\"Annual_Income\",\"Spending_Score\"]].mean()\n",
        "print(CustomerGroup1.head())"
      ]
    },
    {
      "cell_type": "code",
      "execution_count": null,
      "metadata": {
        "id": "WfanCBKy5zdH"
      },
      "outputs": [],
      "source": [
        "fig, ax = plt.subplots(1,3, figsize=(15,5))\n",
        "\n",
        "sns.violinplot(x ='C-means', y ='Age', data = tdCustomer, ax=ax[0])\n",
        "sns.violinplot(x ='C-means', y ='Annual_Income', data = tdCustomer, ax=ax[1])\n",
        "sns.violinplot(x ='C-means', y ='Spending_Score', data = tdCustomer, ax=ax[2])\n",
        "plt.tight_layout()\n",
        "plt.show()"
      ]
    },
    {
      "cell_type": "code",
      "execution_count": null,
      "metadata": {
        "id": "BtwKLgn85zdJ"
      },
      "outputs": [],
      "source": [
        "group_1 = tdCustomer[tdCustomer['C-means']==0]\n",
        "\n",
        "fig, ax = plt.subplots(1, 3, figsize=(15,5))\n",
        "sns.violinplot(x = 'Gender', y = 'Age', data = group_1, ax=ax[0])\n",
        "sns.violinplot(x = 'Gender', y = 'Annual_Income', data = group_1, ax=ax[1])\n",
        "sns.violinplot(x = 'Gender', y = 'Spending_Score', data = group_1, ax=ax[2])\n",
        "plt.tight_layout()\n",
        "plt.show()"
      ]
    },
    {
      "cell_type": "markdown",
      "source": [
        "<h3>\n",
        "    <b>Insight:</b>\n",
        "</h3>\n",
        "<p>\n",
        "Kelompok pria dan wanita paruh baya dengan umur 41-70 tahun memiliki pendapatan cukup tinggi, tetapi baik pria maupun wanita memiliki pengeluaran yang rendah.\n",
        "</p> \n",
        "<li>1.Pada cluster 1 customer pria dan wanita paruh baya memiliki kategori usia 41-70 tahun</li>\n",
        "<li>2.Kemampuan membeli customer pada cluster 2 di dominasi oleh pria dengan pendapatan mencapai $k 68\n",
        "<li>3.skor pengeluaran pada cluster 1 baik customer pria maupun wanita memliki persentase yang rendah mencapai 60%</li>"
      ],
      "metadata": {
        "id": "ixxOP_lmlTAf"
      }
    },
    {
      "cell_type": "code",
      "execution_count": null,
      "metadata": {
        "id": "xlLQDEuu5zdJ"
      },
      "outputs": [],
      "source": [
        "group_2 = tdCustomer[tdCustomer['C-means']==1]\n",
        "\n",
        "fig, ax = plt.subplots(1, 3, figsize=(15,5))\n",
        "sns.violinplot(x = 'Gender', y = 'Age', data = group_2, ax=ax[0])\n",
        "sns.violinplot(x = 'Gender', y = 'Annual_Income', data = group_2, ax=ax[1])\n",
        "sns.violinplot(x = 'Gender', y = 'Spending_Score', data = group_2, ax=ax[2])\n",
        "\n",
        "plt.tight_layout()\n",
        "plt.show()"
      ]
    },
    {
      "cell_type": "markdown",
      "source": [
        "<h3>\n",
        "    <b>Insight:</b>\n",
        "</h3>\n",
        "<p>\n",
        "Kelompok pria dan wanita dewasa dengan umur 26-40 tahun memiliki pendapatan tinggi, tetapi baik pria maupun wanita memiliki pengeluaran yang tinggi.\n",
        "</p> \n",
        "<li>1.Pada cluster 2 customer pria dan wanita paruh baya memiliki kategori usia 26-40 tahun</li>\n",
        "<li>2.Kemampuan membeli customer pada cluster 2 di dominasi oleh pria dengan pendapatan mencapai $k 120\n",
        "<li>3.skor pengeluaran pada cluster 2 baik customer wanita memliki persentase yang tinggi mencapai 92%</li>"
      ],
      "metadata": {
        "id": "QtR5QlkSmkQ8"
      }
    },
    {
      "cell_type": "code",
      "execution_count": null,
      "metadata": {
        "id": "qw0VvwHA5zdJ"
      },
      "outputs": [],
      "source": [
        "group_3 = tdCustomer[tdCustomer['C-means']==2]\n",
        "\n",
        "fig, ax = plt.subplots(1, 3, figsize=(15,5))\n",
        "sns.violinplot(x = 'Gender', y = 'Age', data = group_3, ax=ax[0])\n",
        "sns.violinplot(x = 'Gender', y = 'Annual_Income', data = group_3, ax=ax[1])\n",
        "sns.violinplot(x = 'Gender', y = 'Spending_Score', data = group_3, ax=ax[2])\n",
        "\n",
        "plt.tight_layout()\n",
        "plt.show()"
      ]
    },
    {
      "cell_type": "markdown",
      "source": [
        "<h3>\n",
        "    <b>Insight:</b>\n",
        "</h3>\n",
        "<p>\n",
        "Kelompok pria dan wanita muda dengan umur 19-38 tahun memiliki pendapatan rendah, tetapi baik pria maupun wanita memiliki pengeluaran yang tinggi.\n",
        "</p> \n",
        "<li>1.Pada cluster 3 customer pria dan wanita paruh baya memiliki kategori usia 19-38 tahun</li>\n",
        "<li>2.Kemampuan membeli customer pada cluster 3 di dominasi oleh pria dengan pendapatan mencapai $k 63\n",
        "<li>3.skor pengeluaran pada cluster 3 baik customer pria maupun wanita memliki persentase yang tinggi mencapai 90%</li>"
      ],
      "metadata": {
        "id": "awNrD7PwngNS"
      }
    },
    {
      "cell_type": "code",
      "execution_count": null,
      "metadata": {
        "id": "aBI4dHLT5zdK"
      },
      "outputs": [],
      "source": [
        "group_4 = tdCustomer[tdCustomer['C-means']==3]\n",
        "\n",
        "fig, ax = plt.subplots(1, 3, figsize=(15,5))\n",
        "sns.violinplot(x = 'Gender', y = 'Age', data = group_4, ax=ax[0])\n",
        "sns.violinplot(x = 'Gender', y = 'Annual_Income', data = group_4, ax=ax[1])\n",
        "sns.violinplot(x = 'Gender', y = 'Spending_Score', data = group_4, ax=ax[2])\n",
        "\n",
        "plt.tight_layout()\n",
        "plt.show()"
      ]
    },
    {
      "cell_type": "markdown",
      "source": [
        "<h3>\n",
        "    <b>Insight:</b>\n",
        "</h3>\n",
        "<p>\n",
        "Kelompok usia paruh baya dengan umur 37-69 tahun memiliki pendapatan rendah, baik pria maupun wanita memiliki pengeluaran yang rendah.\n",
        "</p> \n",
        "<li>1.Pada cluster 4 customer pria dan wanita paruh baya memiliki kategori usia 37-69 tahun</li>\n",
        "<li>2.Kemampuan membeli customer pada cluster 4 di dominasi oleh pria dengan pendapatan mencapai $k 68\n",
        "<li>3.skor pengeluaran pada cluster 4 baik customer pria maupun wanita memliki persentase yang rendah mencapai 60%</li>"
      ],
      "metadata": {
        "id": "4y53qH4nonC_"
      }
    }
  ],
  "metadata": {
    "accelerator": "GPU",
    "colab": {
      "collapsed_sections": [
        "6mQhnetMyK-r",
        "czc6cBjW2zAM"
      ],
      "private_outputs": true,
      "provenance": [],
      "include_colab_link": true
    },
    "gpuClass": "standard",
    "kernelspec": {
      "display_name": "Python 3 (ipykernel)",
      "language": "python",
      "name": "python3"
    },
    "language_info": {
      "codemirror_mode": {
        "name": "ipython",
        "version": 3
      },
      "file_extension": ".py",
      "mimetype": "text/x-python",
      "name": "python",
      "nbconvert_exporter": "python",
      "pygments_lexer": "ipython3",
      "version": "3.9.13"
    }
  },
  "nbformat": 4,
  "nbformat_minor": 0
}